{
  "nbformat": 4,
  "nbformat_minor": 0,
  "metadata": {
    "colab": {
      "name": "Cuestionario-Fernandez_Juan.ipynb",
      "provenance": [],
      "include_colab_link": true
    },
    "kernelspec": {
      "name": "python3",
      "display_name": "Python 3"
    }
  },
  "cells": [
    {
      "cell_type": "markdown",
      "metadata": {
        "id": "view-in-github",
        "colab_type": "text"
      },
      "source": [
        "<a href=\"https://colab.research.google.com/github/jumafernandez/UNLP/blob/master/Cuestionario-Fernandez_Juan.ipynb\" target=\"_parent\"><img src=\"https://colab.research.google.com/assets/colab-badge.svg\" alt=\"Open In Colab\"/></a>"
      ]
    },
    {
      "cell_type": "markdown",
      "metadata": {
        "id": "e2N7Mww3nsYi",
        "colab_type": "text"
      },
      "source": [
        "# Cuestionario Final: Minería de Textos\n",
        "\n",
        "En esta notebook se responden a las consignas del cuestionario propuesto para aprobar el curso Minería de Textos de la Especialización en Inteligencia de Datos con orientación en Big Data de la Universidad Nacional de La Plata.\n",
        "<br />\n",
        "<br />\n",
        "\n",
        "__Estudiante:__ Juan Manuel Fernandez, <br />\n",
        "__DNI:__ 30.939.704.\n",
        "\n",
        "## Parte A: Pre-procesamiento de Textos\n",
        "### Tokenización\n",
        "__1. Dé el vocabulario (y su tamaño) que se generaría cuando la tokenización se realiza por palabra (1-grama), bigrama de palabras y\n",
        "5-gramas de caracteres.__"
      ]
    },
    {
      "cell_type": "code",
      "metadata": {
        "id": "Jb-0-uASniyI",
        "colab_type": "code",
        "outputId": "1b135a7e-a534-4ba9-8ce7-143d3267634d",
        "colab": {
          "base_uri": "https://localhost:8080/",
          "height": 275
        }
      },
      "source": [
        "from sklearn.feature_extraction.text import CountVectorizer\n",
        "\n",
        "# Se define el corpus\n",
        "frase = [\"su auto grande pasó velozmente\", \"tu auto rojo es más caro\"]\n",
        "print(\"frase:{}\\n\".format(frase))\n",
        "\n",
        "# Se muestra el vocabulario y su tamaño para una tokenización de 1-grama (por palabra)\n",
        "cv = CountVectorizer(ngram_range=(1, 1)).fit(frase)\n",
        "print(\"Tamaño de vocabulario: {}\".format(len(cv.vocabulary_)))\n",
        "print(\"Vocabulario:{}\".format(cv.get_feature_names()))\n",
        "print(\"\\n\")\n",
        "\n",
        "# Se muestra el vocabulario y su tamaño para una tokenización de bigrama (2 palabras)\n",
        "cv = CountVectorizer(ngram_range=(2, 2)).fit(frase)\n",
        "print(\"Tamaño de vocabulario: {}\".format(len(cv.vocabulary_)))\n",
        "print(\"Vocabulario:\\n{}\".format(cv.get_feature_names()))\n",
        "print(\"\\n\")\n",
        "\n",
        "# Se muestra el vocabulario y su tamaño para una tokenización de 5-gramas de char (5 char)\n",
        "cv = CountVectorizer(analyzer='char',ngram_range=(5, 5)).fit(frase)\n",
        "print(\"Tamaño de vocabulario: {}\".format(len(cv.vocabulary_)))\n",
        "print(\"Vocabulario:\\n{}\".format(cv.get_feature_names()))\n"
      ],
      "execution_count": 24,
      "outputs": [
        {
          "output_type": "stream",
          "text": [
            "frase:['su auto grande pasó velozmente', 'tu auto rojo es más caro']\n",
            "\n",
            "Tamaño de vocabulario: 10\n",
            "Vocabulario:['auto', 'caro', 'es', 'grande', 'más', 'pasó', 'rojo', 'su', 'tu', 'velozmente']\n",
            "\n",
            "\n",
            "Tamaño de vocabulario: 9\n",
            "Vocabulario:\n",
            "['auto grande', 'auto rojo', 'es más', 'grande pasó', 'más caro', 'pasó velozmente', 'rojo es', 'su auto', 'tu auto']\n",
            "\n",
            "\n",
            "Tamaño de vocabulario: 43\n",
            "Vocabulario:\n",
            "[' auto', ' caro', ' es m', ' gran', ' más ', ' pasó', ' rojo', ' velo', 'ande ', 'asó v', 'auto ', 'de pa', 'e pas', 'elozm', 'es má', 'grand', 'jo es', 'lozme', 'mente', 'más c', 'nde p', 'o es ', 'o gra', 'o roj', 'ojo e', 'ozmen', 'pasó ', 'rande', 'rojo ', 's car', 's más', 'su au', 'só ve', 'to gr', 'to ro', 'tu au', 'u aut', 'uto g', 'uto r', 'veloz', 'zment', 'ás ca', 'ó vel']\n"
          ],
          "name": "stdout"
        }
      ]
    },
    {
      "cell_type": "markdown",
      "metadata": {
        "id": "XmZ9bsMNq83q",
        "colab_type": "text"
      },
      "source": [
        "__2. Dé su opinión de cuales serían las limitaciones de la primera forma de particionado (1-grama) y los posibles patrones que permitiría\n",
        "capturar los restantes dos enfoques.__ \n",
        "\n",
        "Las limitaciones del 1-grama residen en que, por un lado, no puede capturar el contexto de la palabra que si se lograría a través de un n-grama (con n>1) de palabras y en que, por otro lado, no tenemos forma de tomar la \"raíz\" de la palabra sin aplicar alguna técnica adicional (como stemming o lematización), cuestión que si podría lograrse a partir de n-gramas de caracteres.\n",
        "\n",
        "En relación a ésto último, si representamos los términos a partir de n-gramas de caracteres, las palabras con la misma raíz, pero con diferentes sufijos, darían un cierto número de n-gramas iguales más algunos diferentes, es decir, los correspondientes a los sufijos. Esta coincidencia parcial de los n-gramas producidos serviría para establecer una similitud entre ambas palabras, a pesar de que no son exactamente las mismas.\n",
        "Por la misma razón, la extracción de n-gramas puede atenuar los problemas derivados de los errores tipográficos y ortográficos [1].\n",
        "\n",
        "__3. El uso de 3-gramas de caracteres es un enfoque que ha dado buenos\n",
        "resultados en el idioma inglés. ¿Considera usted que en el español podría ser mejor utilizar un número n distinto de caracteres contiguos? Justifique.__  \n",
        "\n",
        "La cantidad de n-gramas de caracteres \"óptima\" puede variar dado que no solo del idioma del texto sino que, además, puede variar dentro del mismo idioma para contextos distintos. No obstante, algunos estudios [2] plantean que el hecho de que, en general, las palabras en el idioma español son mas largas que en el idioma inglés genera que n-gramas mayores a 3 den mejores resultados en nuestro idioma. De hecho, en el estudio citado, los mejores resultados fueron alcanzados con n-gramas con n=6 y n=7.\n"
      ]
    },
    {
      "cell_type": "markdown",
      "metadata": {
        "id": "_yFIYgarlJhm",
        "colab_type": "text"
      },
      "source": [
        "### Normalización (truncado y lematización) y POS-tagging\n",
        "\n",
        "__1. Utilizando alguno de los \"stemmers on-line\" provistos en el sitio http://textanalysisonline.com/ (por ejemplo http://textanalysisonline.com/nltk-porter-stemmer), chequee cual sería el resultado que el stemmer de Porter arrojaría para la cadena:\n",
        "_\"Some housewives felt scared when they heard a lot of mice\"___ \n",
        "\n",
        "El resultado de aplicar el stemmer de Porter es _\"Some housew felt scare when they heard a lot of mice\"_. Básicamente, los tokens que modifica son _housewives_ por _housew_ y _scared_ por _scare_.\n",
        "<br /> <br />\n",
        "\n",
        "__2. Describa cual sería el resultado que a su criterio produciría un\n",
        "sistema de lematización con la misma cadena.__ \n",
        "\n",
        "Como vimos durante el curso, la lematización en formas verbales busca el infinitivo y en sustantivos transforma a su forma singular. El lematizador de _spacy_ genera la salida que se puede ver a partir de la próxima celda de código modificando los siguientes términos:\n",
        "- Verbos: felt (feel) y heard (hear),\n",
        "- Sustantivos: housewives (housewive) y mice (mouse).\n",
        "\n",
        "Adicionalmente, transforma a minúsculas el texto y reemplaza el pronombre _they_ por PRON.\n"
      ]
    },
    {
      "cell_type": "code",
      "metadata": {
        "id": "v89CUqa3yhnq",
        "colab_type": "code",
        "outputId": "30d35da8-1006-4213-c8db-f2e7e404e7b2",
        "colab": {
          "base_uri": "https://localhost:8080/",
          "height": 51
        }
      },
      "source": [
        "import spacy\n",
        "\n",
        "# cargar el modelo del lenguaje inglés de spacy\n",
        "en_nlp = spacy.load('en')\n",
        "\n",
        "# tokenizar documento con spacy\n",
        "doc_spacy = en_nlp(\"Some housewives felt scared when they heard a lot of mice\")\n",
        "\n",
        "# imprimir lemas encontrados por spacy\n",
        "print(\"Lematización:\")\n",
        "print([token.lemma_ for token in doc_spacy])\n"
      ],
      "execution_count": 25,
      "outputs": [
        {
          "output_type": "stream",
          "text": [
            "Lematización:\n",
            "['some', 'housewife', 'feel', 'scared', 'when', '-PRON-', 'hear', 'a', 'lot', 'of', 'mouse']\n"
          ],
          "name": "stdout"
        }
      ]
    },
    {
      "cell_type": "markdown",
      "metadata": {
        "id": "6i7YoSMIzLaV",
        "colab_type": "text"
      },
      "source": [
        "__3. Describa y explique cual es el resultado que el POS-tagger online de spaCy (disponible en http://textanalysisonline.com/spacy-pos-tagging) produce con la misma cadena.__  \n",
        "\n",
        "El resultado que arroja el POS-tagger es el siguiente:\n",
        "\"Some|DET housewives|NOUN felt|VERB scared|ADJ when|ADV they|NOUN heard|VERB a|DET lot|NOUN of|ADP mice|NOUN\".\n",
        "\n",
        "El POS-tagger etiqueta los términos del vocabulario de acuerdo al rol que juegan dentro del documento en relación a si se trata de un sujeto, verbo, adjetivo, adverbio, etc.\n",
        "\n"
      ]
    },
    {
      "cell_type": "markdown",
      "metadata": {
        "id": "DRa7GZ_TjYNQ",
        "colab_type": "text"
      },
      "source": [
        "### Sentidos de las palabras y Wordnet\n",
        "__1. Defina con sus palabras a qué se denomina synset en Wordnet, y en\n",
        "que consisten las relaciones semánticas de hiperonimia, hiponimia y meronimia.__\n",
        "\n",
        "Un synset es un conjunto de elementos que refieren al mismo tema.\n",
        "A continuación se define el resto de los conceptos:\n",
        "- Hiperonimia: La hiperonimia es una relación que se establece entre una palabra de carácter más general y otra de carácter más específico, es decir, un hiperónimo designa aquel término general que puede ser utilizado para referirse a la realidad nombrada por un término más particular [3].\n",
        "- Hiponimia: Es la relación inversa a la que se produce con las hiperonimias.\n",
        "- Meronimia: Es una relación entre dos palabras donde una refiere a una parte de la otra (pie -> dedo del pié).\n",
        "<br /><br />\n",
        "\n",
        "__2. Descargando y utilizando el sistema Wordnet 2.1 disponible en https://wordnet.princeton.edu/download, determine a que distancia (en número de conceptos recorridos) se encuentra el primer sentido del sustantivo (noun) nose del concepto organ siguiendo la relación de hiperonimia (\"es una clase de\") y a que distancia del concepto de body siguiendo la relación de holonimia (\"es una\n",
        "parte de\"). A modo de ejemplo: si buscamos la palabra cat (gato) y usamos el botón \"Noun\" para ver las distintas relaciones semánticas como sustantivo, veremos que siguiendo la relación de hiperonimia, \"cat\" se encuentra a una distancia de 5 (5 saltos) en la relación de hiperonimia, dada por la siguiente secuencia: cat ⇒ feline ⇒ carnivore ⇒ placental ⇒ mammal ⇒ vertebrate.__\n",
        "\n",
        "<br />\n",
        "Hiperonimia: nose => chemoreceptor => sense organ => organ (3) <br />\n",
        "Holonimia: nose => face => head => body (3)\n",
        "\n",
        "\n",
        "### Reconocimiento de Entidades nombradas\n",
        "\n",
        "__Utlizando el reconocedor de entidades nombradas de spaCy disponible en http://textanalysisonline.com/spacy-named-entity-recognition-ner, describa cual es el resultado del mismo al aplicarlo a las siguientes sentencias: <br/>\n",
        "\"Washinton was born into slavery on the farm of James Burroughs.\" <br/>\n",
        "\"In June, Washington passed a primary seatbelt law.\" <br/>\n",
        "Explique además el porqué del etiquetado diferente de Washington en\n",
        "los dos casos.__  <br/>\n",
        "\n",
        "Para la primera oración el resultado es: <br />\n",
        "- Washinton|PERSON <br />\n",
        "- James Burroughs|PERSON  <br />\n",
        "\n",
        "Mientras que el resultado de la segunda es:  <br />\n",
        "- June|DATE  <br />\n",
        "- Washington|GPE  <br />\n",
        "\n",
        "El resultado es el descripto dado que el reconocedor de entidades describe a Washington como una persona (PERSON) en la primera oración mientras que en la segunda encuentra que se trata de una entidad geopolítica (GPE).\n"
      ]
    },
    {
      "cell_type": "markdown",
      "metadata": {
        "id": "byJkt-ynjYlT",
        "colab_type": "text"
      },
      "source": [
        "## Parte B: Representación de documentos\n",
        "\n",
        "### Representación Bolsa de Palabras (BoW)\n",
        "\n",
        "__1. Especifique cómo hubiera sido la representación de vector del primer documento, si en lugar de utilizar un pesado tf, hubiera utilizado una codificación SMART.__"
      ]
    },
    {
      "cell_type": "code",
      "metadata": {
        "id": "xox_EiIrA7jk",
        "colab_type": "code",
        "colab": {
          "base_uri": "https://localhost:8080/",
          "height": 207
        },
        "outputId": "da4943b8-7619-4c74-e5e1-c95ae0e2ef9d"
      },
      "source": [
        "documentos = [\"Los jugadores llevaban la pelota oficial al estadio\",\n",
        "              \"Durante el partido, los jugadores no tocaron la pelota\",\n",
        "              \"El estadio de Wembley es el estadio más conocido de Londres\",\n",
        "              \"Los senadores pudieron votar la ley en el congreso\",\n",
        "              \"Todos los senadores del partido opositor pidieron vetar la ley\"]\n",
        "\n",
        "primer_documento = [\"Los jugadores llevaban la pelota oficial al estadio\"]\n",
        "\n",
        "from sklearn.feature_extraction.text import TfidfVectorizer\n",
        "vect_tf_idf = TfidfVectorizer(use_idf=True, sublinear_tf=False, smooth_idf=False)\n",
        "vect_tf_idf.fit(documentos)\n",
        "\n",
        "bow_tf_idf_1 = vect_tf_idf.transform(primer_documento)\n",
        "print(\"Matriz documentos - términos (pesado tf-idf normalizado):\\n{}\".format(bow_tf_idf_1.toarray()))\n",
        "\n",
        "print(\"\\nTamaño de vocabulario: {}\".format(len(vect_tf_idf.vocabulary_)))\n",
        "\n",
        "print(\"\\nTérminos del vocabulario: {}\".format(vect_tf_idf.get_feature_names()))\n"
      ],
      "execution_count": 32,
      "outputs": [
        {
          "output_type": "stream",
          "text": [
            "Matriz documentos - términos (pesado tf-idf normalizado):\n",
            "[[0.44467176 0.         0.         0.         0.         0.\n",
            "  0.         0.         0.         0.32655323 0.32655323 0.2084347\n",
            "  0.         0.44467176 0.         0.2084347  0.         0.\n",
            "  0.44467176 0.         0.         0.32655323 0.         0.\n",
            "  0.         0.         0.         0.         0.         0.        ]]\n",
            "\n",
            "Tamaño de vocabulario: 30\n",
            "\n",
            "Términos del vocabulario: ['al', 'congreso', 'conocido', 'de', 'del', 'durante', 'el', 'en', 'es', 'estadio', 'jugadores', 'la', 'ley', 'llevaban', 'londres', 'los', 'más', 'no', 'oficial', 'opositor', 'partido', 'pelota', 'pidieron', 'pudieron', 'senadores', 'tocaron', 'todos', 'vetar', 'votar', 'wembley']\n"
          ],
          "name": "stdout"
        }
      ]
    },
    {
      "cell_type": "markdown",
      "metadata": {
        "id": "97vegtnQD3sN",
        "colab_type": "text"
      },
      "source": [
        "__En las 3 representaciones distribucionales vistas (DOR, TCOR y CSA), primero se obtenía una representación vectorial de los términos y luego se generaba una representación de los documentos haciendo una suma ponderada de los vectores de las palabras que aparecían en cada documento. Esto lleva a que la dimensionalidad de los vectores que representan a los documentos en cada caso, sea igual a la dimensionalidad de los vectores de los términos que le dieron origen. En base a las anteriores consideraciones, diga cual sería la dimensionalidad de un documento en cada uno de los enfoques distribucionales (DOR, TCOR y CSA) para los documentos del ejemplo. Para el caso de CSA, asuma que los documentos están etiquetados como pertenecientes a dos clases: \"deporte\" o \"política\".__ <br />\n",
        "\n",
        "DOR: N (cantidad de documentos).\n",
        "\n",
        "TCOR: M (cantidad de términos).\n",
        "\n",
        "CSA: R (cantidad de clases). En este caso es 2. \n",
        "\n",
        "__Para cada una de las 3 representaciones distribucionales (DOR, TCOR y CSA), obtenga la representación de vector de los términos \"pelota\" y \"partido\". En el caso de CSA, asuma que los 3 primeros documentos están etiquetados como pertenecientes a la clase \"deporte\" y los últimos dos a la clase \"política\".__\n",
        "\n",
        "A continuación se presentan los resultados para la representación DOR:\n",
        "\n",
        "\n",
        "| termino |  d1  |  d2  | d3 | d4 | d5   |\n",
        "| ------- | ---- | ---- | -- | -- | ---- |\n",
        "|pelota   | 0,73 | 0,67 | 0  | 0  | 0    |\n",
        "|partido  | 0    | 0,70 | 0  | 0  | 0,70 |\n",
        "\n",
        "<br />\n",
        "\n",
        "\n",
        "__CSA:__\n",
        "\n",
        "| termino |  deporte  |  politica  |\n",
        "| ------- |  -------  |  --------  |\n",
        "| pelota  |  2.11     |  0         |\n",
        "| partido |  1.06     |  3.29      |\n",
        "\n",
        "<br />\n",
        "\n",
        "Se puede acceder a una planilla de cálculo con los cálculos auxiliares en la siguiente ubicación:\n",
        "https://github.com/jumafernandez/UNLP/blob/master/MT/Calculos-Auxiliares.xlsx\n",
        "\n"
      ]
    },
    {
      "cell_type": "markdown",
      "metadata": {
        "id": "r0bPTeYB99RG",
        "colab_type": "text"
      },
      "source": [
        "## Categorización y clustering de documentos\n",
        "\n",
        "### Evaluación de un clasificador de textos\n",
        "\n",
        "__En base a esta matriz de confusión, se determina:__ <br />\n",
        "__1. El número total de documentos en el test set:__ 100.  <br />\n",
        "__2. El total de documentos que el clasificador categorizó como joven:__ 25. <br />\n",
        "__3. El total de documentos rotulados como adolescente por el experto:__ 57.  <br />\n",
        "__4. La exactitud (accuracy) del clasificador:__ 0.81 (81%).  <br />\n",
        "\n",
        "<br />\n",
        "\n",
        "__Calcule ahora la precision (πC) y recall (ρC) de cada clase C\n",
        "correspondiente a la matriz de confusión del ejercicio anterior.__ <br />\n",
        "\n",
        "| clase        |  recall  |  precision  |\n",
        "| ------------ | -------- | ----------- |\n",
        "|adolescente   | 0,79     |  0,92       |\n",
        "|joven         | 0,76     |  0,64       |\n",
        "|adulto        | 0,91     |  0,77       |\n",
        "\n",
        "<br />\n",
        "\n",
        "__Rara vez precision y recall son consideradas en forma aislada.\n",
        "De ser así, siempre es posible encontrar clasificadores triviales que maximizan una a expensas de la otra. Una solución es encontrar medidas combinadas como la F-measure (medida F).__ \n",
        "<br />\n",
        "__Obtenga la matriz de confusión de cada participante y complete las\n",
        "columnas faltantes, considerando que el ranking oficial se determina\n",
        "por el valor de F0,5.__\n",
        "\n",
        "\n",
        "\n",
        "![image.png](data:image/png;base64,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)\n",
        "\n",
        "\n"
      ]
    },
    {
      "cell_type": "markdown",
      "metadata": {
        "id": "ivDbxUFgKRsl",
        "colab_type": "text"
      },
      "source": [
        "###  Clustering y medidas de similitud\n",
        "\n",
        "__En base a la información mostrada previamente, calcule la similitud entre los puntos p y q utilizando el coeficiente de matching simple y el coeficiente de Jaccard.__\n",
        "\n",
        "mat-simple = 7/10 = 0.70 <br />\n",
        "\n",
        "Jaccard = 0 <br />\n",
        "\n",
        "__Diga cual es la instancia (documento) más cercana a la instancia i2, de acuerdo al coeficiente de Jaccard.__ <br />\n",
        "\n",
        "i1-i2 = 4/12 = 0.33 <br />\n",
        "i3-i2 = 5/11 = 0.45 <br />\n",
        "i4-i2 = 3/11 = 0.27 <br />\n",
        " <br />\n",
        "\n",
        "La instancia mas cercana es la i3.\n",
        "\n",
        "__Calcule la similitud coseno de los dos objetos de datos p y q que\n",
        "se muestran a continuación, que podrían representar vectores de\n",
        "documentos: <br />\n",
        "p = (3, 2, 0, 5, 0, 0, 0, 2, 0, 0) <br />\n",
        "q = (1, 0, 0, 0, 0, 0, 0, 1, 0, 2)__ <br />\n",
        "\n",
        "cos(p, q) = 5/(6.48*2.44) = 0.31. <br />\n",
        "\n",
        "### Distancia de edición mínima (Levenshtein)\n",
        "\n",
        "__Describa cual sería la distancia de Levenshtein entre las palabras INTENTION y EXECUTION justificando el resultado en base a las operaciones involucradas.__\n",
        "\n",
        "Las operaciones involucradas en la transformación son las siguientes:\n",
        "- Se modifica la I por la E,\n",
        "- Se modifica la N por la X,\n",
        "- Se modifica la T por la E,\n",
        "- Se modifica la E por la C,\n",
        "- Se modifica la N por la U.\n",
        "\n",
        "A partir de lo anterior, se puede deducir que la distancia de Levenshtein es 5.\n",
        "\n",
        "### Evaluación de agrupamientos: Coeficiente de Silueta\n",
        "\n",
        "__Suponga que con los siguientes datos (uni-dimensionales):__  <br />\n",
        "__{1, 5, 9, 20, 25, 30, 35, 52, 54, 58, 60}__, <br />\n",
        "__un algoritmo de clustering ha generado los siguientes grupos:__  <br />\n",
        "__G1 = {1, 5, 9, 20}__ <br />\n",
        "__G2 = {25, 30, 35}__ <br />\n",
        "__G3 = {52, 54, 58, 60}__ <br />  \n",
        "\n",
        "__1. Estime el coeficiente de silueta para el objeto 5 (s(5)) del grupo\n",
        "G1 y para el objeto 20 del mismo grupo.__\n",
        "<br />\n",
        "s(5) = 0.73 <br />\n",
        "s(20) = -0.33 <br />\n",
        "<br />\n",
        "\n",
        "__2. ¿Qué sucede si el objeto 20 es cambiado del grupo G1 al G2? Para\n",
        "determinar eso, recalcule nuevamente los valores de s(5) y s(20)\n",
        "con esta nueva configuración de los grupos.__\n",
        "<br />\n",
        "s(5) = 0.83 <br />\n",
        "s(20) = 0.33 <br />\n",
        "<br />\n",
        "\n",
        "__3. En base a los valores obtenidos en los dos puntos anteriores, ¿qué\n",
        "puede decir sobre la pertenencia o no del objeto 20 al grupo G1?__\n",
        "\n",
        "Claramente, el grupo de pertenencia del punto 20 es el 2 debido a que de esa manera se maximizan las distancias con los demas clusters y se minimiza la intracluster.\n",
        "\n",
        "Se puede acceder a una planilla de cálculo con los cálculos auxiliares en la siguiente ubicación:\n",
        "https://github.com/jumafernandez/UNLP/blob/master/MT/Calculos-Auxiliares.xlsx\n"
      ]
    },
    {
      "cell_type": "markdown",
      "metadata": {
        "id": "Ue5QzrbzQXoJ",
        "colab_type": "text"
      },
      "source": [
        "### Aplicaciones (opcional)\n",
        "__En el artículo _Vector-based word representations for sentiment analysis: a comparative study_ (disponible en http://sedici.unlp.edu.ar/handle/10915/56763) realizamos un estudio preliminar de distintas representaciones de documentos en un problema particular de análisis de sentimiento. Describa cuales fueron las representaciones utilizadas, algoritmos utilizados, resultados obtenidos, etc y dé su opinión sobre este trabajo en base a los conceptos vistos en el curso. Si existe otro tipo de aplicación/trabajo de su interés, puede utilizar ese artículo si lo desea realizando un análisis similar.__ <br /> <br />\n",
        "\n",
        "El objetivo del trabajo consiste en analizar el uso de varias representaciones de palabras para una tarea de análisis de sentimientos sobre críticas de películas con la base de datos de _IMDB Review Dataset_.\n",
        "\n",
        "Específicamente, el trabajo se centra en analizar representaciones basadas en vectores al considerar cuatro métodos del área de distribución (_SOA, LSA, LDA, DOR_) y un representante del enfoque de representación distribuida (_Word2Vec_). A su vez, el estudio toma la representación de _bag of words_ como línea de base.\n",
        "\n",
        "Para la comparación de _performance_ se decidió clasificar las críticas a partir de dos técnicas de clasificación diferentes: _naive Bayes_ y _Lib linear_. \n",
        "Una cuestión importante que contribuye a que el experimento sea reproducible es que constan en el trabajo los parámetros seteados para los mismos.\n",
        "\n",
        "Por último, se decidió evaluar los resultados en función de la métrica de selección de modelos _accuracy_ por encima de otras clásicas -y que trabajamos durante el curso- como _recall, precisión_ o _F-score_.\n"
      ]
    },
    {
      "cell_type": "markdown",
      "metadata": {
        "id": "E6uda3RRt_fF",
        "colab_type": "text"
      },
      "source": [
        "## Referencias\n",
        "[1] Pollock, J. J., & Zamora, A. (1984). System design for detection and correction of spelling errors in scientific and scholarly text. Journal of the American Society for Information Science, 35(2), 104-109.\n",
        "\n",
        "[2] Figuerola, C. G., Gómez, R., & de San Román, E. L. (2000). Stemming and n-grams in spanish: an evaluation of their impact on information retrieval. Journal of Information Science, 26(6), 461-467.\n",
        "\n",
        "[3]\tProlee (2019). Hiperonimia. Recuperado de http://www.anep.edu.uy/prolee/index.php/glosario/49-hiperonimia.\n",
        "\n",
        "[4]\tProlee (2019). Hiponimia. Recuperado de http://www.anep.edu.uy/prolee/index.php/glosario/51-hiponimia.\n"
      ]
    }
  ]
}