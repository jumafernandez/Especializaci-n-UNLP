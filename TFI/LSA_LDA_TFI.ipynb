{
  "nbformat": 4,
  "nbformat_minor": 0,
  "metadata": {
    "colab": {
      "name": "LSA/LDA-TFI.ipynb",
      "provenance": [],
      "collapsed_sections": [],
      "machine_shape": "hm",
      "include_colab_link": true
    },
    "kernelspec": {
      "name": "python3",
      "display_name": "Python 3"
    },
    "accelerator": "GPU"
  },
  "cells": [
    {
      "cell_type": "markdown",
      "metadata": {
        "id": "view-in-github",
        "colab_type": "text"
      },
      "source": [
        "<a href=\"https://colab.research.google.com/github/jumafernandez/UNLP/blob/master/TFI/LSA_LDA_TFI.ipynb\" target=\"_parent\"><img src=\"https://colab.research.google.com/assets/colab-badge.svg\" alt=\"Open In Colab\"/></a>"
      ]
    },
    {
      "cell_type": "markdown",
      "metadata": {
        "id": "V0UBlkyp_gme"
      },
      "source": [
        "#### Cargo las librerías\n",
        "\n"
      ]
    },
    {
      "cell_type": "code",
      "metadata": {
        "id": "ui5Uo0hn_eGm"
      },
      "source": [
        "import pandas as pd\n",
        "import numpy as np\n",
        "import re\n",
        "import nltk\n",
        "from nltk.stem import WordNetLemmatizer\n",
        "from nltk import word_tokenize\n",
        "from nltk.corpus import stopwords\n",
        "import string\n",
        "import matplotlib.pyplot as plt\n",
        "import gensim\n",
        "import numpy as np\n",
        "from gensim.models import CoherenceModel, LdaModel, LsiModel, HdpModel\n",
        "from gensim.models.wrappers import LdaMallet\n",
        "from gensim.corpora import Dictionary\n"
      ],
      "execution_count": null,
      "outputs": []
    },
    {
      "cell_type": "markdown",
      "metadata": {
        "id": "SBS3r7AFAEtg"
      },
      "source": [
        "### Levanto los datos"
      ]
    },
    {
      "cell_type": "code",
      "metadata": {
        "id": "6kQ04dhh_zVj",
        "colab": {
          "base_uri": "https://localhost:8080/"
        },
        "outputId": "bb49929f-5572-47a7-f274-4f168b404506"
      },
      "source": [
        "# Descargo el archivo con las consultas que está en Github\n",
        "!wget https://raw.githubusercontent.com/jumafernandez/UNLP/master/TFI/data/Correos_Seleccionados_y_Etiquetados.csv\n",
        "\n",
        "# Leo el archivo en un dataframe\n",
        "import pandas as pd\n",
        "\n",
        "df = pd.read_csv('Correos_Seleccionados_y_Etiquetados.csv', delimiter=\"|\")\n",
        "df.info()\n",
        "\n",
        "# Vemos la cantidad de Instancias por clase\n",
        "df.Clase.value_counts()\n",
        "\n",
        "# Transformamos todas las Clases minoritarias (Puedo ir variando la cantidad de clases que derivo a la Clase \"Otras Consultas\")\n",
        "cantidad_clases=3\n",
        "clases = df.Clase.value_counts()\n",
        "clases_minoritarias = clases.iloc[cantidad_clases:].keys().to_list()\n",
        "df.Clase[df['Clase'].isin(clases_minoritarias)] = \"Otras Consultas\"\n",
        "\n",
        "df.Clase.value_counts()"
      ],
      "execution_count": null,
      "outputs": [
        {
          "output_type": "stream",
          "text": [
            "--2020-12-07 22:48:00--  https://raw.githubusercontent.com/jumafernandez/UNLP/master/TFI/data/Correos_Seleccionados_y_Etiquetados.csv\n",
            "Resolving raw.githubusercontent.com (raw.githubusercontent.com)... 151.101.0.133, 151.101.64.133, 151.101.128.133, ...\n",
            "Connecting to raw.githubusercontent.com (raw.githubusercontent.com)|151.101.0.133|:443... connected.\n",
            "HTTP request sent, awaiting response... 200 OK\n",
            "Length: 448336 (438K) [text/plain]\n",
            "Saving to: ‘Correos_Seleccionados_y_Etiquetados.csv.1’\n",
            "\n",
            "\r          Correos_S   0%[                    ]       0  --.-KB/s               \rCorreos_Seleccionad 100%[===================>] 437.83K  --.-KB/s    in 0.02s   \n",
            "\n",
            "2020-12-07 22:48:00 (24.1 MB/s) - ‘Correos_Seleccionados_y_Etiquetados.csv.1’ saved [448336/448336]\n",
            "\n",
            "<class 'pandas.core.frame.DataFrame'>\n",
            "RangeIndex: 1000 entries, 0 to 999\n",
            "Data columns (total 11 columns):\n",
            " #   Column             Non-Null Count  Dtype \n",
            "---  ------             --------------  ----- \n",
            " 0   Fecha              1000 non-null   object\n",
            " 1   Hora               1000 non-null   object\n",
            " 2   Apellido y Nombre  1000 non-null   object\n",
            " 3   Legajo             691 non-null    object\n",
            " 4   Documento          1000 non-null   int64 \n",
            " 5   Carrera            1000 non-null   object\n",
            " 6   Teléfono           851 non-null    object\n",
            " 7   E-mail             1000 non-null   object\n",
            " 8   Consulta           1000 non-null   object\n",
            " 9   Respuesta          1000 non-null   object\n",
            " 10  Clase              1000 non-null   object\n",
            "dtypes: int64(1), object(10)\n",
            "memory usage: 86.1+ KB\n"
          ],
          "name": "stdout"
        },
        {
          "output_type": "stream",
          "text": [
            "/usr/local/lib/python3.6/dist-packages/ipykernel_launcher.py:17: SettingWithCopyWarning: \n",
            "A value is trying to be set on a copy of a slice from a DataFrame\n",
            "\n",
            "See the caveats in the documentation: https://pandas.pydata.org/pandas-docs/stable/user_guide/indexing.html#returning-a-view-versus-a-copy\n"
          ],
          "name": "stderr"
        },
        {
          "output_type": "execute_result",
          "data": {
            "text/plain": [
              "Otras Consultas             399\n",
              "Boleto Universitario        240\n",
              "Ingreso a la Universidad    232\n",
              "Requisitos de Ingreso       129\n",
              "Name: Clase, dtype: int64"
            ]
          },
          "metadata": {
            "tags": []
          },
          "execution_count": 5
        }
      ]
    },
    {
      "cell_type": "code",
      "metadata": {
        "id": "550zxhdVCl6y",
        "colab": {
          "base_uri": "https://localhost:8080/",
          "height": 162
        },
        "outputId": "f7bde75c-a786-4999-ecc1-894f5d55026f"
      },
      "source": [
        "# Miro las primeras dos consultas\n",
        "df.head(2)"
      ],
      "execution_count": null,
      "outputs": [
        {
          "output_type": "execute_result",
          "data": {
            "text/html": [
              "<div>\n",
              "<style scoped>\n",
              "    .dataframe tbody tr th:only-of-type {\n",
              "        vertical-align: middle;\n",
              "    }\n",
              "\n",
              "    .dataframe tbody tr th {\n",
              "        vertical-align: top;\n",
              "    }\n",
              "\n",
              "    .dataframe thead th {\n",
              "        text-align: right;\n",
              "    }\n",
              "</style>\n",
              "<table border=\"1\" class=\"dataframe\">\n",
              "  <thead>\n",
              "    <tr style=\"text-align: right;\">\n",
              "      <th></th>\n",
              "      <th>Fecha</th>\n",
              "      <th>Hora</th>\n",
              "      <th>Apellido y Nombre</th>\n",
              "      <th>Legajo</th>\n",
              "      <th>Documento</th>\n",
              "      <th>Carrera</th>\n",
              "      <th>Teléfono</th>\n",
              "      <th>E-mail</th>\n",
              "      <th>Consulta</th>\n",
              "      <th>Respuesta</th>\n",
              "      <th>Clase</th>\n",
              "    </tr>\n",
              "  </thead>\n",
              "  <tbody>\n",
              "    <tr>\n",
              "      <th>0</th>\n",
              "      <td>08-05-2019</td>\n",
              "      <td>10:49:26</td>\n",
              "      <td>florencia  roland</td>\n",
              "      <td>169336</td>\n",
              "      <td>33829069</td>\n",
              "      <td>licenciatura en enfermeria(52)</td>\n",
              "      <td>1121550750</td>\n",
              "      <td>rolandflorencia@gmail.com</td>\n",
              "      <td>hola quiero anotarme a las materias ,para el s...</td>\n",
              "      <td>te falta presentar alguna de las vacunas   sal...</td>\n",
              "      <td>Otras Consultas</td>\n",
              "    </tr>\n",
              "    <tr>\n",
              "      <th>1</th>\n",
              "      <td>08-08-2017</td>\n",
              "      <td>12:29:59</td>\n",
              "      <td>lourdes vanesa gómez</td>\n",
              "      <td>150786</td>\n",
              "      <td>33220121</td>\n",
              "      <td>licenciatura en enfermeria(52)</td>\n",
              "      <td>1131066251</td>\n",
              "      <td>vane_male@outlook.com</td>\n",
              "      <td>hola buenos días! quería saber cuando voy a po...</td>\n",
              "      <td>lo que falta es que la coordinación autorice l...</td>\n",
              "      <td>Otras Consultas</td>\n",
              "    </tr>\n",
              "  </tbody>\n",
              "</table>\n",
              "</div>"
            ],
            "text/plain": [
              "        Fecha  ...            Clase\n",
              "0  08-05-2019  ...  Otras Consultas\n",
              "1  08-08-2017  ...  Otras Consultas\n",
              "\n",
              "[2 rows x 11 columns]"
            ]
          },
          "metadata": {
            "tags": []
          },
          "execution_count": 6
        }
      ]
    },
    {
      "cell_type": "code",
      "metadata": {
        "id": "SX-drtppC9nB",
        "colab": {
          "base_uri": "https://localhost:8080/",
          "height": 180
        },
        "outputId": "9a0157c6-3819-44d6-fd6a-0cfd25e251c2"
      },
      "source": [
        "# Chequeo dimensionalidad\n",
        "df.shape"
      ],
      "execution_count": null,
      "outputs": [
        {
          "output_type": "error",
          "ename": "NameError",
          "evalue": "ignored",
          "traceback": [
            "\u001b[0;31m---------------------------------------------------------------------------\u001b[0m",
            "\u001b[0;31mNameError\u001b[0m                                 Traceback (most recent call last)",
            "\u001b[0;32m<ipython-input-1-047bc820e996>\u001b[0m in \u001b[0;36m<module>\u001b[0;34m()\u001b[0m\n\u001b[1;32m      1\u001b[0m \u001b[0;31m# Chequeo dimensionalidad\u001b[0m\u001b[0;34m\u001b[0m\u001b[0;34m\u001b[0m\u001b[0;34m\u001b[0m\u001b[0m\n\u001b[0;32m----> 2\u001b[0;31m \u001b[0mdf\u001b[0m\u001b[0;34m.\u001b[0m\u001b[0mshape\u001b[0m\u001b[0;34m\u001b[0m\u001b[0;34m\u001b[0m\u001b[0m\n\u001b[0m",
            "\u001b[0;31mNameError\u001b[0m: name 'df' is not defined"
          ]
        }
      ]
    },
    {
      "cell_type": "code",
      "metadata": {
        "id": "bflY9AU1Vbh5",
        "colab": {
          "base_uri": "https://localhost:8080/"
        },
        "outputId": "3554c2c4-a771-43d8-8c26-a2d42a7a194b"
      },
      "source": [
        "# Verifico las columnas del df\n",
        "df.info()"
      ],
      "execution_count": null,
      "outputs": [
        {
          "output_type": "stream",
          "text": [
            "<class 'pandas.core.frame.DataFrame'>\n",
            "Int64Index: 606 entries, 0 to 999\n",
            "Data columns (total 11 columns):\n",
            " #   Column             Non-Null Count  Dtype \n",
            "---  ------             --------------  ----- \n",
            " 0   Fecha              606 non-null    object\n",
            " 1   Hora               606 non-null    object\n",
            " 2   Apellido y Nombre  606 non-null    object\n",
            " 3   Legajo             606 non-null    object\n",
            " 4   Documento          606 non-null    int64 \n",
            " 5   Carrera            606 non-null    object\n",
            " 6   Teléfono           606 non-null    object\n",
            " 7   E-mail             606 non-null    object\n",
            " 8   Consulta           606 non-null    object\n",
            " 9   Respuesta          606 non-null    object\n",
            " 10  Clase              606 non-null    object\n",
            "dtypes: int64(1), object(10)\n",
            "memory usage: 56.8+ KB\n"
          ],
          "name": "stdout"
        }
      ]
    },
    {
      "cell_type": "markdown",
      "metadata": {
        "id": "F6qwR5CAahLp"
      },
      "source": [
        "### Realizo el preprocesamiento de los datos"
      ]
    },
    {
      "cell_type": "code",
      "metadata": {
        "id": "ZeVWKQH4kylR"
      },
      "source": [
        "# Defino una lista negra de palabras adicionales a las stop_words para borrar\n",
        "black_list = ['más', 'mas', 'unir', 'paises', 'pais', 'espa', 'no', 'os', 'a', 'compa', 'acompa', 'off', 'and', 'grecia', 'the','it', 'to',\n",
        "              'd',  'et',  'dame',  'il',  'dans', 'that',  'as',   'for',  'it',  'elections',  'would',  'this',  'with', 'york', 'obama', 'chavez', 'gadafi']"
      ],
      "execution_count": null,
      "outputs": []
    },
    {
      "cell_type": "code",
      "metadata": {
        "id": "H_7Un4fSFbdC"
      },
      "source": [
        "# Creo una función que limpia el texto en español, borrando caracteres no alfanuméricos, removiendo duplicados, dígitos, etc, etc\n",
        "def cleaner(word):\n",
        "  word = re.sub(r'((http|https)\\:\\/\\/)?[a-zA-Z0-9\\.\\/\\?\\:@\\-_=#]+\\.([a-zA-Z]){2,6}([a-zA-Z0-9\\.\\&\\/\\?\\:@\\-_=#])*', '', word, flags=re.MULTILINE)\n",
        "  word = re.sub(r'(?::|;|=)(?:-)?(?:\\)|\\(|D|P)', \"\", word)\n",
        "  word = re.sub(r'ee.uu', 'eeuu', word)\n",
        "  word = re.sub(r'\\#\\.', '', word)\n",
        "  word = re.sub(r'\\n', '', word)\n",
        "  word = re.sub(r',', '', word)\n",
        "  word = re.sub(r'\\-', ' ', word)\n",
        "  word = re.sub(r'\\.{3}', ' ', word)\n",
        "  word = re.sub(r'a{2,}', 'a', word)\n",
        "  word = re.sub(r'é{2,}', 'é', word)\n",
        "  word = re.sub(r'i{2,}', 'i', word)\n",
        "  word = re.sub(r'ja{2,}', 'ja', word) \n",
        "  word = re.sub(r'á', 'a', word)\n",
        "  word = re.sub(r'é', 'e', word)\n",
        "  word = re.sub(r'í', 'i', word)\n",
        "  word = re.sub(r'ó', 'o', word)\n",
        "  word = re.sub(r'ú', 'u', word)  \n",
        "  word = re.sub('[^a-zA-Z]', ' ', word)\n",
        "  list_word_clean = []\n",
        "  for w1 in word.split(\" \"):\n",
        "    if  w1.lower() not in stopwords:\n",
        "      list_word_clean.append(w1.lower())\n",
        "\n",
        "  bigram_list = bigram[list_word_clean]\n",
        "  out_text = lemmatization(\" \".join(bigram_list))\n",
        "  return out_text"
      ],
      "execution_count": null,
      "outputs": []
    },
    {
      "cell_type": "markdown",
      "metadata": {
        "id": "vmgAfhN6bWrR"
      },
      "source": [
        "Se crea la función para seleccionar **solo sustantivos** para nuestros datos, de esta manera estamos eliminando adverbio, adjetivos, verbos, etc. Esto está hecho con spacy"
      ]
    },
    {
      "cell_type": "code",
      "metadata": {
        "id": "RJPNgE-_xlTA"
      },
      "source": [
        "def lemmatization(texts, allowed_postags=['NOUN']):\n",
        "    texts_out = [ token.text for token in nlp(texts) if token.pos_ in \n",
        "                 allowed_postags and token.text not in black_list and len(token.text)>2]\n",
        "    return texts_out"
      ],
      "execution_count": null,
      "outputs": []
    },
    {
      "cell_type": "markdown",
      "metadata": {
        "id": "3wMjzGX9bscx"
      },
      "source": [
        "Transformamos el dataframe a una lista como solicita gensim"
      ]
    },
    {
      "cell_type": "code",
      "metadata": {
        "id": "IZhWiKxY4Gx2",
        "colab": {
          "base_uri": "https://localhost:8080/"
        },
        "outputId": "04d0aa62-6846-49e7-8f56-13a18ea3fa4a"
      },
      "source": [
        "len(df.Consulta.to_list())"
      ],
      "execution_count": null,
      "outputs": [
        {
          "output_type": "execute_result",
          "data": {
            "text/plain": [
              "606"
            ]
          },
          "metadata": {
            "tags": []
          },
          "execution_count": 12
        }
      ]
    },
    {
      "cell_type": "markdown",
      "metadata": {
        "id": "sttvo4cjb3Xw"
      },
      "source": [
        "Luego buscamos bigrama en nuestros datos, es decir, un par de palabras que juntas tienen más significado para nuestro modelo."
      ]
    },
    {
      "cell_type": "code",
      "metadata": {
        "id": "mPvcc00U4Cf1",
        "colab": {
          "base_uri": "https://localhost:8080/"
        },
        "outputId": "76a79676-b965-462d-ba60-4a895ea3fb04"
      },
      "source": [
        "%%time\n",
        "bigram = gensim.models.Phrases(df.Consulta.to_list()) "
      ],
      "execution_count": null,
      "outputs": [
        {
          "output_type": "stream",
          "text": [
            "CPU times: user 150 ms, sys: 0 ns, total: 150 ms\n",
            "Wall time: 149 ms\n"
          ],
          "name": "stdout"
        }
      ]
    },
    {
      "cell_type": "markdown",
      "metadata": {
        "id": "WtXW9eY2cW0S"
      },
      "source": [
        "Verificamos el output"
      ]
    },
    {
      "cell_type": "code",
      "metadata": {
        "id": "mz_o4wsC45S4",
        "colab": {
          "base_uri": "https://localhost:8080/"
        },
        "outputId": "16945e4f-fbca-4970-92d4-35fcf156e0fe"
      },
      "source": [
        "bigram[df.Consulta.to_list()[0].split()]"
      ],
      "execution_count": null,
      "outputs": [
        {
          "output_type": "stream",
          "text": [
            "/usr/local/lib/python3.6/dist-packages/gensim/models/phrases.py:598: UserWarning: For a faster implementation, use the gensim.models.phrases.Phraser class\n",
            "  warnings.warn(\"For a faster implementation, use the gensim.models.phrases.Phraser class\")\n"
          ],
          "name": "stderr"
        },
        {
          "output_type": "execute_result",
          "data": {
            "text/plain": [
              "['hola',\n",
              " 'quiero',\n",
              " 'anotarme',\n",
              " 'a',\n",
              " 'las',\n",
              " 'materias',\n",
              " ',para',\n",
              " 'el',\n",
              " 'segundo',\n",
              " 'cuatri',\n",
              " ',pero',\n",
              " 'no',\n",
              " 'puedo',\n",
              " ',dice',\n",
              " 'que',\n",
              " 'no',\n",
              " 'estoy',\n",
              " 'en',\n",
              " 'condiciones,me',\n",
              " 'podrian',\n",
              " 'decir',\n",
              " 'que',\n",
              " 'tengo',\n",
              " 'que',\n",
              " 'hacer,muchas',\n",
              " 'gracias']"
            ]
          },
          "metadata": {
            "tags": []
          },
          "execution_count": 16
        }
      ]
    },
    {
      "cell_type": "code",
      "metadata": {
        "id": "kJzcwy4ORHD1",
        "colab": {
          "base_uri": "https://localhost:8080/"
        },
        "outputId": "6f1fe0b3-dc64-44b0-8f4c-e7f4510f6cf1"
      },
      "source": [
        "import nltk\n",
        "nltk.download('stopwords')\n",
        "nltk.download('punkt')\n"
      ],
      "execution_count": null,
      "outputs": [
        {
          "output_type": "stream",
          "text": [
            "[nltk_data] Downloading package stopwords to /root/nltk_data...\n",
            "[nltk_data]   Unzipping corpora/stopwords.zip.\n",
            "[nltk_data] Downloading package punkt to /root/nltk_data...\n",
            "[nltk_data]   Unzipping tokenizers/punkt.zip.\n"
          ],
          "name": "stdout"
        },
        {
          "output_type": "execute_result",
          "data": {
            "text/plain": [
              "True"
            ]
          },
          "metadata": {
            "tags": []
          },
          "execution_count": 17
        }
      ]
    },
    {
      "cell_type": "code",
      "metadata": {
        "id": "pLssTi3sRbnI"
      },
      "source": [
        "from nltk import word_tokenize\n",
        "from nltk.corpus import stopwords\n",
        "stop = set(stopwords.words('spanish'))\n",
        "\n",
        "additional_stopwords=set(black_list)\n",
        "\n",
        "stopwords = stop.union(additional_stopwords)"
      ],
      "execution_count": null,
      "outputs": []
    },
    {
      "cell_type": "markdown",
      "metadata": {
        "id": "_myg8aFowQ-Y"
      },
      "source": [
        "Usamos spacy para lematizar las palabras"
      ]
    },
    {
      "cell_type": "code",
      "metadata": {
        "id": "HciZjXBfwbXM",
        "colab": {
          "base_uri": "https://localhost:8080/"
        },
        "outputId": "f9b6cab4-58de-48dd-f533-a3e997b38be1"
      },
      "source": [
        "!python -m spacy download es_core_news_md"
      ],
      "execution_count": null,
      "outputs": [
        {
          "output_type": "stream",
          "text": [
            "Collecting es_core_news_md==2.2.5\n",
            "\u001b[?25l  Downloading https://github.com/explosion/spacy-models/releases/download/es_core_news_md-2.2.5/es_core_news_md-2.2.5.tar.gz (78.4MB)\n",
            "\u001b[K     |████████████████████████████████| 78.4MB 1.2MB/s \n",
            "\u001b[?25hRequirement already satisfied: spacy>=2.2.2 in /usr/local/lib/python3.6/dist-packages (from es_core_news_md==2.2.5) (2.2.4)\n",
            "Requirement already satisfied: murmurhash<1.1.0,>=0.28.0 in /usr/local/lib/python3.6/dist-packages (from spacy>=2.2.2->es_core_news_md==2.2.5) (1.0.4)\n",
            "Requirement already satisfied: wasabi<1.1.0,>=0.4.0 in /usr/local/lib/python3.6/dist-packages (from spacy>=2.2.2->es_core_news_md==2.2.5) (0.8.0)\n",
            "Requirement already satisfied: blis<0.5.0,>=0.4.0 in /usr/local/lib/python3.6/dist-packages (from spacy>=2.2.2->es_core_news_md==2.2.5) (0.4.1)\n",
            "Requirement already satisfied: tqdm<5.0.0,>=4.38.0 in /usr/local/lib/python3.6/dist-packages (from spacy>=2.2.2->es_core_news_md==2.2.5) (4.41.1)\n",
            "Requirement already satisfied: srsly<1.1.0,>=1.0.2 in /usr/local/lib/python3.6/dist-packages (from spacy>=2.2.2->es_core_news_md==2.2.5) (1.0.4)\n",
            "Requirement already satisfied: requests<3.0.0,>=2.13.0 in /usr/local/lib/python3.6/dist-packages (from spacy>=2.2.2->es_core_news_md==2.2.5) (2.23.0)\n",
            "Requirement already satisfied: plac<1.2.0,>=0.9.6 in /usr/local/lib/python3.6/dist-packages (from spacy>=2.2.2->es_core_news_md==2.2.5) (1.1.3)\n",
            "Requirement already satisfied: preshed<3.1.0,>=3.0.2 in /usr/local/lib/python3.6/dist-packages (from spacy>=2.2.2->es_core_news_md==2.2.5) (3.0.4)\n",
            "Requirement already satisfied: thinc==7.4.0 in /usr/local/lib/python3.6/dist-packages (from spacy>=2.2.2->es_core_news_md==2.2.5) (7.4.0)\n",
            "Requirement already satisfied: setuptools in /usr/local/lib/python3.6/dist-packages (from spacy>=2.2.2->es_core_news_md==2.2.5) (50.3.2)\n",
            "Requirement already satisfied: catalogue<1.1.0,>=0.0.7 in /usr/local/lib/python3.6/dist-packages (from spacy>=2.2.2->es_core_news_md==2.2.5) (1.0.0)\n",
            "Requirement already satisfied: numpy>=1.15.0 in /usr/local/lib/python3.6/dist-packages (from spacy>=2.2.2->es_core_news_md==2.2.5) (1.18.5)\n",
            "Requirement already satisfied: cymem<2.1.0,>=2.0.2 in /usr/local/lib/python3.6/dist-packages (from spacy>=2.2.2->es_core_news_md==2.2.5) (2.0.4)\n",
            "Requirement already satisfied: chardet<4,>=3.0.2 in /usr/local/lib/python3.6/dist-packages (from requests<3.0.0,>=2.13.0->spacy>=2.2.2->es_core_news_md==2.2.5) (3.0.4)\n",
            "Requirement already satisfied: idna<3,>=2.5 in /usr/local/lib/python3.6/dist-packages (from requests<3.0.0,>=2.13.0->spacy>=2.2.2->es_core_news_md==2.2.5) (2.10)\n",
            "Requirement already satisfied: urllib3!=1.25.0,!=1.25.1,<1.26,>=1.21.1 in /usr/local/lib/python3.6/dist-packages (from requests<3.0.0,>=2.13.0->spacy>=2.2.2->es_core_news_md==2.2.5) (1.24.3)\n",
            "Requirement already satisfied: certifi>=2017.4.17 in /usr/local/lib/python3.6/dist-packages (from requests<3.0.0,>=2.13.0->spacy>=2.2.2->es_core_news_md==2.2.5) (2020.11.8)\n",
            "Requirement already satisfied: importlib-metadata>=0.20; python_version < \"3.8\" in /usr/local/lib/python3.6/dist-packages (from catalogue<1.1.0,>=0.0.7->spacy>=2.2.2->es_core_news_md==2.2.5) (2.0.0)\n",
            "Requirement already satisfied: zipp>=0.5 in /usr/local/lib/python3.6/dist-packages (from importlib-metadata>=0.20; python_version < \"3.8\"->catalogue<1.1.0,>=0.0.7->spacy>=2.2.2->es_core_news_md==2.2.5) (3.4.0)\n",
            "Building wheels for collected packages: es-core-news-md\n",
            "  Building wheel for es-core-news-md (setup.py) ... \u001b[?25l\u001b[?25hdone\n",
            "  Created wheel for es-core-news-md: filename=es_core_news_md-2.2.5-cp36-none-any.whl size=79649483 sha256=8c15adcdc0f02baf7bba3cfca584eb50e8b4baf27f38929047c60838c30f9385\n",
            "  Stored in directory: /tmp/pip-ephem-wheel-cache-uwt3ad95/wheels/b7/bb/a3/29ab5cf80c2c0a8fa0f2af8402fdace3f159e8265f0fdcbcdb\n",
            "Successfully built es-core-news-md\n",
            "Installing collected packages: es-core-news-md\n",
            "Successfully installed es-core-news-md-2.2.5\n",
            "\u001b[38;5;2m✔ Download and installation successful\u001b[0m\n",
            "You can now load the model via spacy.load('es_core_news_md')\n"
          ],
          "name": "stdout"
        }
      ]
    },
    {
      "cell_type": "code",
      "metadata": {
        "id": "U_VvsxoSwjo3",
        "colab": {
          "base_uri": "https://localhost:8080/"
        },
        "outputId": "7bd7088d-b0e9-4e5f-a01e-798417051692"
      },
      "source": [
        "import spacy\n",
        "import spacy.cli\n",
        "spacy.cli.download(\"es_core_news_md\")\n",
        "import es_core_news_md\n",
        "nlp = es_core_news_md.load()\n",
        "\n",
        "#nlp = spacy.load('/usr/local/lib/python3.6/dist-packages/es_core_news_md/es_core_news_md-2.1.0')"
      ],
      "execution_count": null,
      "outputs": [
        {
          "output_type": "stream",
          "text": [
            "\u001b[38;5;2m✔ Download and installation successful\u001b[0m\n",
            "You can now load the model via spacy.load('es_core_news_md')\n"
          ],
          "name": "stdout"
        }
      ]
    },
    {
      "cell_type": "markdown",
      "metadata": {
        "id": "846CnLGadRmo"
      },
      "source": [
        "Probamos la función para la limpieza de texto"
      ]
    },
    {
      "cell_type": "code",
      "metadata": {
        "id": "yDBAXRQuOnOG",
        "colab": {
          "base_uri": "https://localhost:8080/",
          "height": 52
        },
        "outputId": "b0d56eff-f5af-405d-fcfe-f5322839b09d"
      },
      "source": [
        "df.Consulta[0]"
      ],
      "execution_count": null,
      "outputs": [
        {
          "output_type": "execute_result",
          "data": {
            "application/vnd.google.colaboratory.intrinsic+json": {
              "type": "string"
            },
            "text/plain": [
              "'hola quiero anotarme a las materias ,para el segundo cuatri ,pero no puedo ,dice que no estoy en condiciones,me podrian decir que tengo que hacer,muchas gracias  '"
            ]
          },
          "metadata": {
            "tags": []
          },
          "execution_count": 25
        }
      ]
    },
    {
      "cell_type": "code",
      "metadata": {
        "id": "2vyiSwQjPCox",
        "colab": {
          "base_uri": "https://localhost:8080/"
        },
        "outputId": "d378785e-e4e9-4428-ca75-65e7fbc13d57"
      },
      "source": [
        "cleaner(df.Consulta[0])"
      ],
      "execution_count": null,
      "outputs": [
        {
          "output_type": "stream",
          "text": [
            "/usr/local/lib/python3.6/dist-packages/gensim/models/phrases.py:598: UserWarning: For a faster implementation, use the gensim.models.phrases.Phraser class\n",
            "  warnings.warn(\"For a faster implementation, use the gensim.models.phrases.Phraser class\")\n"
          ],
          "name": "stderr"
        },
        {
          "output_type": "execute_result",
          "data": {
            "text/plain": [
              "['materias', 'cuatri', 'hacermuchas', 'gracias']"
            ]
          },
          "metadata": {
            "tags": []
          },
          "execution_count": 28
        }
      ]
    },
    {
      "cell_type": "markdown",
      "metadata": {
        "id": "yjMX0qS4SmUR"
      },
      "source": [
        "##### Let's clean all the text"
      ]
    },
    {
      "cell_type": "code",
      "metadata": {
        "id": "TBDM5Caomutj"
      },
      "source": [
        "df['Consulta_bp'] = df['Consulta']"
      ],
      "execution_count": null,
      "outputs": []
    },
    {
      "cell_type": "code",
      "metadata": {
        "id": "t2NvS8p5Lfof",
        "colab": {
          "base_uri": "https://localhost:8080/"
        },
        "outputId": "208ba157-871a-41a3-8be3-782d914fd0bc"
      },
      "source": [
        "%%time\n",
        "df['Consulta'] = df['Consulta'].apply(cleaner)"
      ],
      "execution_count": null,
      "outputs": [
        {
          "output_type": "stream",
          "text": [
            "/usr/local/lib/python3.6/dist-packages/gensim/models/phrases.py:598: UserWarning: For a faster implementation, use the gensim.models.phrases.Phraser class\n",
            "  warnings.warn(\"For a faster implementation, use the gensim.models.phrases.Phraser class\")\n"
          ],
          "name": "stderr"
        },
        {
          "output_type": "stream",
          "text": [
            "CPU times: user 6.04 s, sys: 5.05 ms, total: 6.04 s\n",
            "Wall time: 6.04 s\n"
          ],
          "name": "stdout"
        }
      ]
    },
    {
      "cell_type": "markdown",
      "metadata": {
        "id": "7egM0YZzRS9r"
      },
      "source": [
        "Ahora necesitamos construir el **corpus** y el **diccionario** que gensim necesita para funcionar, para hacer eso necesitamos pasar la lista a una lista de tokens:"
      ]
    },
    {
      "cell_type": "code",
      "metadata": {
        "id": "DZmxTdsYTV35",
        "colab": {
          "base_uri": "https://localhost:8080/"
        },
        "outputId": "dd7db7be-9dbc-40e0-de61-999225067f0e"
      },
      "source": [
        "dictionary = Dictionary(df['Consulta'].to_list())\n",
        "dictionary.compactify()\n",
        "\n",
        "# Filtro extremos\n",
        "dictionary.filter_extremes(no_below=2, no_above=0.97, keep_n=None)\n",
        "dictionary.compactify()\n",
        "\n",
        "corpus = [dictionary.doc2bow(text) for text in df['Consulta'].to_list()]\n",
        "\n",
        "corpus"
      ],
      "execution_count": null,
      "outputs": [
        {
          "output_type": "execute_result",
          "data": {
            "text/plain": [
              "[[(0, 1), (1, 1)],\n",
              " [(1, 1), (2, 1), (3, 1), (4, 1), (5, 1), (6, 1)],\n",
              " [(0, 1), (4, 1), (7, 1), (8, 1), (9, 1)],\n",
              " [(0, 1), (10, 1)],\n",
              " [(11, 1), (12, 3), (13, 1)],\n",
              " [(0, 2), (4, 2), (14, 1)],\n",
              " [(15, 1)],\n",
              " [(11, 2), (16, 1), (17, 1), (18, 1)],\n",
              " [(0, 1), (19, 1), (20, 1), (21, 1)],\n",
              " [(0, 1),\n",
              "  (1, 1),\n",
              "  (12, 1),\n",
              "  (13, 1),\n",
              "  (15, 1),\n",
              "  (22, 1),\n",
              "  (23, 1),\n",
              "  (24, 1),\n",
              "  (25, 1)],\n",
              " [(0, 1), (11, 1), (22, 1), (26, 1)],\n",
              " [(0, 1), (17, 1), (27, 1), (28, 1), (29, 1), (30, 1)],\n",
              " [(8, 1), (27, 1)],\n",
              " [(0, 1), (31, 1), (32, 1), (33, 1)],\n",
              " [(34, 1)],\n",
              " [(0, 1), (27, 1), (35, 1), (36, 1)],\n",
              " [(17, 1)],\n",
              " [(9, 1), (37, 1)],\n",
              " [(11, 1), (12, 1), (38, 1), (39, 1)],\n",
              " [(0, 1), (30, 1), (40, 1), (41, 1), (42, 1), (43, 3)],\n",
              " [(44, 1)],\n",
              " [(1, 1), (4, 1), (45, 1), (46, 1)],\n",
              " [(0, 1), (4, 1), (25, 1), (27, 1), (28, 1), (47, 1), (48, 1)],\n",
              " [(45, 1), (49, 1)],\n",
              " [(0, 1), (28, 1), (48, 1), (50, 2), (51, 1)],\n",
              " [(0, 1), (20, 1), (25, 1), (30, 1)],\n",
              " [(0, 1), (11, 1), (17, 1), (25, 1)],\n",
              " [(17, 1), (28, 1), (52, 1)],\n",
              " [(0, 1), (20, 1), (25, 1), (28, 1), (53, 1), (54, 1)],\n",
              " [(0, 1), (17, 2), (27, 1), (28, 1), (36, 1), (51, 1), (55, 1)],\n",
              " [(0, 1), (47, 1), (56, 1)],\n",
              " [(0, 1), (27, 1)],\n",
              " [(17, 1), (28, 1), (50, 1)],\n",
              " [(27, 2), (28, 1), (52, 1), (56, 1)],\n",
              " [(27, 1)],\n",
              " [(17, 1), (28, 1), (50, 1), (57, 1)],\n",
              " [(5, 1), (15, 1), (58, 1)],\n",
              " [(17, 1), (28, 1), (34, 1), (59, 1)],\n",
              " [(25, 1), (45, 1)],\n",
              " [(60, 1), (61, 1)],\n",
              " [(17, 1), (27, 1), (28, 1), (45, 1)],\n",
              " [(1, 1), (28, 1), (36, 1), (62, 1)],\n",
              " [(0, 1), (14, 1), (47, 1)],\n",
              " [(34, 1), (45, 1)],\n",
              " [(17, 1), (28, 1), (40, 1), (45, 1)],\n",
              " [(0, 1), (17, 2), (28, 1), (29, 1), (59, 1), (63, 1), (64, 1)],\n",
              " [(0, 1), (1, 1), (27, 1), (30, 1)],\n",
              " [(0, 1), (1, 1), (65, 1)],\n",
              " [(1, 1), (28, 1)],\n",
              " [(0, 1), (34, 1), (50, 1), (51, 1)],\n",
              " [(28, 1), (45, 1)],\n",
              " [(0, 1), (1, 1), (15, 1), (17, 1)],\n",
              " [(0, 1), (17, 1), (27, 1), (28, 1), (37, 1), (51, 1), (52, 1), (62, 1)],\n",
              " [(1, 1), (17, 1), (28, 1)],\n",
              " [(27, 1), (45, 1)],\n",
              " [(25, 1)],\n",
              " [(56, 1), (66, 1)],\n",
              " [(0, 1), (4, 1), (47, 2), (50, 1), (55, 1)],\n",
              " [],\n",
              " [(27, 1), (45, 1), (47, 1), (67, 1)],\n",
              " [(8, 1), (28, 1), (35, 1), (52, 1), (66, 2), (68, 1)],\n",
              " [(0, 1), (69, 1)],\n",
              " [(47, 1)],\n",
              " [(0, 1),\n",
              "  (4, 1),\n",
              "  (15, 1),\n",
              "  (17, 1),\n",
              "  (27, 1),\n",
              "  (28, 1),\n",
              "  (51, 1),\n",
              "  (58, 1),\n",
              "  (61, 1),\n",
              "  (70, 1)],\n",
              " [(0, 1), (27, 1), (45, 1), (47, 1), (71, 1)],\n",
              " [(0, 1), (17, 1), (72, 1)],\n",
              " [(58, 1), (73, 1)],\n",
              " [(0, 1), (1, 1), (11, 1)],\n",
              " [(63, 1), (66, 1), (74, 1)],\n",
              " [(0, 1), (9, 1)],\n",
              " [(0, 1), (44, 1)],\n",
              " [(0, 1), (1, 1), (16, 1), (32, 2)],\n",
              " [(11, 1), (16, 1), (41, 1), (58, 1), (75, 1), (76, 1)],\n",
              " [(11, 2), (15, 1), (34, 1), (40, 2), (58, 1), (66, 1), (77, 1)],\n",
              " [(27, 1), (45, 1)],\n",
              " [(1, 2),\n",
              "  (5, 1),\n",
              "  (25, 1),\n",
              "  (27, 1),\n",
              "  (30, 1),\n",
              "  (36, 1),\n",
              "  (58, 1),\n",
              "  (71, 1),\n",
              "  (78, 1),\n",
              "  (79, 1),\n",
              "  (80, 1)],\n",
              " [(0, 1), (14, 1), (25, 1), (30, 1), (34, 1), (81, 1), (82, 1)],\n",
              " [(0, 1), (4, 1), (77, 1), (83, 1)],\n",
              " [(0, 1), (5, 1), (16, 1), (30, 1), (84, 1), (85, 1)],\n",
              " [(0, 1), (11, 1), (40, 1), (60, 1), (86, 1)],\n",
              " [(0, 1), (1, 1), (25, 1), (87, 1)],\n",
              " [],\n",
              " [(17, 1), (27, 1), (28, 1), (43, 1), (48, 1), (88, 1)],\n",
              " [(27, 1), (34, 1), (89, 2), (90, 1), (91, 1)],\n",
              " [(28, 1), (36, 1), (45, 1), (47, 1), (48, 1), (86, 1)],\n",
              " [(0, 1), (4, 1), (78, 1), (79, 1), (86, 1), (92, 1)],\n",
              " [(0, 1), (1, 1), (5, 1), (93, 1)],\n",
              " [],\n",
              " [(1, 1), (15, 1)],\n",
              " [(0, 1), (94, 1)],\n",
              " [(1, 1)],\n",
              " [(0, 1),\n",
              "  (5, 1),\n",
              "  (11, 1),\n",
              "  (30, 1),\n",
              "  (33, 1),\n",
              "  (34, 1),\n",
              "  (77, 1),\n",
              "  (95, 1),\n",
              "  (96, 1)],\n",
              " [(1, 1), (15, 1), (25, 1), (47, 1)],\n",
              " [],\n",
              " [],\n",
              " [(1, 1), (14, 1)],\n",
              " [(0, 1), (40, 1), (47, 1), (97, 1)],\n",
              " [(0, 1), (1, 1), (32, 1), (52, 1)],\n",
              " [(0, 1), (11, 1), (79, 1), (98, 1), (99, 1)],\n",
              " [],\n",
              " [(11, 1)],\n",
              " [(1, 1), (15, 1)],\n",
              " [(0, 1), (5, 1), (7, 1), (11, 1), (30, 1), (100, 1)],\n",
              " [(0, 1), (11, 1), (84, 1)],\n",
              " [(0, 1), (16, 1), (50, 1)],\n",
              " [(27, 1), (45, 1), (93, 1)],\n",
              " [(47, 1), (48, 1), (66, 1)],\n",
              " [(47, 1)],\n",
              " [(45, 1), (47, 2)],\n",
              " [(9, 1), (25, 1), (45, 1)],\n",
              " [(4, 1), (11, 1), (40, 1), (44, 1), (45, 1), (51, 1), (101, 1), (102, 1)],\n",
              " [],\n",
              " [(14, 1), (40, 1), (63, 1), (103, 1), (104, 1)],\n",
              " [(4, 1), (47, 1), (104, 1)],\n",
              " [(47, 1)],\n",
              " [(0, 1), (1, 1), (25, 1), (40, 1)],\n",
              " [(47, 1)],\n",
              " [(30, 1), (47, 1)],\n",
              " [(25, 1), (45, 1), (47, 1)],\n",
              " [(47, 1), (105, 1)],\n",
              " [(7, 1)],\n",
              " [(47, 1)],\n",
              " [(15, 1), (25, 1), (47, 1), (106, 1)],\n",
              " [(7, 1), (37, 1), (47, 4), (50, 1), (53, 1), (61, 1), (103, 1), (107, 1)],\n",
              " [(30, 1), (105, 1), (108, 1)],\n",
              " [(47, 1), (48, 1)],\n",
              " [(0, 1), (30, 1), (47, 1)],\n",
              " [(35, 1), (52, 1)],\n",
              " [],\n",
              " [(0, 1), (2, 1), (54, 1), (104, 2)],\n",
              " [],\n",
              " [(47, 1)],\n",
              " [(47, 1)],\n",
              " [(0, 1),\n",
              "  (1, 1),\n",
              "  (34, 1),\n",
              "  (37, 2),\n",
              "  (47, 1),\n",
              "  (52, 2),\n",
              "  (109, 1),\n",
              "  (110, 1),\n",
              "  (111, 1)],\n",
              " [(0, 1), (47, 1), (103, 1)],\n",
              " [],\n",
              " [(0, 1), (47, 1)],\n",
              " [],\n",
              " [(0, 1), (1, 1), (47, 2)],\n",
              " [(0, 1), (34, 1), (47, 1), (66, 1), (112, 1)],\n",
              " [(37, 1), (47, 1)],\n",
              " [(32, 1), (47, 1), (83, 2), (113, 1)],\n",
              " [(1, 1), (15, 1), (17, 1), (47, 1), (51, 1)],\n",
              " [(47, 1)],\n",
              " [(0, 1), (7, 1), (47, 1)],\n",
              " [(0, 1), (45, 1), (47, 2), (66, 1), (109, 1)],\n",
              " [(0, 1), (45, 1)],\n",
              " [(0, 1), (47, 1), (51, 1), (112, 1)],\n",
              " [(0, 1), (47, 1), (114, 1)],\n",
              " [(0, 1), (47, 1), (60, 1)],\n",
              " [(47, 1)],\n",
              " [(0, 1), (1, 1), (10, 1), (115, 1)],\n",
              " [(1, 1), (5, 1), (7, 1), (67, 1), (116, 1), (117, 1)],\n",
              " [(0, 1), (11, 1), (30, 1), (31, 1), (114, 1)],\n",
              " [(1, 1), (89, 1)],\n",
              " [(0, 1), (1, 1), (9, 1), (118, 1)],\n",
              " [(1, 1), (89, 1)],\n",
              " [(1, 1), (69, 1)],\n",
              " [(118, 1)],\n",
              " [(0, 1), (1, 1), (89, 1), (118, 1), (119, 1)],\n",
              " [(0, 1), (14, 2), (37, 1), (43, 2), (120, 1)],\n",
              " [(1, 1), (78, 1), (89, 1), (91, 1), (118, 1)],\n",
              " [(1, 1), (118, 1)],\n",
              " [],\n",
              " [(0, 1), (118, 1)],\n",
              " [(1, 1), (44, 1)],\n",
              " [(0, 1), (1, 2), (89, 1), (118, 1)],\n",
              " [(0, 1), (12, 1), (121, 1)],\n",
              " [(1, 1), (48, 1), (118, 1), (122, 1)],\n",
              " [(30, 1)],\n",
              " [(1, 1), (33, 1), (89, 1)],\n",
              " [(1, 1), (48, 1), (118, 1), (122, 1)],\n",
              " [(1, 1), (89, 1), (118, 1), (123, 1)],\n",
              " [(89, 1), (124, 1), (125, 1)],\n",
              " [(30, 1), (48, 1), (89, 1), (124, 1), (126, 1)],\n",
              " [(0, 1), (11, 1)],\n",
              " [(1, 1), (89, 1), (118, 1)],\n",
              " [(0, 1), (1, 1), (11, 1), (34, 1), (118, 1), (127, 1), (128, 1)],\n",
              " [(0, 1), (1, 1), (30, 1), (118, 1), (122, 1)],\n",
              " [(1, 1)],\n",
              " [(5, 1), (11, 1), (12, 1), (43, 1)],\n",
              " [(0, 1), (7, 1), (10, 1), (11, 1), (27, 1), (47, 2), (62, 1), (64, 1)],\n",
              " [(1, 1), (115, 1), (118, 1)],\n",
              " [(0, 1), (1, 1), (11, 1), (89, 1), (99, 1), (118, 1)],\n",
              " [(1, 1), (118, 1)],\n",
              " [(0, 1), (1, 1), (30, 1), (89, 1), (118, 1)],\n",
              " [(0, 1), (1, 1), (89, 1), (118, 1)],\n",
              " [(0, 1), (1, 1), (7, 1), (17, 1), (118, 1)],\n",
              " [(0, 1), (1, 1), (89, 1), (118, 1)],\n",
              " [(1, 1), (89, 1)],\n",
              " [(1, 1)],\n",
              " [(0, 1), (1, 1), (118, 1)],\n",
              " [(0, 1), (1, 1), (48, 1), (122, 1)],\n",
              " [(0, 1), (1, 1), (90, 1), (118, 1)],\n",
              " [(0, 1), (5, 1)],\n",
              " [(5, 1), (7, 1), (11, 1), (29, 1), (52, 1), (105, 1)],\n",
              " [(0, 1), (1, 1), (30, 1), (33, 1), (89, 1)],\n",
              " [(0, 1), (1, 1), (5, 1), (20, 1), (89, 1), (119, 1), (129, 1), (130, 1)],\n",
              " [(0, 1), (1, 1), (89, 1), (99, 1), (118, 1)],\n",
              " [(1, 1), (10, 1), (79, 1), (89, 1), (118, 1), (131, 1)],\n",
              " [(0, 1),\n",
              "  (1, 1),\n",
              "  (4, 1),\n",
              "  (43, 1),\n",
              "  (53, 1),\n",
              "  (67, 1),\n",
              "  (116, 1),\n",
              "  (120, 1),\n",
              "  (132, 1)],\n",
              " [(0, 1), (1, 1), (11, 1), (60, 1), (118, 1), (133, 1), (134, 1), (135, 1)],\n",
              " [(1, 1), (89, 1), (118, 1)],\n",
              " [(0, 1), (1, 1), (5, 1), (9, 1), (89, 1), (136, 1)],\n",
              " [(0, 1), (1, 1), (7, 1), (118, 1)],\n",
              " [(0, 1), (99, 1), (117, 1)],\n",
              " [(5, 1), (30, 1), (89, 1), (137, 1)],\n",
              " [(1, 1), (27, 1), (118, 1)],\n",
              " [(18, 2), (41, 1), (66, 1), (138, 1)],\n",
              " [(20, 1), (58, 1), (139, 1)],\n",
              " [(58, 1), (140, 1)],\n",
              " [],\n",
              " [(0, 1), (77, 1), (99, 1), (141, 2)],\n",
              " [(1, 1), (11, 1)],\n",
              " [(1, 1)],\n",
              " [(0, 1), (1, 1), (30, 1), (40, 1), (68, 1), (142, 1)],\n",
              " [(0, 1), (9, 1), (18, 1), (143, 1), (144, 1)],\n",
              " [],\n",
              " [(0, 1), (1, 1), (15, 1), (30, 1), (55, 1), (141, 1), (145, 1), (146, 1)],\n",
              " [(0, 1), (40, 1), (143, 1), (147, 1), (148, 1), (149, 1)],\n",
              " [(9, 1), (112, 1), (114, 1)],\n",
              " [(0, 1), (150, 1)],\n",
              " [(1, 1), (17, 1)],\n",
              " [(11, 1)],\n",
              " [(1, 1), (4, 1), (7, 1), (9, 1), (11, 1), (139, 1), (151, 1)],\n",
              " [],\n",
              " [(0, 1),\n",
              "  (11, 1),\n",
              "  (15, 2),\n",
              "  (20, 1),\n",
              "  (129, 1),\n",
              "  (145, 1),\n",
              "  (152, 1),\n",
              "  (153, 1),\n",
              "  (154, 1),\n",
              "  (155, 1)],\n",
              " [(79, 1), (87, 1), (91, 1), (156, 1)],\n",
              " [(0, 1), (11, 1), (16, 1), (32, 1), (44, 1), (70, 1), (71, 1)],\n",
              " [(0, 1), (25, 1), (40, 1), (47, 1), (157, 1)],\n",
              " [(0, 1), (15, 1), (16, 1), (26, 1), (48, 1), (154, 1)],\n",
              " [(0, 1), (1, 1), (11, 1), (20, 1)],\n",
              " [(0, 1), (1, 1), (61, 1), (87, 1)],\n",
              " [(1, 1)],\n",
              " [(1, 1), (45, 1), (111, 1), (142, 1)],\n",
              " [(1, 2), (33, 1)],\n",
              " [(0, 1), (4, 1), (7, 1), (38, 1), (43, 1), (44, 1), (107, 1), (158, 1)],\n",
              " [(0, 1), (4, 1), (17, 2), (20, 1), (28, 1), (45, 1), (68, 1), (77, 2)],\n",
              " [(0, 1), (5, 1), (30, 1)],\n",
              " [(0, 1), (6, 1), (51, 1)],\n",
              " [(0, 1), (47, 1), (86, 1)],\n",
              " [],\n",
              " [(14, 1), (104, 1)],\n",
              " [(5, 1)],\n",
              " [(47, 1)],\n",
              " [(47, 1)],\n",
              " [(17, 1), (47, 2), (159, 1)],\n",
              " [(0, 1), (45, 1), (47, 1)],\n",
              " [(0, 1), (47, 2), (104, 1)],\n",
              " [(47, 1)],\n",
              " [(0, 1), (47, 2), (56, 1), (160, 1)],\n",
              " [(0, 1), (4, 1), (17, 2), (28, 1), (34, 1), (77, 1)],\n",
              " [(104, 1), (149, 1)],\n",
              " [(0, 1), (1, 1), (4, 1), (20, 1), (25, 1), (47, 1)],\n",
              " [(5, 1), (9, 1), (11, 1)],\n",
              " [(0, 1), (5, 1), (30, 1)],\n",
              " [(52, 1), (161, 1), (162, 1)],\n",
              " [],\n",
              " [(11, 1), (60, 1)],\n",
              " [(0, 1), (17, 1), (47, 1), (111, 1)],\n",
              " [(14, 1), (47, 1), (83, 1)],\n",
              " [(0, 1), (113, 1), (163, 1)],\n",
              " [(45, 1), (47, 2)],\n",
              " [(0, 1), (50, 1)],\n",
              " [(27, 1), (45, 1)],\n",
              " [(14, 1), (15, 1)],\n",
              " [(47, 1), (104, 1), (133, 1)],\n",
              " [(1, 1), (164, 1)],\n",
              " [(15, 1), (58, 1)],\n",
              " [(47, 1)],\n",
              " [(45, 1), (62, 1), (161, 1), (165, 1)],\n",
              " [(166, 1)],\n",
              " [(47, 1), (48, 1), (104, 1), (167, 2)],\n",
              " [(16, 1), (104, 1), (138, 1)],\n",
              " [(0, 1)],\n",
              " [(0, 1), (47, 2), (48, 1), (161, 1), (168, 1)],\n",
              " [(35, 1), (52, 1), (137, 1), (138, 1), (161, 1), (165, 1)],\n",
              " [(104, 1)],\n",
              " [(14, 1)],\n",
              " [(66, 1)],\n",
              " [(0, 1), (71, 1), (104, 2), (144, 1), (158, 1)],\n",
              " [(52, 1), (169, 1)],\n",
              " [(0, 1), (30, 1), (37, 1), (47, 1), (104, 1), (162, 1)],\n",
              " [(34, 1), (47, 1)],\n",
              " [(161, 1), (165, 1)],\n",
              " [(0, 1), (47, 1)],\n",
              " [(47, 1), (159, 1), (161, 1)],\n",
              " [(30, 1), (47, 1), (68, 1), (164, 1), (170, 1)],\n",
              " [(0, 1), (4, 1), (47, 1), (138, 1)],\n",
              " [(35, 1), (40, 1), (83, 1), (165, 1)],\n",
              " [(0, 1),\n",
              "  (17, 1),\n",
              "  (30, 1),\n",
              "  (47, 1),\n",
              "  (51, 1),\n",
              "  (104, 1),\n",
              "  (159, 1),\n",
              "  (160, 1),\n",
              "  (167, 1)],\n",
              " [(1, 1), (27, 1), (28, 1)],\n",
              " [(18, 1), (21, 1), (67, 1)],\n",
              " [(0, 1), (30, 1), (47, 1), (86, 1), (164, 1)],\n",
              " [(111, 1)],\n",
              " [(0, 1), (47, 1), (77, 1), (104, 1)],\n",
              " [(25, 1), (30, 1), (44, 1), (47, 1), (51, 1), (52, 1), (111, 2)],\n",
              " [(111, 1)],\n",
              " [(1, 1), (100, 1), (111, 1), (165, 1)],\n",
              " [(0, 1), (29, 1), (37, 1), (47, 2), (161, 1)],\n",
              " [(6, 1), (47, 1), (104, 1)],\n",
              " [(0, 1), (40, 1), (47, 1)],\n",
              " [(0, 1), (30, 1), (44, 1), (45, 1), (47, 2), (104, 1)],\n",
              " [(0, 1), (1, 1), (11, 1), (94, 1)],\n",
              " [(27, 1), (52, 1), (160, 1)],\n",
              " [(30, 1), (160, 1)],\n",
              " [(0, 1), (45, 1), (54, 1), (153, 1), (169, 1), (171, 1)],\n",
              " [(0, 1), (8, 1), (20, 1), (32, 1)],\n",
              " [(0, 1), (30, 1), (172, 1)],\n",
              " [(5, 1), (8, 1), (21, 1), (40, 1), (89, 1), (99, 1), (172, 1), (173, 1)],\n",
              " [(74, 1), (93, 1), (112, 1), (172, 1)],\n",
              " [(0, 1), (8, 1), (164, 1)],\n",
              " [(8, 1), (14, 1), (31, 1), (51, 1), (83, 1), (174, 1)],\n",
              " [(0, 1), (8, 1), (16, 1), (32, 1), (84, 1)],\n",
              " [(44, 1), (172, 1)],\n",
              " [(0, 1), (30, 1), (91, 1), (92, 1), (98, 1)],\n",
              " [(0, 1), (30, 1), (37, 1), (47, 1), (104, 1), (160, 1)],\n",
              " [(99, 1), (170, 1)],\n",
              " [(104, 1)],\n",
              " [(0, 1), (4, 1), (7, 1), (30, 1), (52, 2)],\n",
              " [],\n",
              " [(16, 1), (41, 1), (110, 1), (137, 1)],\n",
              " [(0, 1), (9, 1), (15, 1), (175, 1)],\n",
              " [(18, 1), (101, 1), (176, 1), (177, 1)],\n",
              " [],\n",
              " [(0, 1), (40, 1), (93, 1), (143, 1), (175, 1)],\n",
              " [(1, 1), (15, 1)],\n",
              " [(0, 1), (40, 1), (128, 1), (141, 2), (143, 1), (178, 2)],\n",
              " [(0, 1), (16, 1), (20, 1), (53, 1), (58, 1), (119, 1)],\n",
              " [(0, 1), (36, 2), (38, 3), (43, 2), (132, 1)],\n",
              " [(0, 1), (7, 1), (43, 1), (47, 1), (48, 1), (58, 1), (81, 1)],\n",
              " [(0, 1), (5, 1), (30, 1), (43, 4), (44, 3), (51, 1), (63, 1)],\n",
              " [(1, 1), (45, 1), (121, 1), (124, 1)],\n",
              " [(0, 1), (87, 1), (100, 1), (130, 1)],\n",
              " [(14, 1), (19, 1), (34, 1), (93, 1), (171, 1)],\n",
              " [(4, 1), (6, 1), (21, 1), (40, 1), (70, 1), (137, 2), (157, 1), (172, 1)],\n",
              " [(0, 1), (72, 1), (77, 1), (132, 1)],\n",
              " [(0, 1), (5, 1), (21, 1), (67, 1), (136, 1)],\n",
              " [(0, 1), (2, 1), (5, 1), (18, 1), (21, 1), (67, 1), (77, 1), (176, 1)],\n",
              " [(0, 1), (18, 1), (21, 1), (30, 1), (41, 1), (45, 1), (177, 1)],\n",
              " [(2, 1), (8, 1), (17, 1), (51, 1), (58, 1), (145, 1), (147, 1), (155, 1)],\n",
              " [(160, 1)],\n",
              " [(0, 1), (58, 1), (130, 1), (141, 1), (179, 1)],\n",
              " [(0, 1), (7, 1), (124, 1), (179, 1)],\n",
              " [(0, 1), (5, 1), (30, 1), (147, 1)],\n",
              " [(1, 1), (9, 1), (11, 3), (45, 1), (160, 1)],\n",
              " [(2, 1),\n",
              "  (5, 1),\n",
              "  (11, 1),\n",
              "  (40, 1),\n",
              "  (143, 1),\n",
              "  (160, 1),\n",
              "  (165, 1),\n",
              "  (180, 1),\n",
              "  (181, 1)],\n",
              " [(0, 1), (11, 1), (30, 1), (160, 1)],\n",
              " [(7, 1),\n",
              "  (11, 2),\n",
              "  (12, 1),\n",
              "  (28, 1),\n",
              "  (30, 1),\n",
              "  (79, 1),\n",
              "  (91, 1),\n",
              "  (99, 1),\n",
              "  (112, 1)],\n",
              " [(0, 1), (11, 1), (81, 1), (141, 1), (160, 1), (182, 1), (183, 1)],\n",
              " [(88, 1), (166, 1), (184, 1)],\n",
              " [(31, 1), (51, 1), (166, 1), (185, 1)],\n",
              " [(186, 1), (187, 2), (188, 1), (189, 1)],\n",
              " [(0, 1), (30, 1), (51, 1), (161, 1), (166, 1)],\n",
              " [(33, 1), (66, 1), (166, 1)],\n",
              " [(0, 1), (166, 1), (190, 1)],\n",
              " [(0, 1), (171, 1), (191, 1)],\n",
              " [(0, 1), (7, 1), (60, 1), (63, 1), (187, 2), (192, 2)],\n",
              " [(166, 1)],\n",
              " [(5, 1), (40, 1), (130, 1), (166, 1), (187, 1), (192, 1)],\n",
              " [(0, 1), (111, 1), (187, 1), (191, 1), (192, 2), (193, 1)],\n",
              " [(44, 1), (111, 1), (166, 1)],\n",
              " [(0, 1), (40, 1), (138, 1), (166, 1), (194, 1)],\n",
              " [(0, 1), (4, 1), (44, 1), (132, 1), (166, 1), (187, 1), (192, 2)],\n",
              " [(0, 1), (114, 1), (166, 1)],\n",
              " [(195, 1)],\n",
              " [(0, 1), (28, 1), (30, 1), (85, 1), (166, 1)],\n",
              " [(0, 1), (15, 1), (20, 2), (138, 1), (141, 1), (166, 1), (187, 1)],\n",
              " [(0, 1), (20, 1), (40, 1), (41, 1), (166, 1), (196, 1)],\n",
              " [(0, 2), (23, 1), (102, 1), (166, 1), (187, 1), (197, 1)],\n",
              " [(0, 1), (166, 1)],\n",
              " [(162, 1), (166, 1), (187, 2), (191, 1), (198, 1)],\n",
              " [(0, 1),\n",
              "  (4, 1),\n",
              "  (32, 1),\n",
              "  (44, 1),\n",
              "  (51, 1),\n",
              "  (63, 1),\n",
              "  (130, 1),\n",
              "  (140, 1),\n",
              "  (166, 1),\n",
              "  (187, 1),\n",
              "  (199, 1)],\n",
              " [(0, 1), (44, 1), (157, 1), (166, 1)],\n",
              " [(107, 1), (137, 1), (166, 1)],\n",
              " [(0, 1), (44, 1), (51, 1), (166, 2), (192, 1), (200, 2)],\n",
              " [(17, 1), (57, 1), (132, 1), (166, 1)],\n",
              " [(201, 1)],\n",
              " [(77, 1), (166, 1), (202, 1)],\n",
              " [(166, 1)],\n",
              " [(15, 1), (51, 1), (166, 1), (191, 1), (203, 1)],\n",
              " [(0, 1), (4, 1), (30, 1), (151, 1), (187, 1), (191, 1), (204, 1)],\n",
              " [(20, 1), (166, 1)],\n",
              " [(24, 1), (166, 2), (188, 1), (192, 1)],\n",
              " [(9, 1), (181, 2), (187, 1), (205, 1)],\n",
              " [(63, 1), (104, 1), (110, 1), (166, 2), (191, 1)],\n",
              " [(166, 1)],\n",
              " [(138, 1), (166, 1)],\n",
              " [(166, 1), (187, 1)],\n",
              " [],\n",
              " [(123, 1), (166, 1), (187, 1), (196, 1), (206, 1)],\n",
              " [(166, 1), (187, 2), (194, 1), (207, 1)],\n",
              " [(188, 1), (208, 1)],\n",
              " [(106, 1), (132, 1), (187, 1), (189, 1)],\n",
              " [(28, 1), (36, 1), (62, 1), (166, 1), (184, 1)],\n",
              " [(166, 1), (187, 1)],\n",
              " [(5, 1), (96, 1), (201, 1)],\n",
              " [(163, 1), (166, 1), (191, 1)],\n",
              " [(0, 1), (20, 1), (145, 1), (166, 1), (187, 1)],\n",
              " [(166, 1)],\n",
              " [(132, 1), (138, 1), (166, 2), (196, 1)],\n",
              " [(0, 1), (88, 1), (166, 1), (184, 1)],\n",
              " [(0, 1), (30, 1), (166, 1), (187, 4)],\n",
              " [(166, 1)],\n",
              " [(166, 2), (190, 1)],\n",
              " [(0, 1), (30, 1), (36, 2), (63, 1), (71, 1), (187, 3), (201, 1)],\n",
              " [(0, 1), (4, 1), (40, 1), (62, 2), (132, 1), (166, 2), (192, 1), (198, 1)],\n",
              " [(20, 1), (30, 1), (166, 1), (186, 1), (192, 1)],\n",
              " [(62, 1), (166, 1), (187, 1)],\n",
              " [(0, 1), (62, 1), (126, 1), (135, 1), (166, 1), (184, 1)],\n",
              " [(0, 1), (30, 1), (51, 1), (106, 1), (187, 2), (192, 3)],\n",
              " [(0, 1), (114, 1), (166, 1)],\n",
              " [(32, 1), (90, 1), (185, 1), (187, 1), (209, 1)],\n",
              " [(166, 1), (192, 2)],\n",
              " [(0, 1), (44, 1), (166, 1)],\n",
              " [(0, 1), (4, 1), (44, 1), (95, 1), (138, 1), (165, 1), (166, 2), (187, 1)],\n",
              " [(0, 1), (40, 1), (166, 1), (187, 1), (192, 1)],\n",
              " [(4, 1), (166, 1), (191, 1)],\n",
              " [(0, 1), (9, 1), (166, 1), (187, 1)],\n",
              " [(166, 1), (184, 1)],\n",
              " [(31, 1), (32, 1), (40, 1), (105, 1), (187, 2), (192, 1)],\n",
              " [(0, 1), (166, 1), (187, 1)],\n",
              " [(0, 1), (30, 1), (166, 1), (187, 1), (204, 1)],\n",
              " [(0, 1), (40, 1), (41, 1), (166, 1), (175, 1), (204, 1)],\n",
              " [(0, 1), (30, 1), (166, 1), (187, 1)],\n",
              " [(0, 1), (136, 1), (166, 1), (189, 1)],\n",
              " [(0, 1), (30, 1), (71, 1), (146, 1), (155, 1), (175, 1), (187, 2)],\n",
              " [(26, 1), (30, 1), (51, 1), (192, 1), (200, 1), (208, 1)],\n",
              " [(166, 1), (187, 1), (210, 1)],\n",
              " [(0, 1), (166, 1), (208, 1)],\n",
              " [(57, 1), (130, 1), (165, 1), (166, 1), (187, 1)],\n",
              " [(73, 1), (187, 1)],\n",
              " [(14, 1), (187, 1)],\n",
              " [(0, 1), (4, 1), (5, 1), (30, 1), (31, 1), (166, 1), (189, 1)],\n",
              " [(166, 1), (192, 1)],\n",
              " [(28, 1), (41, 1), (166, 1)],\n",
              " [(0, 1), (6, 1), (40, 1), (163, 1), (165, 1)],\n",
              " [(17, 1), (88, 1), (138, 1)],\n",
              " [(166, 1), (187, 1), (200, 2), (201, 1)],\n",
              " [(0, 1), (30, 1), (40, 1), (168, 1), (211, 1)],\n",
              " [(87, 1), (183, 1), (195, 1), (212, 1)],\n",
              " [(25, 1), (88, 1), (184, 2)],\n",
              " [(17, 1), (166, 1)],\n",
              " [(20, 1), (187, 2), (201, 1)],\n",
              " [(0, 1), (9, 1), (137, 1), (166, 1), (175, 1), (188, 3), (210, 1)],\n",
              " [(166, 1)],\n",
              " [(166, 1), (184, 1)],\n",
              " [(0, 1), (166, 1), (175, 1), (188, 1), (192, 1), (200, 1), (213, 1)],\n",
              " [(0, 1), (20, 1), (73, 1), (166, 1)],\n",
              " [(15, 1), (148, 1), (166, 1)],\n",
              " [(62, 1), (136, 1), (187, 1), (192, 1)],\n",
              " [(166, 1), (187, 2)],\n",
              " [(4, 1), (166, 1), (191, 1)],\n",
              " [(187, 2)],\n",
              " [(0, 1), (11, 2), (20, 1), (166, 1), (187, 2)],\n",
              " [(0, 1), (30, 1), (187, 1), (194, 1)],\n",
              " [(156, 1)],\n",
              " [(0, 1), (9, 1), (17, 1), (48, 1), (187, 2)],\n",
              " [(0, 1), (4, 1), (14, 1), (166, 1), (187, 1), (191, 1), (194, 1)],\n",
              " [(166, 1), (184, 1), (214, 1)],\n",
              " [(0, 1), (4, 1), (30, 1), (166, 1)],\n",
              " [(0, 1), (40, 1), (138, 2), (166, 1), (187, 2)],\n",
              " [(192, 1), (201, 1)],\n",
              " [(0, 1), (32, 1), (77, 1), (175, 1), (182, 1), (191, 1), (196, 2)],\n",
              " [(0, 1), (187, 1), (195, 1)],\n",
              " [(0, 1), (14, 1), (32, 1), (60, 1), (166, 1), (194, 1)],\n",
              " [(0, 1), (30, 1), (51, 1), (138, 1), (187, 1), (201, 1), (214, 1)],\n",
              " [(125, 1)],\n",
              " [],\n",
              " [(36, 1), (166, 2), (187, 1)],\n",
              " [(88, 1), (166, 1)],\n",
              " [(0, 1), (86, 1), (166, 1), (187, 1), (198, 1)],\n",
              " [(0, 1), (4, 1), (5, 1), (32, 1), (166, 1), (196, 1), (201, 1), (208, 1)],\n",
              " [(0, 1), (166, 1)],\n",
              " [(184, 1)],\n",
              " [(0, 1), (5, 1), (9, 1), (49, 1), (166, 2)],\n",
              " [(30, 1), (166, 1), (187, 1)],\n",
              " [(1, 1), (28, 1), (34, 1), (80, 1), (166, 1), (201, 1)],\n",
              " [(30, 1), (40, 1), (46, 1), (160, 1), (166, 1), (187, 3), (211, 1)],\n",
              " [(0, 1), (4, 1), (30, 1), (46, 1), (77, 1), (191, 1), (200, 1)],\n",
              " [(0, 1), (7, 1), (20, 1), (44, 1), (166, 1), (173, 1), (187, 2)],\n",
              " [(188, 1)],\n",
              " [(166, 1), (187, 1), (201, 1)],\n",
              " [(46, 1)],\n",
              " [(40, 1), (46, 1), (63, 1), (166, 1), (187, 3)],\n",
              " [(9, 1), (138, 1), (166, 1)],\n",
              " [(0, 1), (17, 1), (30, 1), (40, 1), (137, 1), (166, 1), (187, 1), (199, 1)],\n",
              " [(0, 1), (125, 1), (166, 1), (215, 1)],\n",
              " [(30, 1), (130, 1), (166, 1), (201, 1)],\n",
              " [(0, 1), (30, 1), (138, 1), (166, 1), (188, 1), (191, 1), (209, 1)],\n",
              " [(29, 1), (138, 1), (166, 1), (188, 1), (216, 1)],\n",
              " [(29, 1), (71, 1), (166, 1), (217, 1)],\n",
              " [(0, 1), (5, 1), (77, 1), (109, 1), (205, 1)],\n",
              " [(0, 1), (114, 1), (166, 1)],\n",
              " [(0, 1), (44, 1), (51, 1), (62, 1), (166, 1), (173, 1), (187, 1)],\n",
              " [(0, 1), (5, 1), (166, 1)],\n",
              " [(48, 1), (213, 1)],\n",
              " [(30, 1), (51, 1), (166, 1), (187, 2), (201, 1)],\n",
              " [(30, 1), (77, 1), (136, 1), (218, 1), (219, 1)],\n",
              " [(166, 1), (182, 1), (185, 1), (187, 1)],\n",
              " [(166, 1), (187, 1)],\n",
              " [(51, 1), (164, 1), (166, 1), (187, 1), (193, 1), (208, 1)],\n",
              " [(0, 1),\n",
              "  (1, 1),\n",
              "  (62, 1),\n",
              "  (136, 1),\n",
              "  (166, 1),\n",
              "  (187, 1),\n",
              "  (188, 1),\n",
              "  (191, 1),\n",
              "  (219, 1)],\n",
              " [(0, 1), (73, 1), (171, 1), (191, 1)],\n",
              " [(0, 1), (71, 1), (125, 1), (166, 1), (187, 1), (217, 1)],\n",
              " [(182, 1), (191, 1)],\n",
              " [(132, 1), (166, 1)],\n",
              " [(30, 1), (44, 1), (138, 1), (187, 2)],\n",
              " [(0, 1),\n",
              "  (4, 1),\n",
              "  (36, 1),\n",
              "  (63, 1),\n",
              "  (166, 1),\n",
              "  (187, 3),\n",
              "  (200, 1),\n",
              "  (202, 1),\n",
              "  (216, 1)],\n",
              " [(77, 1), (132, 1), (166, 1)],\n",
              " [(0, 1), (5, 1), (30, 1), (166, 1), (187, 2)],\n",
              " [(0, 1), (85, 1)],\n",
              " [(32, 1), (166, 1), (186, 1), (187, 1), (198, 1), (207, 1)],\n",
              " [(62, 1), (77, 1), (88, 1), (166, 1), (184, 1)],\n",
              " [(0, 1), (4, 1), (9, 1), (130, 1), (166, 1), (187, 1)],\n",
              " [(0, 1), (40, 1), (114, 1), (166, 1)],\n",
              " [(0, 1), (166, 1)],\n",
              " [(0, 1), (5, 1), (181, 1), (182, 1), (191, 1), (201, 2)],\n",
              " [(166, 1), (195, 1)],\n",
              " [(40, 1), (166, 1), (186, 2), (214, 1)],\n",
              " [(6, 1), (191, 1)],\n",
              " [(0, 1),\n",
              "  (4, 1),\n",
              "  (7, 1),\n",
              "  (20, 1),\n",
              "  (30, 1),\n",
              "  (112, 1),\n",
              "  (182, 1),\n",
              "  (187, 1),\n",
              "  (192, 1),\n",
              "  (194, 1),\n",
              "  (201, 1)],\n",
              " [(0, 1), (4, 1), (51, 1), (131, 1), (166, 1), (220, 1)],\n",
              " [(0, 1), (166, 1), (187, 1)],\n",
              " [(0, 1), (158, 1), (166, 3), (187, 1), (203, 1)],\n",
              " [(138, 1), (166, 2), (187, 1), (199, 1)],\n",
              " [(4, 1), (166, 1), (187, 1)],\n",
              " [(4, 1), (85, 1), (166, 1), (187, 2)],\n",
              " [(166, 1)],\n",
              " [(0, 1),\n",
              "  (40, 1),\n",
              "  (44, 1),\n",
              "  (96, 1),\n",
              "  (130, 1),\n",
              "  (166, 1),\n",
              "  (187, 1),\n",
              "  (195, 1),\n",
              "  (199, 1)],\n",
              " [(0, 1), (30, 1), (73, 1), (86, 1), (138, 1), (166, 1)],\n",
              " [(100, 1), (187, 1)],\n",
              " [(40, 1), (51, 1), (166, 1), (187, 1)],\n",
              " [(20, 1), (97, 1), (211, 3)],\n",
              " [(0, 1), (166, 1), (187, 1)],\n",
              " [(30, 1), (187, 2), (192, 1)],\n",
              " [(0, 1), (39, 1), (132, 1), (166, 1)],\n",
              " [(24, 1), (71, 1), (136, 1), (166, 1), (204, 1)],\n",
              " [(1, 1), (5, 1), (40, 1), (136, 1), (187, 1), (197, 1), (208, 1)],\n",
              " [(0, 1), (30, 1), (34, 1), (145, 1), (166, 1), (187, 1)],\n",
              " [(31, 1), (40, 1), (90, 1), (166, 1), (218, 1)],\n",
              " [(0, 1), (133, 1), (166, 1), (181, 1)],\n",
              " [(0, 1), (44, 1), (166, 1)],\n",
              " [(0, 1), (20, 1), (40, 1), (132, 1), (187, 1), (192, 3)],\n",
              " [(66, 1), (77, 1), (166, 1)],\n",
              " [(0, 1), (40, 1), (166, 1), (184, 1)],\n",
              " [(0, 1), (33, 1), (166, 1), (201, 1), (208, 1)],\n",
              " [(40, 1), (206, 1)],\n",
              " [(0, 1), (30, 1), (88, 1), (166, 1), (184, 1)],\n",
              " [(0, 1), (30, 1), (31, 1), (40, 1), (45, 1), (86, 1), (166, 1), (178, 1)],\n",
              " [(0, 1), (187, 3)],\n",
              " [],\n",
              " [(30, 1), (32, 1), (85, 1), (90, 1), (187, 1), (208, 1)],\n",
              " [(0, 1), (191, 1), (219, 1)],\n",
              " [(187, 1)],\n",
              " [(0, 1), (3, 1), (221, 1), (222, 1)],\n",
              " [(6, 1), (17, 1), (30, 1), (42, 1), (43, 1), (127, 1), (180, 1), (222, 1)],\n",
              " [(17, 1), (40, 1), (51, 1), (126, 1), (180, 1)],\n",
              " [(0, 1), (32, 1), (65, 1), (170, 1), (223, 1)],\n",
              " [(0, 1), (143, 1), (172, 1), (222, 1)],\n",
              " [(62, 1), (224, 1)],\n",
              " [(0, 1), (1, 1), (15, 1), (30, 1), (224, 1)],\n",
              " [(0, 1), (1, 1), (54, 1), (175, 1)],\n",
              " [(141, 1), (160, 1)],\n",
              " [(0, 1), (11, 1)],\n",
              " [(14, 1), (44, 1), (63, 1), (166, 1)],\n",
              " [(47, 1), (62, 1), (137, 1)],\n",
              " [(0, 1), (14, 1), (75, 1), (221, 1)],\n",
              " [(32, 1), (179, 1)],\n",
              " [],\n",
              " [(5, 1), (27, 1), (44, 1), (99, 1), (127, 1)],\n",
              " [(0, 1), (40, 1), (43, 1), (137, 1), (208, 1)],\n",
              " [(0, 1), (1, 2), (32, 1), (121, 1)],\n",
              " [(0, 1),\n",
              "  (45, 1),\n",
              "  (105, 1),\n",
              "  (109, 1),\n",
              "  (175, 1),\n",
              "  (189, 1),\n",
              "  (220, 1),\n",
              "  (222, 1),\n",
              "  (223, 1),\n",
              "  (225, 1)],\n",
              " [(0, 1), (5, 1), (44, 1), (85, 1), (121, 1), (225, 1)],\n",
              " [(0, 1), (4, 1), (43, 1), (44, 1), (76, 1), (104, 1), (191, 1), (225, 1)],\n",
              " [(1, 1), (141, 1), (145, 1), (174, 1)],\n",
              " [(0, 1), (51, 1), (62, 1), (132, 1), (194, 1)],\n",
              " [(56, 1), (142, 1)],\n",
              " [(21, 1), (30, 1), (105, 1), (137, 1), (183, 1)],\n",
              " [(0, 1), (4, 1), (11, 1), (160, 1)],\n",
              " [(0, 1), (34, 1), (127, 1)],\n",
              " [(44, 2)],\n",
              " [(0, 1), (16, 1), (55, 1), (56, 1), (152, 1)],\n",
              " [(0, 1), (93, 1)],\n",
              " [(0, 1), (5, 1), (11, 1), (30, 1), (38, 1), (121, 1)],\n",
              " [(20, 1), (21, 1), (215, 1)],\n",
              " [(0, 1),\n",
              "  (4, 1),\n",
              "  (11, 2),\n",
              "  (48, 1),\n",
              "  (70, 1),\n",
              "  (76, 1),\n",
              "  (84, 1),\n",
              "  (134, 3),\n",
              "  (143, 1),\n",
              "  (150, 1),\n",
              "  (191, 1)],\n",
              " [(0, 1), (4, 1), (20, 1), (55, 1), (58, 1)],\n",
              " [(0, 1), (30, 1), (44, 1), (121, 1), (194, 1)],\n",
              " [(0, 1), (8, 1), (14, 1)],\n",
              " [(0, 1), (4, 1), (11, 1), (90, 1), (104, 1), (119, 1)],\n",
              " [(47, 1), (89, 1)],\n",
              " [(0, 1), (44, 1), (121, 1)],\n",
              " [(0, 1), (30, 1), (43, 1), (44, 1), (165, 1), (212, 1)],\n",
              " [(9, 1), (11, 2), (13, 1), (25, 1), (32, 1), (101, 1), (103, 1)],\n",
              " [(1, 1), (5, 1), (6, 1), (89, 1)],\n",
              " [(0, 1),\n",
              "  (4, 1),\n",
              "  (5, 1),\n",
              "  (31, 1),\n",
              "  (40, 1),\n",
              "  (43, 1),\n",
              "  (44, 1),\n",
              "  (53, 1),\n",
              "  (58, 1),\n",
              "  (116, 1)],\n",
              " [(0, 1), (8, 1), (21, 1), (42, 1), (53, 1), (58, 1)],\n",
              " [(18, 1), (108, 1), (112, 1)],\n",
              " [(4, 1), (40, 1), (121, 1)],\n",
              " [(0, 1), (30, 1), (132, 1)],\n",
              " [(21, 1), (76, 1), (178, 1)],\n",
              " [(0, 1), (9, 1), (137, 1), (224, 1)],\n",
              " [(56, 1), (82, 1), (151, 1)],\n",
              " []]"
            ]
          },
          "metadata": {
            "tags": []
          },
          "execution_count": 31
        }
      ]
    },
    {
      "cell_type": "markdown",
      "metadata": {
        "id": "NgV46EUdSu0n"
      },
      "source": [
        "# Now let's do the modeling part"
      ]
    },
    {
      "cell_type": "markdown",
      "metadata": {
        "id": "GWsxgxE8-YWC"
      },
      "source": [
        "We are comparing 3 topic modeling algorithm Latent Dirichlet Allocation (LDA), Latent\n",
        "semantic analysis (LSA), Hierarchical Dirichlet Process\n",
        "(HDP),in order to evaluate topic models we will be using **topic coherence**, which is a measure of how\n",
        "interpretable topics are for human beings."
      ]
    },
    {
      "cell_type": "code",
      "metadata": {
        "id": "ewKUhhpgjo8g"
      },
      "source": [
        "def display_topics(model, model_type=\"lda\"):\n",
        "  for topic_idx, topic in enumerate(model.print_topics()):\n",
        "    print (\"Topic %d:\" % (topic_idx))\n",
        "    if model_type== \"lsi\":\n",
        "      print (\" \".join(re.findall( r'\\*(.[^\\*-S]+).?', topic[1])), \"\\n\")\n",
        "    else:\n",
        "      print (\" \".join(re.findall( r'\\\"(.[^\"]+).?', topic[1])), \"\\n\")\n",
        "    \n",
        "\n"
      ],
      "execution_count": null,
      "outputs": []
    },
    {
      "cell_type": "code",
      "metadata": {
        "id": "4J2IIPqHVTzZ"
      },
      "source": [
        "def evaluate_graph(dictionary, corpus, texts, limit, model):\n",
        "    \"\"\"\n",
        "    Function to display num_topics - LDA graph using c_v coherence\n",
        "    \n",
        "    Parameters:\n",
        "    ----------\n",
        "    dictionary : Gensim dictionary\n",
        "    corpus : Gensim corpus\n",
        "    limit : topic limit\n",
        "    \n",
        "    Returns:\n",
        "    -------\n",
        "    lm_list : List of LDA topic models\n",
        "    c_v : Coherence values corresponding to the LDA model with respective number of topics\n",
        "    \"\"\"\n",
        "    c_v = []\n",
        "    lm_list = []\n",
        "    for num_topics in range(1, limit):\n",
        "        if model == 'lsi':\n",
        "          lm = LsiModel(corpus=corpus, num_topics=num_topics, id2word=dictionary)\n",
        "        else:\n",
        "          lm = LdaModel(corpus=corpus, num_topics=num_topics, id2word=dictionary)\n",
        "        lm_list.append(lm)\n",
        "        cm = CoherenceModel(model=lm, texts=texts, dictionary=dictionary, coherence='c_v')\n",
        "        c_v.append(cm.get_coherence())\n",
        "        \n",
        "    # Show graph\n",
        "    x = range(1, limit)\n",
        "    plt.plot(x, c_v)\n",
        "    plt.xlabel(\"num_topics\")\n",
        "    plt.ylabel(\"Coherence score\")\n",
        "    plt.legend((\"c_v\"), loc='best')\n",
        "    plt.show()\n",
        "    \n",
        "    return lm_list, c_v"
      ],
      "execution_count": null,
      "outputs": []
    },
    {
      "cell_type": "markdown",
      "metadata": {
        "id": "hse2o99bZ8wi"
      },
      "source": [
        "##LSI MODEL"
      ]
    },
    {
      "cell_type": "code",
      "metadata": {
        "id": "HFQCfc9VcmT7"
      },
      "source": [
        "lsimodel = LsiModel(corpus=corpus, num_topics=11, id2word=dictionary)"
      ],
      "execution_count": null,
      "outputs": []
    },
    {
      "cell_type": "code",
      "metadata": {
        "id": "yfrJmKuLaUrg",
        "colab": {
          "base_uri": "https://localhost:8080/"
        },
        "outputId": "6585c388-d42b-44f9-9039-2858c15a7b39"
      },
      "source": [
        "display_topics(lsimodel)  # Showing the topics"
      ],
      "execution_count": null,
      "outputs": [
        {
          "output_type": "stream",
          "text": [
            "Topic 0:\n",
            "gracias boleto beneficio tardes materias clave respuesta dia carrera tarjeta \n",
            "\n",
            "Topic 1:\n",
            "beneficio boleto gracias clave materias carrera tarjeta porcentaje sistema certificado \n",
            "\n",
            "Topic 2:\n",
            "clave materias beneficio porcentaje carrera certificado gracias saludos correo perfil \n",
            "\n",
            "Topic 3:\n",
            "boleto beneficio materias tardes porcentaje carrera certificado gracias tarjeta credenciales \n",
            "\n",
            "Topic 4:\n",
            "materias clave boleto gracias porcentaje tardes certificado titulo solicitud respuesta \n",
            "\n",
            "Topic 5:\n",
            "carrera gracias dia sistema tardes requisitos respuesta perfil noches contador \n",
            "\n",
            "Topic 6:\n",
            "tardes gracias titulo solicitud saludos sistema problema requisitos beneficio estudiante \n",
            "\n",
            "Topic 7:\n",
            "sistema requisitos tardes carrera estudiante saludos problema respuesta perfil clave \n",
            "\n",
            "Topic 8:\n",
            "titulo solicitud tardes respuesta dia tarjeta sistema mensaje materias requisitos \n",
            "\n",
            "Topic 9:\n",
            "dia tarjeta solicitud titulo respuesta beneficio carrera nombre quot consulta \n",
            "\n",
            "Topic 10:\n",
            "tarjeta respuesta dia titulo mes favor tardes beneficio problema cargas \n",
            "\n"
          ],
          "name": "stdout"
        }
      ]
    },
    {
      "cell_type": "markdown",
      "metadata": {
        "id": "t-Bt22W-r1ZO"
      },
      "source": [
        "It seen that with 10 topics there is some themes with keywords related to: trump, venezuela, police, electiones, terrorism; still is a little difficult to gt some insight, because of this we are trying to select the best number of topics by iterate over a range of values and looking the coherence "
      ]
    },
    {
      "cell_type": "code",
      "metadata": {
        "id": "dtXS4IfIVYIJ",
        "colab": {
          "base_uri": "https://localhost:8080/",
          "height": 314
        },
        "outputId": "1071d78e-49a4-4008-91f5-8c13ba7a5b9e"
      },
      "source": [
        "%%time\n",
        "lmlist_lsi, c_v = evaluate_graph(dictionary=dictionary, corpus=corpus, texts=df['Consulta'].to_list(), limit=21, model= \"lsi\")"
      ],
      "execution_count": null,
      "outputs": [
        {
          "output_type": "display_data",
          "data": {
            "image/png": "[encoded data removed]",
            "text/plain": [
              "<Figure size 432x288 with 1 Axes>"
            ]
          },
          "metadata": {
            "tags": [],
            "needs_background": "light"
          }
        },
        {
          "output_type": "stream",
          "text": [
            "CPU times: user 11.5 s, sys: 2.14 s, total: 13.7 s\n",
            "Wall time: 12.4 s\n"
          ],
          "name": "stdout"
        }
      ]
    },
    {
      "cell_type": "markdown",
      "metadata": {
        "id": "kmzyPFWiw63V"
      },
      "source": [
        "According to the coherence the best number of topics are between 3-7, however you must select the topics using both the coherence and visual inspection.\n"
      ]
    },
    {
      "cell_type": "code",
      "metadata": {
        "id": "TczLrG1ZRL4_",
        "colab": {
          "base_uri": "https://localhost:8080/"
        },
        "outputId": "5ab6b5a8-b148-40e2-9663-ef25c9024987"
      },
      "source": [
        "display_topics(lmlist_lsi[2])"
      ],
      "execution_count": null,
      "outputs": [
        {
          "output_type": "stream",
          "text": [
            "Topic 0:\n",
            "gracias boleto beneficio tardes materias clave respuesta dia carrera tarjeta \n",
            "\n",
            "Topic 1:\n",
            "beneficio boleto gracias clave materias carrera tarjeta porcentaje sistema certificado \n",
            "\n",
            "Topic 2:\n",
            "clave materias beneficio porcentaje carrera certificado gracias saludos correo perfil \n",
            "\n"
          ],
          "name": "stdout"
        }
      ]
    },
    {
      "cell_type": "markdown",
      "metadata": {
        "id": "v6ty9sFNyRyG"
      },
      "source": [
        "Now, Let's try another model"
      ]
    },
    {
      "cell_type": "markdown",
      "metadata": {
        "id": "earp2d28dz3a"
      },
      "source": [
        "## Latent Dirichlet Allocation Model"
      ]
    },
    {
      "cell_type": "code",
      "metadata": {
        "id": "wiI55UzIdnUN"
      },
      "source": [
        "ldamodel = LdaModel(corpus=corpus, num_topics=20, id2word=dictionary)"
      ],
      "execution_count": null,
      "outputs": []
    },
    {
      "cell_type": "code",
      "metadata": {
        "id": "fjAbhPAMd7_B",
        "colab": {
          "base_uri": "https://localhost:8080/"
        },
        "outputId": "812a73ce-e6aa-4d64-dd86-9083dd710d83"
      },
      "source": [
        "\n",
        "display_topics(ldamodel)"
      ],
      "execution_count": null,
      "outputs": [
        {
          "output_type": "stream",
          "text": [
            "Topic 0:\n",
            "gracias materias beneficio dia semanas recarga respuestas mes clave carrera \n",
            "\n",
            "Topic 1:\n",
            "clave gracias materias tardes solicitud porcentaje beneficio boleto perfil mente \n",
            "\n",
            "Topic 2:\n",
            "gracias boleto clave tardes dia materias beneficio saludos titulo cargas \n",
            "\n",
            "Topic 3:\n",
            "gracias clave tardes materias beneficio boleto datos respuesta carrera dia \n",
            "\n",
            "Topic 4:\n",
            "gracias materias tarjeta beneficio cuatrimestre saludos carrera universidad consulta boleto \n",
            "\n",
            "Topic 5:\n",
            "gracias legajo clave tiempo favor noches problemas respuesta carrera contador \n",
            "\n",
            "Topic 6:\n",
            "beneficio boleto sistema requisitos gracias carrera tardes alumno solicitud servicios \n",
            "\n",
            "Topic 7:\n",
            "gracias beneficio boleto tardes plan estudiante dia consulta tarjeta carga \n",
            "\n",
            "Topic 8:\n",
            "gracias beneficio boleto problema clave sistema consulta tarjeta dia tardes \n",
            "\n",
            "Topic 9:\n",
            "materias gracias boleto beneficio porcentaje carrera respuesta tardes perfil requisitos \n",
            "\n",
            "Topic 10:\n",
            "requisitos problema estudiante clave sistema casilla gracias perfil materias mail \n",
            "\n",
            "Topic 11:\n",
            "gracias clave respuesta tardes beneficio materias titulo correo boleto dia \n",
            "\n",
            "Topic 12:\n",
            "gracias clave perfil finales sistema respuesta datos requisitos carrera motivo \n",
            "\n",
            "Topic 13:\n",
            "gracias carrera materias boleto titulo porcentaje saludos tardes situacion solicitud \n",
            "\n",
            "Topic 14:\n",
            "gracias boleto solicitud tardes beneficio problema carrera porcentaje respuesta mes \n",
            "\n",
            "Topic 15:\n",
            "beneficio gracias saludos nota tardes perfil estudiante carga semana fecha \n",
            "\n",
            "Topic 16:\n",
            "boleto gracias dia sistema credenciales comercio carrera pasos taller saludos \n",
            "\n",
            "Topic 17:\n",
            "gracias boleto carrera fecha tardes saludos materias porcentaje error llego \n",
            "\n",
            "Topic 18:\n",
            "gracias beneficio boleto clave carrera mes correo dia vez tardes \n",
            "\n",
            "Topic 19:\n",
            "boleto tardes gracias email clave cuenta respuesta correo beneficio formulario \n",
            "\n"
          ],
          "name": "stdout"
        }
      ]
    },
    {
      "cell_type": "markdown",
      "metadata": {
        "id": "2cywaW1QsJ8N"
      },
      "source": [
        "Find out the optimal number of topics for the LDA model based on the coherence metric:"
      ]
    },
    {
      "cell_type": "code",
      "metadata": {
        "id": "Rd651y6mWpTF",
        "colab": {
          "base_uri": "https://localhost:8080/",
          "height": 314
        },
        "outputId": "a8ddab78-6dc0-4489-8f73-8539f73e90e4"
      },
      "source": [
        "%%time\n",
        "lmlist, c_v = evaluate_graph(dictionary=dictionary, corpus=corpus, texts=df['Consulta'].to_list(), limit=21, model= \"lda\")"
      ],
      "execution_count": null,
      "outputs": [
        {
          "output_type": "display_data",
          "data": {
            "image/png": "[encoded data removed]",
            "text/plain": [
              "<Figure size 432x288 with 1 Axes>"
            ]
          },
          "metadata": {
            "tags": [],
            "needs_background": "light"
          }
        },
        {
          "output_type": "stream",
          "text": [
            "CPU times: user 18.5 s, sys: 907 ms, total: 19.4 s\n",
            "Wall time: 19.9 s\n"
          ],
          "name": "stdout"
        }
      ]
    },
    {
      "cell_type": "markdown",
      "metadata": {
        "id": "P0T4UJGmyiLp"
      },
      "source": [
        "For this model it seems that  9 or 18, again we must to check the keywords too."
      ]
    },
    {
      "cell_type": "markdown",
      "metadata": {
        "id": "S6S88TE0eslU"
      },
      "source": [
        "### Comparing the Model Coherence of the Best Models"
      ]
    },
    {
      "cell_type": "markdown",
      "metadata": {
        "id": "6dnp010Wz6Xo"
      },
      "source": [
        "we made 3 models, now let's compare each other's  coherence"
      ]
    },
    {
      "cell_type": "code",
      "metadata": {
        "id": "s0bosG67ev6L"
      },
      "source": [
        "\n",
        "ldamodel = lmlist[11]\n",
        "lsimodel = lmlist_lsi[2]\n",
        "\n",
        "lsitopics = [[word for word, prob in topic] for topicid, topic in lsimodel.show_topics(formatted=False)]\n",
        "\n",
        "hdptopics = [[word for word, prob in topic] for topicid, topic in hdpmodel.show_topics(formatted=False)]\n",
        "\n",
        "ldatopics = [[word for word, prob in topic] for topicid, topic in ldamodel.show_topics(formatted=False)]"
      ],
      "execution_count": null,
      "outputs": []
    },
    {
      "cell_type": "code",
      "metadata": {
        "id": "IP5GpYG1e4nT"
      },
      "source": [
        "lsi_coherence = CoherenceModel(topics=lsitopics[:10], texts=df['text'].to_list(), dictionary=dictionary, window_size=10).get_coherence()\n",
        "\n",
        "hdp_coherence = CoherenceModel(topics=hdptopics[:10], texts=df['text'].to_list(), dictionary=dictionary, window_size=10).get_coherence()\n",
        "\n",
        "lda_coherence = CoherenceModel(topics=ldatopics, texts=df['text'].to_list(), dictionary=dictionary, window_size=10).get_coherence()"
      ],
      "execution_count": null,
      "outputs": []
    },
    {
      "cell_type": "code",
      "metadata": {
        "id": "XntcwwKufZTp",
        "colab": {
          "base_uri": "https://localhost:8080/",
          "height": 287
        },
        "outputId": "7278380a-d093-4908-a44a-0ba94a2d7aac"
      },
      "source": [
        "import seaborn as sns\n",
        "\n",
        "coherences = [lsi_coherence, hdp_coherence, lda_coherence]\n",
        "n = len(coherences)\n",
        "x = ['lsi_coherence','hdp_coherence', 'lda_coherence']\n",
        "sns.barplot(x, coherences)\n"
      ],
      "execution_count": null,
      "outputs": [
        {
          "output_type": "execute_result",
          "data": {
            "text/plain": [
              "<matplotlib.axes._subplots.AxesSubplot at 0x7f3ddbb4eba8>"
            ]
          },
          "metadata": {
            "tags": []
          },
          "execution_count": 59
        },
        {
          "output_type": "display_data",
          "data": {
            "image/png": "[encoded data removed]",
            "text/plain": [
              "<Figure size 432x288 with 1 Axes>"
            ]
          },
          "metadata": {
            "tags": []
          }
        }
      ]
    },
    {
      "cell_type": "markdown",
      "metadata": {
        "id": "bXKu-wAoFMRY"
      },
      "source": [
        "We can see that the **LdaModel** model **with 8 topics** has the higher value of\n",
        "coherence"
      ]
    },
    {
      "cell_type": "markdown",
      "metadata": {
        "id": "B5Ii_TedVNHq"
      },
      "source": [
        "Examine the keyword to get the topics of the best model"
      ]
    },
    {
      "cell_type": "code",
      "metadata": {
        "id": "qtOtsGxHuD8W",
        "colab": {
          "base_uri": "https://localhost:8080/",
          "height": 629
        },
        "outputId": "841b40c9-401d-4e5e-a6bc-cf6e1d7a7169"
      },
      "source": [
        "\n",
        "display_topics(ldamodel)"
      ],
      "execution_count": null,
      "outputs": [
        {
          "output_type": "stream",
          "text": [
            "Topic 0:\n",
            "derechos humanos muerte guerra tribunal juez caso libertad personas juicio \n",
            "\n",
            "Topic 1:\n",
            "estudio tierra universidad mundo agua investigadores cambio expertos corea sistema \n",
            "\n",
            "Topic 2:\n",
            "policia hombre casa mujer muerte familia hospital autoridades caso despues \n",
            "\n",
            "Topic 3:\n",
            "presidente gobierno ministro justicia mubarak pueblo presos venezuela jefe caso \n",
            "\n",
            "Topic 4:\n",
            "mujeres mundo mujer papa vida iglesia matrimonio caso hombres casos \n",
            "\n",
            "Topic 5:\n",
            "personas metros rescate zona autoridades isla mar kilometros agua horas \n",
            "\n",
            "Topic 6:\n",
            "partido presidente elecciones votos gobierno candidato comicios partidos domingo ministro \n",
            "\n",
            "Topic 7:\n",
            "personas seguridad fuerzas ciudad ataque policia fuentes grupo ataques protestas \n",
            "\n",
            "Topic 8:\n",
            "millones euros gobierno dolares medidas crisis parte empresas trabajo sector \n",
            "\n",
            "Topic 9:\n",
            "personas terremoto ayuda ciudad seismo zonas zona millones agua muertos \n",
            "\n",
            "Topic 10:\n",
            "gobierno presidente ministro consejo acuerdo seguridad parte paz union asuntos \n",
            "\n",
            "Topic 11:\n",
            "aeropuerto avion accidente vuelos pasajeros horas vuelo seguridad autoridades personas \n",
            "\n"
          ],
          "name": "stdout"
        }
      ]
    },
    {
      "cell_type": "markdown",
      "metadata": {
        "id": "23tYxCUIchga"
      },
      "source": [
        "It looks like the topics are:\n",
        "* Topic 0: is about trials (justice)\n",
        "* Topic 1: is like nature studies\n",
        "* Topic 2: is about violence (against women maybe?)\n",
        "* Topic 3: protest and disturb (like venezuelan case)\n",
        "* Topic 4: is about life and family\n",
        "* Topic 5: sea disasters\n",
        "* Topic 6: elections\n",
        "* Topic 7: is about terrorism\n",
        "* Topic 8: is about economic crisis\n",
        "* Topic 9: is like seism studies\n",
        "* Topic 10: is about peacy treaty\n",
        "* Topic 11: airport and security\n"
      ]
    },
    {
      "cell_type": "markdown",
      "metadata": {
        "id": "v0aL-yqAFzUS"
      },
      "source": [
        "Let´s check the keyword when we selecting another number of topics (14)"
      ]
    },
    {
      "cell_type": "code",
      "metadata": {
        "id": "AGXxaEtVudnc"
      },
      "source": [
        "ldamodel_16 =lmlist[16]\n"
      ],
      "execution_count": null,
      "outputs": []
    },
    {
      "cell_type": "code",
      "metadata": {
        "id": "aS3QJ5KV5z_c",
        "colab": {
          "base_uri": "https://localhost:8080/",
          "height": 680
        },
        "outputId": "1d87fea1-bfa5-476a-e472-a7e585bd8cf3"
      },
      "source": [
        "display_topics(ldamodel_16)"
      ],
      "execution_count": null,
      "outputs": [
        {
          "output_type": "stream",
          "text": [
            "Topic 0:\n",
            "presidente casa washington congreso barack informacion documentos inteligencia seguridad programa \n",
            "\n",
            "Topic 1:\n",
            "gobierno ministro partido parlamento union acuerdo crisis presidente consejo parte \n",
            "\n",
            "Topic 2:\n",
            "millones euros dolares gobierno ley dinero empresas medidas parte proyecto \n",
            "\n",
            "Topic 3:\n",
            "personas ciudad centro policia seguridad plaza lugar autoridades atentado edificio \n",
            "\n",
            "Topic 4:\n",
            "partido elecciones votos candidato presidente comicios domingo victoria resultados vuelta \n",
            "\n",
            "Topic 5:\n",
            "fuerzas seguridad ataque grupo soldados ataques ciudad guerra personas gobierno \n",
            "\n",
            "Topic 6:\n",
            "mujer familia vida padre madre hijo hijos casa hospital mundo \n",
            "\n",
            "Topic 7:\n",
            "policia muerte personas hombre autoridades caso mujer asesinato agentes juez \n",
            "\n",
            "Topic 8:\n",
            "estudio millones mundo informe personas agua datos salud nivel parte \n",
            "\n",
            "Topic 9:\n",
            "mujeres papa iglesia casos caso abusos personas parte derechos matrimonio \n",
            "\n",
            "Topic 10:\n",
            "presidente gobierno seguridad paz ministro consejo acuerdo parte asuntos naciones \n",
            "\n",
            "Topic 11:\n",
            "presidente gobierno protestas pueblo derechos libertad justicia proceso humanos venezuela \n",
            "\n",
            "Topic 12:\n",
            "personas zona kilometros autoridades horas metros rescate tierra hora agua \n",
            "\n"
          ],
          "name": "stdout"
        }
      ]
    },
    {
      "cell_type": "markdown",
      "metadata": {
        "id": "u2clSiIF1yHy"
      },
      "source": [
        "# Classifiying all documents"
      ]
    },
    {
      "cell_type": "markdown",
      "metadata": {
        "id": "_sLVX03-1_GB"
      },
      "source": [
        "now that we have been select the best model and topics number, is time to assign a topic to each document, means **cluster** according to the topics"
      ]
    },
    {
      "cell_type": "code",
      "metadata": {
        "id": "9fojFPHKW204"
      },
      "source": [
        "def format_topics_sentences(ldamodel=0, corpus=corpus, texts=0):\n",
        "    # Init output\n",
        "    sent_topics_df = pd.DataFrame()-n\n",
        "\n",
        "    # Get main topic in each document\n",
        "    for i, row in enumerate(ldamodel[corpus]):\n",
        "        row = sorted(row, key=lambda x: (x[1]), reverse=True)\n",
        "        # Get the Dominant topic, Perc Contribution and Keywords for each document\n",
        "        for j, (topic_num, prop_topic) in enumerate(row):\n",
        "            if j == 0:  # => dominant topic\n",
        "                wp = ldamodel.show_topic(topic_num)\n",
        "                topic_keywords = \", \".join([word for word, prop in wp])\n",
        "                sent_topics_df = sent_topics_df.append(pd.Series([int(topic_num), round(prop_topic,4), topic_keywords]), ignore_index=True)\n",
        "            else:\n",
        "                break\n",
        "    sent_topics_df.columns = ['Dominant_Topic', 'Perc_Contribution', 'Topic_Keywords']\n",
        "\n",
        "    # Add original text to the end of the output\n",
        "    contents = pd.Series(texts)\n",
        "    sent_topics_df = pd.concat([sent_topics_df, contents], axis=1)\n",
        "    return(sent_topics_df)\n",
        "\n",
        "\n",
        "df_topic_sents_keywords = format_topics_sentences(ldamodel, corpus=corpus, texts=df['text'].to_list())\n",
        "\n"
      ],
      "execution_count": null,
      "outputs": []
    },
    {
      "cell_type": "code",
      "metadata": {
        "id": "E8FofLvzYmTP",
        "colab": {
          "base_uri": "https://localhost:8080/",
          "height": 359
        },
        "outputId": "1f5226b4-02cf-4243-e7a1-ab89ddb707b5"
      },
      "source": [
        "# Format\n",
        "df_dominant_topic = df_topic_sents_keywords.reset_index()\n",
        "df_dominant_topic.columns = ['Document_No', 'Dominant_Topic', 'Topic_Perc_Contrib', 'Keywords', 'Text']\n",
        "\n",
        "# Show\n",
        "df_dominant_topic.head(10)"
      ],
      "execution_count": null,
      "outputs": [
        {
          "output_type": "execute_result",
          "data": {
            "text/html": [
              "<div>\n",
              "<style scoped>\n",
              "    .dataframe tbody tr th:only-of-type {\n",
              "        vertical-align: middle;\n",
              "    }\n",
              "\n",
              "    .dataframe tbody tr th {\n",
              "        vertical-align: top;\n",
              "    }\n",
              "\n",
              "    .dataframe thead th {\n",
              "        text-align: right;\n",
              "    }\n",
              "</style>\n",
              "<table border=\"1\" class=\"dataframe\">\n",
              "  <thead>\n",
              "    <tr style=\"text-align: right;\">\n",
              "      <th></th>\n",
              "      <th>Document_No</th>\n",
              "      <th>Dominant_Topic</th>\n",
              "      <th>Topic_Perc_Contrib</th>\n",
              "      <th>Keywords</th>\n",
              "      <th>Text</th>\n",
              "    </tr>\n",
              "  </thead>\n",
              "  <tbody>\n",
              "    <tr>\n",
              "      <th>0</th>\n",
              "      <td>0</td>\n",
              "      <td>6.0</td>\n",
              "      <td>0.5252</td>\n",
              "      <td>partido, presidente, elecciones, votos, gobier...</td>\n",
              "      <td>[presidente, trump, quejo, jueves, seguidores,...</td>\n",
              "    </tr>\n",
              "    <tr>\n",
              "      <th>1</th>\n",
              "      <td>1</td>\n",
              "      <td>10.0</td>\n",
              "      <td>0.6767</td>\n",
              "      <td>gobierno, presidente, ministro, consejo, acuer...</td>\n",
              "      <td>[gobernador, hector, conversaciones, gobierno,...</td>\n",
              "    </tr>\n",
              "    <tr>\n",
              "      <th>2</th>\n",
              "      <td>2</td>\n",
              "      <td>9.0</td>\n",
              "      <td>0.4595</td>\n",
              "      <td>personas, terremoto, ayuda, ciudad, seismo, zo...</td>\n",
              "      <td>[autoridades, congo, jueves, muerte, centenar,...</td>\n",
              "    </tr>\n",
              "    <tr>\n",
              "      <th>3</th>\n",
              "      <td>3</td>\n",
              "      <td>8.0</td>\n",
              "      <td>0.3184</td>\n",
              "      <td>millones, euros, gobierno, dolares, medidas, c...</td>\n",
              "      <td>[ministro, shinzo, abe, viernes, disculpas, fa...</td>\n",
              "    </tr>\n",
              "    <tr>\n",
              "      <th>4</th>\n",
              "      <td>4</td>\n",
              "      <td>5.0</td>\n",
              "      <td>0.3357</td>\n",
              "      <td>personas, metros, rescate, zona, autoridades, ...</td>\n",
              "      <td>[guardia, submarino, kilos, aguas, abordaje, s...</td>\n",
              "    </tr>\n",
              "    <tr>\n",
              "      <th>5</th>\n",
              "      <td>5</td>\n",
              "      <td>2.0</td>\n",
              "      <td>0.5224</td>\n",
              "      <td>policia, hombre, casa, mujer, muerte, familia,...</td>\n",
              "      <td>[condado, ohio, sentencia, profesora, contacto...</td>\n",
              "    </tr>\n",
              "    <tr>\n",
              "      <th>6</th>\n",
              "      <td>6</td>\n",
              "      <td>10.0</td>\n",
              "      <td>0.6356</td>\n",
              "      <td>gobierno, presidente, ministro, consejo, acuer...</td>\n",
              "      <td>[gobierno, kyriakos, viernes, presidente, parl...</td>\n",
              "    </tr>\n",
              "    <tr>\n",
              "      <th>7</th>\n",
              "      <td>7</td>\n",
              "      <td>3.0</td>\n",
              "      <td>0.4092</td>\n",
              "      <td>presidente, gobierno, ministro, justicia, muba...</td>\n",
              "      <td>[barco, watch, carola, inmigrantes, viernes, q...</td>\n",
              "    </tr>\n",
              "    <tr>\n",
              "      <th>8</th>\n",
              "      <td>8</td>\n",
              "      <td>5.0</td>\n",
              "      <td>0.3907</td>\n",
              "      <td>personas, metros, rescate, zona, autoridades, ...</td>\n",
              "      <td>[policia, viernes, tripulantes, grace, capitan...</td>\n",
              "    </tr>\n",
              "    <tr>\n",
              "      <th>9</th>\n",
              "      <td>9</td>\n",
              "      <td>6.0</td>\n",
              "      <td>0.5685</td>\n",
              "      <td>partido, presidente, elecciones, votos, gobier...</td>\n",
              "      <td>[presidente, trump, viernes, gobierno, domingo...</td>\n",
              "    </tr>\n",
              "  </tbody>\n",
              "</table>\n",
              "</div>"
            ],
            "text/plain": [
              "   Document_No  ...                                               Text\n",
              "0            0  ...  [presidente, trump, quejo, jueves, seguidores,...\n",
              "1            1  ...  [gobernador, hector, conversaciones, gobierno,...\n",
              "2            2  ...  [autoridades, congo, jueves, muerte, centenar,...\n",
              "3            3  ...  [ministro, shinzo, abe, viernes, disculpas, fa...\n",
              "4            4  ...  [guardia, submarino, kilos, aguas, abordaje, s...\n",
              "5            5  ...  [condado, ohio, sentencia, profesora, contacto...\n",
              "6            6  ...  [gobierno, kyriakos, viernes, presidente, parl...\n",
              "7            7  ...  [barco, watch, carola, inmigrantes, viernes, q...\n",
              "8            8  ...  [policia, viernes, tripulantes, grace, capitan...\n",
              "9            9  ...  [presidente, trump, viernes, gobierno, domingo...\n",
              "\n",
              "[10 rows x 5 columns]"
            ]
          },
          "metadata": {
            "tags": []
          },
          "execution_count": 66
        }
      ]
    },
    {
      "cell_type": "markdown",
      "metadata": {
        "id": "9vtBDBQKkzmK"
      },
      "source": [
        "We selected the ldamodel with 12 topics and asigned a dominant topic to each document, now let map each topic with a label "
      ]
    },
    {
      "cell_type": "markdown",
      "metadata": {
        "id": "z8f8u5UJlQJ8"
      },
      "source": [
        "first let's create the dictionary"
      ]
    },
    {
      "cell_type": "code",
      "metadata": {
        "id": "I27y-Pd-lXL8"
      },
      "source": [
        "label_dicc = {0:'trials', 1:'nature', 2:'violence', 3: 'protest', 4:'life_family', 5:'sea_disasters', 6:'elections', \n",
        "              7:'terrorism', 8:'economic_crisis', 9: 'seism', 10:'peacy_treaty', 11:'airport_security'}"
      ],
      "execution_count": null,
      "outputs": []
    },
    {
      "cell_type": "code",
      "metadata": {
        "id": "qUspHFcPopTz"
      },
      "source": [
        "df_dominant_topic['Dominant_Topic'] = df_dominant_topic['Dominant_Topic'].astype('int64')\n"
      ],
      "execution_count": null,
      "outputs": []
    },
    {
      "cell_type": "code",
      "metadata": {
        "id": "o9XM5yHgnmg5",
        "colab": {
          "base_uri": "https://localhost:8080/",
          "height": 359
        },
        "outputId": "1d89e87e-a9e1-401e-edd1-63457a7f50c4"
      },
      "source": [
        "df_dominant_topic['Dominant_Topic'] = df_dominant_topic['Dominant_Topic'].map(label_dicc)\n",
        "df_dominant_topic.head(10)"
      ],
      "execution_count": null,
      "outputs": [
        {
          "output_type": "execute_result",
          "data": {
            "text/html": [
              "<div>\n",
              "<style scoped>\n",
              "    .dataframe tbody tr th:only-of-type {\n",
              "        vertical-align: middle;\n",
              "    }\n",
              "\n",
              "    .dataframe tbody tr th {\n",
              "        vertical-align: top;\n",
              "    }\n",
              "\n",
              "    .dataframe thead th {\n",
              "        text-align: right;\n",
              "    }\n",
              "</style>\n",
              "<table border=\"1\" class=\"dataframe\">\n",
              "  <thead>\n",
              "    <tr style=\"text-align: right;\">\n",
              "      <th></th>\n",
              "      <th>Document_No</th>\n",
              "      <th>Dominant_Topic</th>\n",
              "      <th>Topic_Perc_Contrib</th>\n",
              "      <th>Keywords</th>\n",
              "      <th>Text</th>\n",
              "    </tr>\n",
              "  </thead>\n",
              "  <tbody>\n",
              "    <tr>\n",
              "      <th>0</th>\n",
              "      <td>0</td>\n",
              "      <td>elections</td>\n",
              "      <td>0.5252</td>\n",
              "      <td>partido, presidente, elecciones, votos, gobier...</td>\n",
              "      <td>[presidente, trump, quejo, jueves, seguidores,...</td>\n",
              "    </tr>\n",
              "    <tr>\n",
              "      <th>1</th>\n",
              "      <td>1</td>\n",
              "      <td>peacy_treaty</td>\n",
              "      <td>0.6767</td>\n",
              "      <td>gobierno, presidente, ministro, consejo, acuer...</td>\n",
              "      <td>[gobernador, hector, conversaciones, gobierno,...</td>\n",
              "    </tr>\n",
              "    <tr>\n",
              "      <th>2</th>\n",
              "      <td>2</td>\n",
              "      <td>seism</td>\n",
              "      <td>0.4595</td>\n",
              "      <td>personas, terremoto, ayuda, ciudad, seismo, zo...</td>\n",
              "      <td>[autoridades, congo, jueves, muerte, centenar,...</td>\n",
              "    </tr>\n",
              "    <tr>\n",
              "      <th>3</th>\n",
              "      <td>3</td>\n",
              "      <td>economic_crisis</td>\n",
              "      <td>0.3184</td>\n",
              "      <td>millones, euros, gobierno, dolares, medidas, c...</td>\n",
              "      <td>[ministro, shinzo, abe, viernes, disculpas, fa...</td>\n",
              "    </tr>\n",
              "    <tr>\n",
              "      <th>4</th>\n",
              "      <td>4</td>\n",
              "      <td>sea_disasters</td>\n",
              "      <td>0.3357</td>\n",
              "      <td>personas, metros, rescate, zona, autoridades, ...</td>\n",
              "      <td>[guardia, submarino, kilos, aguas, abordaje, s...</td>\n",
              "    </tr>\n",
              "    <tr>\n",
              "      <th>5</th>\n",
              "      <td>5</td>\n",
              "      <td>violence</td>\n",
              "      <td>0.5224</td>\n",
              "      <td>policia, hombre, casa, mujer, muerte, familia,...</td>\n",
              "      <td>[condado, ohio, sentencia, profesora, contacto...</td>\n",
              "    </tr>\n",
              "    <tr>\n",
              "      <th>6</th>\n",
              "      <td>6</td>\n",
              "      <td>peacy_treaty</td>\n",
              "      <td>0.6356</td>\n",
              "      <td>gobierno, presidente, ministro, consejo, acuer...</td>\n",
              "      <td>[gobierno, kyriakos, viernes, presidente, parl...</td>\n",
              "    </tr>\n",
              "    <tr>\n",
              "      <th>7</th>\n",
              "      <td>7</td>\n",
              "      <td>protest</td>\n",
              "      <td>0.4092</td>\n",
              "      <td>presidente, gobierno, ministro, justicia, muba...</td>\n",
              "      <td>[barco, watch, carola, inmigrantes, viernes, q...</td>\n",
              "    </tr>\n",
              "    <tr>\n",
              "      <th>8</th>\n",
              "      <td>8</td>\n",
              "      <td>sea_disasters</td>\n",
              "      <td>0.3907</td>\n",
              "      <td>personas, metros, rescate, zona, autoridades, ...</td>\n",
              "      <td>[policia, viernes, tripulantes, grace, capitan...</td>\n",
              "    </tr>\n",
              "    <tr>\n",
              "      <th>9</th>\n",
              "      <td>9</td>\n",
              "      <td>elections</td>\n",
              "      <td>0.5685</td>\n",
              "      <td>partido, presidente, elecciones, votos, gobier...</td>\n",
              "      <td>[presidente, trump, viernes, gobierno, domingo...</td>\n",
              "    </tr>\n",
              "  </tbody>\n",
              "</table>\n",
              "</div>"
            ],
            "text/plain": [
              "   Document_No  ...                                               Text\n",
              "0            0  ...  [presidente, trump, quejo, jueves, seguidores,...\n",
              "1            1  ...  [gobernador, hector, conversaciones, gobierno,...\n",
              "2            2  ...  [autoridades, congo, jueves, muerte, centenar,...\n",
              "3            3  ...  [ministro, shinzo, abe, viernes, disculpas, fa...\n",
              "4            4  ...  [guardia, submarino, kilos, aguas, abordaje, s...\n",
              "5            5  ...  [condado, ohio, sentencia, profesora, contacto...\n",
              "6            6  ...  [gobierno, kyriakos, viernes, presidente, parl...\n",
              "7            7  ...  [barco, watch, carola, inmigrantes, viernes, q...\n",
              "8            8  ...  [policia, viernes, tripulantes, grace, capitan...\n",
              "9            9  ...  [presidente, trump, viernes, gobierno, domingo...\n",
              "\n",
              "[10 rows x 5 columns]"
            ]
          },
          "metadata": {
            "tags": []
          },
          "execution_count": 69
        }
      ]
    },
    {
      "cell_type": "code",
      "metadata": {
        "id": "in5E52W3pl_k"
      },
      "source": [
        "df['labels'] = df_dominant_topic['Dominant_Topic']\n"
      ],
      "execution_count": null,
      "outputs": []
    },
    {
      "cell_type": "markdown",
      "metadata": {
        "id": "mA35orWWqQMt"
      },
      "source": [
        "Let's examine some text and its topics"
      ]
    },
    {
      "cell_type": "code",
      "metadata": {
        "id": "7cHF6NEHkHYh",
        "colab": {
          "base_uri": "https://localhost:8080/",
          "height": 335
        },
        "outputId": "8141df9c-6d26-4d3d-d6d9-9643da78a7c7"
      },
      "source": [
        "df[['text2', 'labels']].head(10)"
      ],
      "execution_count": null,
      "outputs": [
        {
          "output_type": "execute_result",
          "data": {
            "text/html": [
              "<div>\n",
              "<style scoped>\n",
              "    .dataframe tbody tr th:only-of-type {\n",
              "        vertical-align: middle;\n",
              "    }\n",
              "\n",
              "    .dataframe tbody tr th {\n",
              "        vertical-align: top;\n",
              "    }\n",
              "\n",
              "    .dataframe thead th {\n",
              "        text-align: right;\n",
              "    }\n",
              "</style>\n",
              "<table border=\"1\" class=\"dataframe\">\n",
              "  <thead>\n",
              "    <tr style=\"text-align: right;\">\n",
              "      <th></th>\n",
              "      <th>text2</th>\n",
              "      <th>labels</th>\n",
              "    </tr>\n",
              "  </thead>\n",
              "  <tbody>\n",
              "    <tr>\n",
              "      <th>0</th>\n",
              "      <td>El presidente estadounidense, Donald Trump, s...</td>\n",
              "      <td>elections</td>\n",
              "    </tr>\n",
              "    <tr>\n",
              "      <th>1</th>\n",
              "      <td>El gobernador del estado venezolano de Mirand...</td>\n",
              "      <td>peacy_treaty</td>\n",
              "    </tr>\n",
              "    <tr>\n",
              "      <th>2</th>\n",
              "      <td>Las autoridades de la República Democrática d...</td>\n",
              "      <td>seism</td>\n",
              "    </tr>\n",
              "    <tr>\n",
              "      <th>3</th>\n",
              "      <td>El primer ministro nipón, Shinzo Abe, pidió e...</td>\n",
              "      <td>economic_crisis</td>\n",
              "    </tr>\n",
              "    <tr>\n",
              "      <th>4</th>\n",
              "      <td>La Guardia Costera de EE UU ha interceptado u...</td>\n",
              "      <td>sea_disasters</td>\n",
              "    </tr>\n",
              "    <tr>\n",
              "      <th>5</th>\n",
              "      <td>Una jueza del condado de Hamilton (Ohio, EE U...</td>\n",
              "      <td>violence</td>\n",
              "    </tr>\n",
              "    <tr>\n",
              "      <th>6</th>\n",
              "      <td>El nuevo Gobierno griego del conservador Kyri...</td>\n",
              "      <td>peacy_treaty</td>\n",
              "    </tr>\n",
              "    <tr>\n",
              "      <th>7</th>\n",
              "      <td>La capitana del barco humanitario Sea Watch 3...</td>\n",
              "      <td>protest</td>\n",
              "    </tr>\n",
              "    <tr>\n",
              "      <th>8</th>\n",
              "      <td>La Policía de Gibraltar ha detenido este vier...</td>\n",
              "      <td>sea_disasters</td>\n",
              "    </tr>\n",
              "    <tr>\n",
              "      <th>9</th>\n",
              "      <td>El presidente de Estados Unidos, Donald Trump...</td>\n",
              "      <td>elections</td>\n",
              "    </tr>\n",
              "  </tbody>\n",
              "</table>\n",
              "</div>"
            ],
            "text/plain": [
              "                                               text2           labels\n",
              "0   El presidente estadounidense, Donald Trump, s...        elections\n",
              "1   El gobernador del estado venezolano de Mirand...     peacy_treaty\n",
              "2   Las autoridades de la República Democrática d...            seism\n",
              "3   El primer ministro nipón, Shinzo Abe, pidió e...  economic_crisis\n",
              "4   La Guardia Costera de EE UU ha interceptado u...    sea_disasters\n",
              "5   Una jueza del condado de Hamilton (Ohio, EE U...         violence\n",
              "6   El nuevo Gobierno griego del conservador Kyri...     peacy_treaty\n",
              "7   La capitana del barco humanitario Sea Watch 3...          protest\n",
              "8   La Policía de Gibraltar ha detenido este vier...    sea_disasters\n",
              "9   El presidente de Estados Unidos, Donald Trump...        elections"
            ]
          },
          "metadata": {
            "tags": []
          },
          "execution_count": 74
        }
      ]
    },
    {
      "cell_type": "code",
      "metadata": {
        "id": "sgkBFTYbqID0",
        "colab": {
          "base_uri": "https://localhost:8080/",
          "height": 115
        },
        "outputId": "cb7ce341-6c49-48c3-eb15-cccb8a5ea902"
      },
      "source": [
        "df[ df['labels'] == 'family'].head().text2"
      ],
      "execution_count": null,
      "outputs": [
        {
          "output_type": "execute_result",
          "data": {
            "text/plain": [
              "5      Una jueza del condado de Hamilton (Ohio, EE U...\n",
              "7      La capitana del barco humanitario Sea Watch 3...\n",
              "10     Un bebé de un año ha muerto en la localidad f...\n",
              "12     Una mujer de Nueva York denunció este miércol...\n",
              "14     El fiscal general venezolano, Tarek Saab, inf...\n",
              "Name: text2, dtype: object"
            ]
          },
          "metadata": {
            "tags": []
          },
          "execution_count": 48
        }
      ]
    },
    {
      "cell_type": "markdown",
      "metadata": {
        "id": "dCc6-oIo6BMw"
      },
      "source": [
        "### let's see the distribution of topics\n"
      ]
    },
    {
      "cell_type": "code",
      "metadata": {
        "id": "VOitT-s10yv5",
        "colab": {
          "base_uri": "https://localhost:8080/",
          "height": 337
        },
        "outputId": "16a4b62a-dd36-4607-a55b-ad77f80acf65"
      },
      "source": [
        "ax = df_dominant_topic['Dominant_Topic'].value_counts().plot(kind='bar')\n",
        "plt.show()"
      ],
      "execution_count": null,
      "outputs": [
        {
          "output_type": "display_data",
          "data": {
            "image/png": "[encoded data removed]",
            "text/plain": [
              "<Figure size 432x288 with 1 Axes>"
            ]
          },
          "metadata": {
            "tags": []
          }
        }
      ]
    },
    {
      "cell_type": "markdown",
      "metadata": {
        "id": "Jh0l7ngJ6J12"
      },
      "source": [
        "The topis are almost balanced, so we are good"
      ]
    },
    {
      "cell_type": "markdown",
      "metadata": {
        "id": "AcWRIAWTWhl7"
      },
      "source": [
        "finally that we have our models set up, as well as analyzed, we can go\n",
        "ahead to visualizing them."
      ]
    },
    {
      "cell_type": "code",
      "metadata": {
        "id": "Jv3PFRwBs-gT",
        "colab": {
          "base_uri": "https://localhost:8080/"
        },
        "outputId": "4435aa3c-761e-4913-efe2-6dad04af6f14"
      },
      "source": [
        "!pip install pyLDAvis"
      ],
      "execution_count": null,
      "outputs": [
        {
          "output_type": "stream",
          "text": [
            "Collecting pyLDAvis\n",
            "\u001b[?25l  Downloading https://files.pythonhosted.org/packages/a5/3a/af82e070a8a96e13217c8f362f9a73e82d61ac8fff3a2561946a97f96266/pyLDAvis-2.1.2.tar.gz (1.6MB)\n",
            "\r\u001b[K     |▏                               | 10kB 16.5MB/s eta 0:00:01\r\u001b[K     |▍                               | 20kB 18.5MB/s eta 0:00:01\r\u001b[K     |▋                               | 30kB 15.1MB/s eta 0:00:01\r\u001b[K     |▉                               | 40kB 13.6MB/s eta 0:00:01\r\u001b[K     |█                               | 51kB 11.1MB/s eta 0:00:01\r\u001b[K     |█▏                              | 61kB 12.6MB/s eta 0:00:01\r\u001b[K     |█▍                              | 71kB 11.8MB/s eta 0:00:01\r\u001b[K     |█▋                              | 81kB 12.7MB/s eta 0:00:01\r\u001b[K     |█▉                              | 92kB 12.0MB/s eta 0:00:01\r\u001b[K     |██                              | 102kB 11.0MB/s eta 0:00:01\r\u001b[K     |██▎                             | 112kB 11.0MB/s eta 0:00:01\r\u001b[K     |██▍                             | 122kB 11.0MB/s eta 0:00:01\r\u001b[K     |██▋                             | 133kB 11.0MB/s eta 0:00:01\r\u001b[K     |██▉                             | 143kB 11.0MB/s eta 0:00:01\r\u001b[K     |███                             | 153kB 11.0MB/s eta 0:00:01\r\u001b[K     |███▎                            | 163kB 11.0MB/s eta 0:00:01\r\u001b[K     |███▌                            | 174kB 11.0MB/s eta 0:00:01\r\u001b[K     |███▋                            | 184kB 11.0MB/s eta 0:00:01\r\u001b[K     |███▉                            | 194kB 11.0MB/s eta 0:00:01\r\u001b[K     |████                            | 204kB 11.0MB/s eta 0:00:01\r\u001b[K     |████▎                           | 215kB 11.0MB/s eta 0:00:01\r\u001b[K     |████▌                           | 225kB 11.0MB/s eta 0:00:01\r\u001b[K     |████▊                           | 235kB 11.0MB/s eta 0:00:01\r\u001b[K     |████▉                           | 245kB 11.0MB/s eta 0:00:01\r\u001b[K     |█████                           | 256kB 11.0MB/s eta 0:00:01\r\u001b[K     |█████▎                          | 266kB 11.0MB/s eta 0:00:01\r\u001b[K     |█████▌                          | 276kB 11.0MB/s eta 0:00:01\r\u001b[K     |█████▊                          | 286kB 11.0MB/s eta 0:00:01\r\u001b[K     |█████▉                          | 296kB 11.0MB/s eta 0:00:01\r\u001b[K     |██████                          | 307kB 11.0MB/s eta 0:00:01\r\u001b[K     |██████▎                         | 317kB 11.0MB/s eta 0:00:01\r\u001b[K     |██████▌                         | 327kB 11.0MB/s eta 0:00:01\r\u001b[K     |██████▊                         | 337kB 11.0MB/s eta 0:00:01\r\u001b[K     |███████                         | 348kB 11.0MB/s eta 0:00:01\r\u001b[K     |███████                         | 358kB 11.0MB/s eta 0:00:01\r\u001b[K     |███████▎                        | 368kB 11.0MB/s eta 0:00:01\r\u001b[K     |███████▌                        | 378kB 11.0MB/s eta 0:00:01\r\u001b[K     |███████▊                        | 389kB 11.0MB/s eta 0:00:01\r\u001b[K     |████████                        | 399kB 11.0MB/s eta 0:00:01\r\u001b[K     |████████▏                       | 409kB 11.0MB/s eta 0:00:01\r\u001b[K     |████████▎                       | 419kB 11.0MB/s eta 0:00:01\r\u001b[K     |████████▌                       | 430kB 11.0MB/s eta 0:00:01\r\u001b[K     |████████▊                       | 440kB 11.0MB/s eta 0:00:01\r\u001b[K     |█████████                       | 450kB 11.0MB/s eta 0:00:01\r\u001b[K     |█████████▏                      | 460kB 11.0MB/s eta 0:00:01\r\u001b[K     |█████████▍                      | 471kB 11.0MB/s eta 0:00:01\r\u001b[K     |█████████▌                      | 481kB 11.0MB/s eta 0:00:01\r\u001b[K     |█████████▊                      | 491kB 11.0MB/s eta 0:00:01\r\u001b[K     |██████████                      | 501kB 11.0MB/s eta 0:00:01\r\u001b[K     |██████████▏                     | 512kB 11.0MB/s eta 0:00:01\r\u001b[K     |██████████▍                     | 522kB 11.0MB/s eta 0:00:01\r\u001b[K     |██████████▋                     | 532kB 11.0MB/s eta 0:00:01\r\u001b[K     |██████████▊                     | 542kB 11.0MB/s eta 0:00:01\r\u001b[K     |███████████                     | 552kB 11.0MB/s eta 0:00:01\r\u001b[K     |███████████▏                    | 563kB 11.0MB/s eta 0:00:01\r\u001b[K     |███████████▍                    | 573kB 11.0MB/s eta 0:00:01\r\u001b[K     |███████████▋                    | 583kB 11.0MB/s eta 0:00:01\r\u001b[K     |███████████▊                    | 593kB 11.0MB/s eta 0:00:01\r\u001b[K     |████████████                    | 604kB 11.0MB/s eta 0:00:01\r\u001b[K     |████████████▏                   | 614kB 11.0MB/s eta 0:00:01\r\u001b[K     |████████████▍                   | 624kB 11.0MB/s eta 0:00:01\r\u001b[K     |████████████▋                   | 634kB 11.0MB/s eta 0:00:01\r\u001b[K     |████████████▉                   | 645kB 11.0MB/s eta 0:00:01\r\u001b[K     |█████████████                   | 655kB 11.0MB/s eta 0:00:01\r\u001b[K     |█████████████▏                  | 665kB 11.0MB/s eta 0:00:01\r\u001b[K     |█████████████▍                  | 675kB 11.0MB/s eta 0:00:01\r\u001b[K     |█████████████▋                  | 686kB 11.0MB/s eta 0:00:01\r\u001b[K     |█████████████▉                  | 696kB 11.0MB/s eta 0:00:01\r\u001b[K     |██████████████                  | 706kB 11.0MB/s eta 0:00:01\r\u001b[K     |██████████████▏                 | 716kB 11.0MB/s eta 0:00:01\r\u001b[K     |██████████████▍                 | 727kB 11.0MB/s eta 0:00:01\r\u001b[K     |██████████████▋                 | 737kB 11.0MB/s eta 0:00:01\r\u001b[K     |██████████████▉                 | 747kB 11.0MB/s eta 0:00:01\r\u001b[K     |███████████████                 | 757kB 11.0MB/s eta 0:00:01\r\u001b[K     |███████████████▎                | 768kB 11.0MB/s eta 0:00:01\r\u001b[K     |███████████████▍                | 778kB 11.0MB/s eta 0:00:01\r\u001b[K     |███████████████▋                | 788kB 11.0MB/s eta 0:00:01\r\u001b[K     |███████████████▉                | 798kB 11.0MB/s eta 0:00:01\r\u001b[K     |████████████████                | 808kB 11.0MB/s eta 0:00:01\r\u001b[K     |████████████████▎               | 819kB 11.0MB/s eta 0:00:01\r\u001b[K     |████████████████▌               | 829kB 11.0MB/s eta 0:00:01\r\u001b[K     |████████████████▋               | 839kB 11.0MB/s eta 0:00:01\r\u001b[K     |████████████████▉               | 849kB 11.0MB/s eta 0:00:01\r\u001b[K     |█████████████████               | 860kB 11.0MB/s eta 0:00:01\r\u001b[K     |█████████████████▎              | 870kB 11.0MB/s eta 0:00:01\r\u001b[K     |█████████████████▌              | 880kB 11.0MB/s eta 0:00:01\r\u001b[K     |█████████████████▋              | 890kB 11.0MB/s eta 0:00:01\r\u001b[K     |█████████████████▉              | 901kB 11.0MB/s eta 0:00:01\r\u001b[K     |██████████████████              | 911kB 11.0MB/s eta 0:00:01\r\u001b[K     |██████████████████▎             | 921kB 11.0MB/s eta 0:00:01\r\u001b[K     |██████████████████▌             | 931kB 11.0MB/s eta 0:00:01\r\u001b[K     |██████████████████▊             | 942kB 11.0MB/s eta 0:00:01\r\u001b[K     |██████████████████▉             | 952kB 11.0MB/s eta 0:00:01\r\u001b[K     |███████████████████             | 962kB 11.0MB/s eta 0:00:01\r\u001b[K     |███████████████████▎            | 972kB 11.0MB/s eta 0:00:01\r\u001b[K     |███████████████████▌            | 983kB 11.0MB/s eta 0:00:01\r\u001b[K     |███████████████████▊            | 993kB 11.0MB/s eta 0:00:01\r\u001b[K     |████████████████████            | 1.0MB 11.0MB/s eta 0:00:01\r\u001b[K     |████████████████████            | 1.0MB 11.0MB/s eta 0:00:01\r\u001b[K     |████████████████████▎           | 1.0MB 11.0MB/s eta 0:00:01\r\u001b[K     |████████████████████▌           | 1.0MB 11.0MB/s eta 0:00:01\r\u001b[K     |████████████████████▊           | 1.0MB 11.0MB/s eta 0:00:01\r\u001b[K     |█████████████████████           | 1.1MB 11.0MB/s eta 0:00:01\r\u001b[K     |█████████████████████▏          | 1.1MB 11.0MB/s eta 0:00:01\r\u001b[K     |█████████████████████▎          | 1.1MB 11.0MB/s eta 0:00:01\r\u001b[K     |█████████████████████▌          | 1.1MB 11.0MB/s eta 0:00:01\r\u001b[K     |█████████████████████▊          | 1.1MB 11.0MB/s eta 0:00:01\r\u001b[K     |██████████████████████          | 1.1MB 11.0MB/s eta 0:00:01\r\u001b[K     |██████████████████████▏         | 1.1MB 11.0MB/s eta 0:00:01\r\u001b[K     |██████████████████████▍         | 1.1MB 11.0MB/s eta 0:00:01\r\u001b[K     |██████████████████████▌         | 1.1MB 11.0MB/s eta 0:00:01\r\u001b[K     |██████████████████████▊         | 1.1MB 11.0MB/s eta 0:00:01\r\u001b[K     |███████████████████████         | 1.2MB 11.0MB/s eta 0:00:01\r\u001b[K     |███████████████████████▏        | 1.2MB 11.0MB/s eta 0:00:01\r\u001b[K     |███████████████████████▍        | 1.2MB 11.0MB/s eta 0:00:01\r\u001b[K     |███████████████████████▌        | 1.2MB 11.0MB/s eta 0:00:01\r\u001b[K     |███████████████████████▊        | 1.2MB 11.0MB/s eta 0:00:01\r\u001b[K     |████████████████████████        | 1.2MB 11.0MB/s eta 0:00:01\r\u001b[K     |████████████████████████▏       | 1.2MB 11.0MB/s eta 0:00:01\r\u001b[K     |████████████████████████▍       | 1.2MB 11.0MB/s eta 0:00:01\r\u001b[K     |████████████████████████▋       | 1.2MB 11.0MB/s eta 0:00:01\r\u001b[K     |████████████████████████▊       | 1.2MB 11.0MB/s eta 0:00:01\r\u001b[K     |█████████████████████████       | 1.3MB 11.0MB/s eta 0:00:01\r\u001b[K     |█████████████████████████▏      | 1.3MB 11.0MB/s eta 0:00:01\r\u001b[K     |█████████████████████████▍      | 1.3MB 11.0MB/s eta 0:00:01\r\u001b[K     |█████████████████████████▋      | 1.3MB 11.0MB/s eta 0:00:01\r\u001b[K     |█████████████████████████▉      | 1.3MB 11.0MB/s eta 0:00:01\r\u001b[K     |██████████████████████████      | 1.3MB 11.0MB/s eta 0:00:01\r\u001b[K     |██████████████████████████▏     | 1.3MB 11.0MB/s eta 0:00:01\r\u001b[K     |██████████████████████████▍     | 1.3MB 11.0MB/s eta 0:00:01\r\u001b[K     |██████████████████████████▋     | 1.3MB 11.0MB/s eta 0:00:01\r\u001b[K     |██████████████████████████▉     | 1.4MB 11.0MB/s eta 0:00:01\r\u001b[K     |███████████████████████████     | 1.4MB 11.0MB/s eta 0:00:01\r\u001b[K     |███████████████████████████▏    | 1.4MB 11.0MB/s eta 0:00:01\r\u001b[K     |███████████████████████████▍    | 1.4MB 11.0MB/s eta 0:00:01\r\u001b[K     |███████████████████████████▋    | 1.4MB 11.0MB/s eta 0:00:01\r\u001b[K     |███████████████████████████▉    | 1.4MB 11.0MB/s eta 0:00:01\r\u001b[K     |████████████████████████████    | 1.4MB 11.0MB/s eta 0:00:01\r\u001b[K     |████████████████████████████▏   | 1.4MB 11.0MB/s eta 0:00:01\r\u001b[K     |████████████████████████████▍   | 1.4MB 11.0MB/s eta 0:00:01\r\u001b[K     |████████████████████████████▋   | 1.4MB 11.0MB/s eta 0:00:01\r\u001b[K     |████████████████████████████▉   | 1.5MB 11.0MB/s eta 0:00:01\r\u001b[K     |█████████████████████████████   | 1.5MB 11.0MB/s eta 0:00:01\r\u001b[K     |█████████████████████████████▎  | 1.5MB 11.0MB/s eta 0:00:01\r\u001b[K     |█████████████████████████████▍  | 1.5MB 11.0MB/s eta 0:00:01\r\u001b[K     |█████████████████████████████▋  | 1.5MB 11.0MB/s eta 0:00:01\r\u001b[K     |█████████████████████████████▉  | 1.5MB 11.0MB/s eta 0:00:01\r\u001b[K     |██████████████████████████████  | 1.5MB 11.0MB/s eta 0:00:01\r\u001b[K     |██████████████████████████████▎ | 1.5MB 11.0MB/s eta 0:00:01\r\u001b[K     |██████████████████████████████▌ | 1.5MB 11.0MB/s eta 0:00:01\r\u001b[K     |██████████████████████████████▋ | 1.5MB 11.0MB/s eta 0:00:01\r\u001b[K     |██████████████████████████████▉ | 1.6MB 11.0MB/s eta 0:00:01\r\u001b[K     |███████████████████████████████ | 1.6MB 11.0MB/s eta 0:00:01\r\u001b[K     |███████████████████████████████▎| 1.6MB 11.0MB/s eta 0:00:01\r\u001b[K     |███████████████████████████████▌| 1.6MB 11.0MB/s eta 0:00:01\r\u001b[K     |███████████████████████████████▊| 1.6MB 11.0MB/s eta 0:00:01\r\u001b[K     |███████████████████████████████▉| 1.6MB 11.0MB/s eta 0:00:01\r\u001b[K     |████████████████████████████████| 1.6MB 11.0MB/s \n",
            "\u001b[?25hRequirement already satisfied: wheel>=0.23.0 in /usr/local/lib/python3.6/dist-packages (from pyLDAvis) (0.35.1)\n",
            "Requirement already satisfied: numpy>=1.9.2 in /usr/local/lib/python3.6/dist-packages (from pyLDAvis) (1.18.5)\n",
            "Requirement already satisfied: scipy>=0.18.0 in /usr/local/lib/python3.6/dist-packages (from pyLDAvis) (1.4.1)\n",
            "Requirement already satisfied: pandas>=0.17.0 in /usr/local/lib/python3.6/dist-packages (from pyLDAvis) (1.1.4)\n",
            "Requirement already satisfied: joblib>=0.8.4 in /usr/local/lib/python3.6/dist-packages (from pyLDAvis) (0.17.0)\n",
            "Requirement already satisfied: jinja2>=2.7.2 in /usr/local/lib/python3.6/dist-packages (from pyLDAvis) (2.11.2)\n",
            "Requirement already satisfied: numexpr in /usr/local/lib/python3.6/dist-packages (from pyLDAvis) (2.7.1)\n",
            "Requirement already satisfied: pytest in /usr/local/lib/python3.6/dist-packages (from pyLDAvis) (3.6.4)\n",
            "Requirement already satisfied: future in /usr/local/lib/python3.6/dist-packages (from pyLDAvis) (0.16.0)\n",
            "Collecting funcy\n",
            "  Downloading https://files.pythonhosted.org/packages/66/89/479de0afbbfb98d1c4b887936808764627300208bb771fcd823403645a36/funcy-1.15-py2.py3-none-any.whl\n",
            "Requirement already satisfied: pytz>=2017.2 in /usr/local/lib/python3.6/dist-packages (from pandas>=0.17.0->pyLDAvis) (2018.9)\n",
            "Requirement already satisfied: python-dateutil>=2.7.3 in /usr/local/lib/python3.6/dist-packages (from pandas>=0.17.0->pyLDAvis) (2.8.1)\n",
            "Requirement already satisfied: MarkupSafe>=0.23 in /usr/local/lib/python3.6/dist-packages (from jinja2>=2.7.2->pyLDAvis) (1.1.1)\n",
            "Requirement already satisfied: six>=1.10.0 in /usr/local/lib/python3.6/dist-packages (from pytest->pyLDAvis) (1.15.0)\n",
            "Requirement already satisfied: pluggy<0.8,>=0.5 in /usr/local/lib/python3.6/dist-packages (from pytest->pyLDAvis) (0.7.1)\n",
            "Requirement already satisfied: py>=1.5.0 in /usr/local/lib/python3.6/dist-packages (from pytest->pyLDAvis) (1.9.0)\n",
            "Requirement already satisfied: atomicwrites>=1.0 in /usr/local/lib/python3.6/dist-packages (from pytest->pyLDAvis) (1.4.0)\n",
            "Requirement already satisfied: more-itertools>=4.0.0 in /usr/local/lib/python3.6/dist-packages (from pytest->pyLDAvis) (8.6.0)\n",
            "Requirement already satisfied: attrs>=17.4.0 in /usr/local/lib/python3.6/dist-packages (from pytest->pyLDAvis) (20.3.0)\n",
            "Requirement already satisfied: setuptools in /usr/local/lib/python3.6/dist-packages (from pytest->pyLDAvis) (50.3.2)\n",
            "Building wheels for collected packages: pyLDAvis\n",
            "  Building wheel for pyLDAvis (setup.py) ... \u001b[?25l\u001b[?25hdone\n",
            "  Created wheel for pyLDAvis: filename=pyLDAvis-2.1.2-py2.py3-none-any.whl size=97712 sha256=2a06ca43d78c9313544ee206c33ccd010fb9abae4821762434ad95a07c9fb866\n",
            "  Stored in directory: /root/.cache/pip/wheels/98/71/24/513a99e58bb6b8465bae4d2d5e9dba8f0bef8179e3051ac414\n",
            "Successfully built pyLDAvis\n",
            "Installing collected packages: funcy, pyLDAvis\n",
            "Successfully installed funcy-1.15 pyLDAvis-2.1.2\n"
          ],
          "name": "stdout"
        }
      ]
    },
    {
      "cell_type": "code",
      "metadata": {
        "id": "jXpx66NTd1uT"
      },
      "source": [
        "import pyLDAvis\n",
        "\n",
        "pyLDAvis.enable_notebook()"
      ],
      "execution_count": null,
      "outputs": []
    },
    {
      "cell_type": "code",
      "metadata": {
        "id": "diu2MLik41sf",
        "colab": {
          "base_uri": "https://localhost:8080/",
          "height": 197
        },
        "outputId": "2568571b-39fe-4d0c-b600-030bfe72df3a"
      },
      "source": [
        "# %%time\n",
        "import pyLDAvis.gensim\n",
        "pyLDAvis.gensim.prepare(ldamodel, corpus, dictionary)"
      ],
      "execution_count": null,
      "outputs": [
        {
          "output_type": "error",
          "ename": "NameError",
          "evalue": "ignored",
          "traceback": [
            "\u001b[0;31m---------------------------------------------------------------------------\u001b[0m",
            "\u001b[0;31mNameError\u001b[0m                                 Traceback (most recent call last)",
            "\u001b[0;32m<ipython-input-4-616dd35e08f9>\u001b[0m in \u001b[0;36m<module>\u001b[0;34m()\u001b[0m\n\u001b[1;32m      1\u001b[0m \u001b[0;31m# %%time\u001b[0m\u001b[0;34m\u001b[0m\u001b[0;34m\u001b[0m\u001b[0;34m\u001b[0m\u001b[0m\n\u001b[1;32m      2\u001b[0m \u001b[0;32mimport\u001b[0m \u001b[0mpyLDAvis\u001b[0m\u001b[0;34m.\u001b[0m\u001b[0mgensim\u001b[0m\u001b[0;34m\u001b[0m\u001b[0;34m\u001b[0m\u001b[0m\n\u001b[0;32m----> 3\u001b[0;31m \u001b[0mpyLDAvis\u001b[0m\u001b[0;34m.\u001b[0m\u001b[0mgensim\u001b[0m\u001b[0;34m.\u001b[0m\u001b[0mprepare\u001b[0m\u001b[0;34m(\u001b[0m\u001b[0mldamodel\u001b[0m\u001b[0;34m,\u001b[0m \u001b[0mcorpus\u001b[0m\u001b[0;34m,\u001b[0m \u001b[0mdictionary\u001b[0m\u001b[0;34m)\u001b[0m\u001b[0;34m\u001b[0m\u001b[0;34m\u001b[0m\u001b[0m\n\u001b[0m",
            "\u001b[0;31mNameError\u001b[0m: name 'ldamodel' is not defined"
          ]
        }
      ]
    },
    {
      "cell_type": "markdown",
      "metadata": {
        "id": "XYUAzh69uyGK"
      },
      "source": [
        "https://www.tutorialspoint.com/gensim/gensim_creating_lsi_and_hdp_topic_model.htm\n",
        "\n",
        "https://github.com/ArmandDS/topic_modeling/blob/master/topic_modeling_spanish.ipynb"
      ]
    }
  ]
}