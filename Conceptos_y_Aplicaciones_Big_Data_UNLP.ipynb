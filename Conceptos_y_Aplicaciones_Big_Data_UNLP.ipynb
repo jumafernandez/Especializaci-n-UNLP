{
  "nbformat": 4,
  "nbformat_minor": 0,
  "metadata": {
    "colab": {
      "name": "Conceptos_y_Aplicaciones_Big_Data_UNLP.ipynb",
      "provenance": [],
      "include_colab_link": true
    },
    "kernelspec": {
      "name": "python3",
      "display_name": "Python 3"
    }
  },
  "cells": [
    {
      "cell_type": "markdown",
      "metadata": {
        "id": "view-in-github",
        "colab_type": "text"
      },
      "source": [
        "<a href=\"https://colab.research.google.com/github/jumafernandez/UNLP/blob/master/Conceptos_y_Aplicaciones_Big_Data_UNLP.ipynb\" target=\"_parent\"><img src=\"https://colab.research.google.com/assets/colab-badge.svg\" alt=\"Open In Colab\"/></a>"
      ]
    },
    {
      "cell_type": "markdown",
      "metadata": {
        "id": "gWF9WA6bY8Gq",
        "colab_type": "text"
      },
      "source": [
        "## **TRABAJO INTEGRADOR FINAL: CONCEPTOS Y APLICACIONES DE BIG DATA - UNLP**\n",
        "\n",
        "__Carrera:__ Espcialización en Inteligencia de Datos orientada a Big Data <br/>\n",
        "__Docente:__ Waldo Hasperué  <br/>\n",
        "__Estudiante:__ Juan Manuel Fernandez\n",
        "<br/>  <br/>\n",
        "__Resolución de Consultas utilizando PySpark:__ <br />\n",
        "\n",
        "_Consulta 1:_ Puntaje histórico promedio de cada uno de los arqueros que jugaron en algún equipo de Uruguay. <br />\n",
        "\n",
        "_Consulta 2:_ ¿Cuál es el nombre del equipo que salio campeón en la temporada 2015 de la primera división de Francia? <br />\n",
        "\n",
        "\n"
      ]
    },
    {
      "cell_type": "markdown",
      "metadata": {
        "id": "QCAItzJbaacX",
        "colab_type": "text"
      },
      "source": [
        "### Preparación del entorno Pyspark y carga de datos\n",
        "\n",
        "En primer lugar, cargamos los datos de fantasía desde un repositorio Github:\n",
        "\n",
        "\n",
        "---\n",
        "\n"
      ]
    },
    {
      "cell_type": "code",
      "metadata": {
        "id": "Rpq_LqF6fVro",
        "colab_type": "code",
        "colab": {
          "base_uri": "https://localhost:8080/",
          "height": 1000
        },
        "outputId": "3d39e5ad-4b5a-40ae-c265-22acba4e0e73"
      },
      "source": [
        "!wget https://raw.githubusercontent.com/jumafernandez/UNLP/master/CyA_BD/liga.csv\n",
        "!wget https://raw.githubusercontent.com/jumafernandez/UNLP/master/CyA_BD/equipo.csv\n",
        "!wget https://raw.githubusercontent.com/jumafernandez/UNLP/master/CyA_BD/jugador.csv\n",
        "!wget https://raw.githubusercontent.com/jumafernandez/UNLP/master/CyA_BD/encuentro.csv\n",
        "!wget https://raw.githubusercontent.com/jumafernandez/UNLP/master/CyA_BD/participacion_jugador.csv\n",
        "!wget https://raw.githubusercontent.com/jumafernandez/UNLP/master/CyA_BD/goles.csv"
      ],
      "execution_count": 6,
      "outputs": [
        {
          "output_type": "stream",
          "text": [
            "--2019-09-27 12:14:53--  https://raw.githubusercontent.com/jumafernandez/UNLP/master/CyA_BD/liga.csv\n",
            "Resolving raw.githubusercontent.com (raw.githubusercontent.com)... 151.101.0.133, 151.101.64.133, 151.101.128.133, ...\n",
            "Connecting to raw.githubusercontent.com (raw.githubusercontent.com)|151.101.0.133|:443... connected.\n",
            "HTTP request sent, awaiting response... 200 OK\n",
            "Length: 310 [text/plain]\n",
            "Saving to: ‘liga.csv’\n",
            "\n",
            "\rliga.csv              0%[                    ]       0  --.-KB/s               \rliga.csv            100%[===================>]     310  --.-KB/s    in 0s      \n",
            "\n",
            "2019-09-27 12:14:53 (55.3 MB/s) - ‘liga.csv’ saved [310/310]\n",
            "\n",
            "--2019-09-27 12:14:56--  https://raw.githubusercontent.com/jumafernandez/UNLP/master/CyA_BD/equipo.csv\n",
            "Resolving raw.githubusercontent.com (raw.githubusercontent.com)... 151.101.0.133, 151.101.64.133, 151.101.128.133, ...\n",
            "Connecting to raw.githubusercontent.com (raw.githubusercontent.com)|151.101.0.133|:443... connected.\n",
            "HTTP request sent, awaiting response... 200 OK\n",
            "Length: 358 [text/plain]\n",
            "Saving to: ‘equipo.csv’\n",
            "\n",
            "equipo.csv          100%[===================>]     358  --.-KB/s    in 0s      \n",
            "\n",
            "2019-09-27 12:14:56 (113 MB/s) - ‘equipo.csv’ saved [358/358]\n",
            "\n",
            "--2019-09-27 12:15:01--  https://raw.githubusercontent.com/jumafernandez/UNLP/master/CyA_BD/jugador.csv\n",
            "Resolving raw.githubusercontent.com (raw.githubusercontent.com)... 151.101.0.133, 151.101.64.133, 151.101.128.133, ...\n",
            "Connecting to raw.githubusercontent.com (raw.githubusercontent.com)|151.101.0.133|:443... connected.\n",
            "HTTP request sent, awaiting response... 200 OK\n",
            "Length: 896 [text/plain]\n",
            "Saving to: ‘jugador.csv’\n",
            "\n",
            "jugador.csv         100%[===================>]     896  --.-KB/s    in 0s      \n",
            "\n",
            "2019-09-27 12:15:01 (173 MB/s) - ‘jugador.csv’ saved [896/896]\n",
            "\n",
            "--2019-09-27 12:15:06--  https://raw.githubusercontent.com/jumafernandez/UNLP/master/CyA_BD/encuentro.csv\n",
            "Resolving raw.githubusercontent.com (raw.githubusercontent.com)... 151.101.0.133, 151.101.64.133, 151.101.128.133, ...\n",
            "Connecting to raw.githubusercontent.com (raw.githubusercontent.com)|151.101.0.133|:443... connected.\n",
            "HTTP request sent, awaiting response... 200 OK\n",
            "Length: 223 [text/plain]\n",
            "Saving to: ‘encuentro.csv.1’\n",
            "\n",
            "encuentro.csv.1     100%[===================>]     223  --.-KB/s    in 0s      \n",
            "\n",
            "2019-09-27 12:15:06 (63.8 MB/s) - ‘encuentro.csv.1’ saved [223/223]\n",
            "\n",
            "--2019-09-27 12:15:10--  https://raw.githubusercontent.com/jumafernandez/UNLP/master/CyA_BD/participacion_jugador.csv\n",
            "Resolving raw.githubusercontent.com (raw.githubusercontent.com)... 151.101.0.133, 151.101.64.133, 151.101.128.133, ...\n",
            "Connecting to raw.githubusercontent.com (raw.githubusercontent.com)|151.101.0.133|:443... connected.\n",
            "HTTP request sent, awaiting response... 200 OK\n",
            "Length: 830 [text/plain]\n",
            "Saving to: ‘participacion_jugador.csv’\n",
            "\n",
            "participacion_jugad 100%[===================>]     830  --.-KB/s    in 0s      \n",
            "\n",
            "2019-09-27 12:15:10 (161 MB/s) - ‘participacion_jugador.csv’ saved [830/830]\n",
            "\n",
            "--2019-09-27 12:15:14--  https://raw.githubusercontent.com/jumafernandez/UNLP/master/CyA_BD/goles.csv\n",
            "Resolving raw.githubusercontent.com (raw.githubusercontent.com)... 151.101.0.133, 151.101.64.133, 151.101.128.133, ...\n",
            "Connecting to raw.githubusercontent.com (raw.githubusercontent.com)|151.101.0.133|:443... connected.\n",
            "HTTP request sent, awaiting response... 200 OK\n",
            "Length: 118 [text/plain]\n",
            "Saving to: ‘goles.csv’\n",
            "\n",
            "goles.csv           100%[===================>]     118  --.-KB/s    in 0s      \n",
            "\n",
            "2019-09-27 12:15:14 (15.6 MB/s) - ‘goles.csv’ saved [118/118]\n",
            "\n"
          ],
          "name": "stdout"
        }
      ]
    },
    {
      "cell_type": "markdown",
      "metadata": {
        "id": "zt82LZmqpoGm",
        "colab_type": "text"
      },
      "source": [
        "Instalamos la librería pyspark:"
      ]
    },
    {
      "cell_type": "code",
      "metadata": {
        "id": "9YJgvLUJprSl",
        "colab_type": "code",
        "colab": {
          "base_uri": "https://localhost:8080/",
          "height": 258
        },
        "outputId": "7074c222-280b-4ea7-fb73-80e53eee1f9b"
      },
      "source": [
        "!pip install pyspark"
      ],
      "execution_count": 7,
      "outputs": [
        {
          "output_type": "stream",
          "text": [
            "Collecting pyspark\n",
            "\u001b[?25l  Downloading https://files.pythonhosted.org/packages/87/21/f05c186f4ddb01d15d0ddc36ef4b7e3cedbeb6412274a41f26b55a650ee5/pyspark-2.4.4.tar.gz (215.7MB)\n",
            "\u001b[K     |████████████████████████████████| 215.7MB 118kB/s \n",
            "\u001b[?25hCollecting py4j==0.10.7 (from pyspark)\n",
            "\u001b[?25l  Downloading https://files.pythonhosted.org/packages/e3/53/c737818eb9a7dc32a7cd4f1396e787bd94200c3997c72c1dbe028587bd76/py4j-0.10.7-py2.py3-none-any.whl (197kB)\n",
            "\u001b[K     |████████████████████████████████| 204kB 45.3MB/s \n",
            "\u001b[?25hBuilding wheels for collected packages: pyspark\n",
            "  Building wheel for pyspark (setup.py) ... \u001b[?25l\u001b[?25hdone\n",
            "  Created wheel for pyspark: filename=pyspark-2.4.4-py2.py3-none-any.whl size=216130387 sha256=1aaafcec5294be00f41a333cb5bbed8bd8c0d0033a4f20791c56e3edc66bbdd9\n",
            "  Stored in directory: /root/.cache/pip/wheels/ab/09/4d/0d184230058e654eb1b04467dbc1292f00eaa186544604b471\n",
            "Successfully built pyspark\n",
            "Installing collected packages: py4j, pyspark\n",
            "Successfully installed py4j-0.10.7 pyspark-2.4.4\n"
          ],
          "name": "stdout"
        }
      ]
    },
    {
      "cell_type": "markdown",
      "metadata": {
        "id": "r5jrFE2boltE",
        "colab_type": "text"
      },
      "source": [
        "Ahora, generamos el entorno PySpark cargando las librerías a utilizar, instanciamos el Spark Context y se da formato columnar a los datos:"
      ]
    },
    {
      "cell_type": "code",
      "metadata": {
        "id": "tc5Ht_OPbA6p",
        "colab_type": "code",
        "colab": {
          "base_uri": "https://localhost:8080/",
          "height": 34
        },
        "outputId": "359785da-5217-4705-adec-12818d9965e9"
      },
      "source": [
        "# Importo las librerias\n",
        "from pyspark import SparkContext, SQLContext\n",
        "\n",
        "# Genero el Spark Context y el SQLContext para la DB \n",
        "sc = SparkContext(\"local\", \"Simple App\") \n",
        "\n",
        "# Cargo SQLContext, solo para instanciar dataframes, no para consultas\n",
        "df = SQLContext(sc)\n",
        "\n",
        "# Defino el path donde estan los archivos (Solo para máquina local) \n",
        "data_path = ''\n",
        "\n",
        "# Cargo los RDD con los datos de los archivos y acomodo los datos\n",
        "RDD_liga = sc.textFile(data_path + \"liga.csv\").\\\n",
        "           map(lambda line: line.split(\";\")).\\\n",
        "           filter(lambda d: d[0] != '\"id\"').\\\n",
        "           map(lambda d: (int(d[0]), int(d[1]), d[2].replace('\"', ''), d[3].replace('\"', '')))\n",
        "RDD_liga.first()\n",
        "\n",
        "RDD_equipo = sc.textFile(data_path + \"equipo.csv\").\\\n",
        "           map(lambda line: line.split(\";\")).\\\n",
        "           filter(lambda d: d[0] != '\"id\"').\\\n",
        "           map(lambda d: (int(d[0]), d[1].replace('\"', ''), d[2].replace('\"', ''), d[3].replace('\"', ''), d[4].replace('\"', '')))\n",
        "RDD_equipo.first()\n",
        "\n",
        "RDD_jugador = sc.textFile(data_path + \"jugador.csv\").\\\n",
        "           map(lambda line: line.split(\";\")).\\\n",
        "           filter(lambda d: d[0] != '\"id\"').\\\n",
        "           map(lambda d: (int(d[0]), d[1].replace('\"', ''), int(d[2]), d[3].replace('\"', '')))\n",
        "RDD_jugador.first()\n",
        "\n",
        "RDD_encuentro = sc.textFile(data_path + \"encuentro.csv\").\\\n",
        "           map(lambda line: line.split(\";\")).\\\n",
        "           filter(lambda d: d[0] != '\"id\"').\\\n",
        "           map(lambda d: (int(d[0]), int(d[1]), d[2].replace('\"', ''), int(d[3]), int(d[4]), d[5].replace('\"', ''), float(d[6]), int(d[7])))\n",
        "RDD_encuentro.first()\n",
        "\n",
        "RDD_participacion_jugador = sc.textFile(data_path + \"participacion_jugador.csv\").\\\n",
        "           map(lambda line: line.split(\";\")).\\\n",
        "           filter(lambda d: d[0] != '\"id_jugador\"').\\\n",
        "           map(lambda d: (int(d[0]), int(d[1]), int(d[2]), int(d[3]), int(d[4]), int(d[5]), int(d[6])))\n",
        "RDD_participacion_jugador.first()\n",
        "\n",
        "RDD_goles = sc.textFile(data_path + \"goles.csv\").\\\n",
        "           map(lambda line: line.split(\";\")).\\\n",
        "           filter(lambda d: d[0] != '\"id\"').\\\n",
        "           map(lambda d: (int(d[0]), int(d[1]), int(d[2]),d[3].replace('\"', ''), int(d[4])))\n",
        "RDD_goles.first()\n"
      ],
      "execution_count": 8,
      "outputs": [
        {
          "output_type": "execute_result",
          "data": {
            "text/plain": [
              "(1, 2, 2, 'CABEZA', 90)"
            ]
          },
          "metadata": {
            "tags": []
          },
          "execution_count": 8
        }
      ]
    },
    {
      "cell_type": "markdown",
      "metadata": {
        "id": "UHMxIRIjcFG4",
        "colab_type": "text"
      },
      "source": [
        "Luego, los transformo a dataframes por dos cuestiones centrales:\n",
        "1. _Conflictos con el Join en los RDD:_ Cuando intento aplicar un join sobre un RDD puro, me proyecta solo un subconjuto de los atributos.\n",
        "2. _Comodidad:_ trabajando con dataframes, puedo referenciar los datos por nombre de columnas, lo cual brinda mayor expresividad y facilidad para la resolución de las consultas.\n",
        "\n",
        "Independientemente de esto, no se utilizarán las otras características de SparkSQL (consultas SQL) en la resolución del trabajo."
      ]
    },
    {
      "cell_type": "code",
      "metadata": {
        "id": "PEoYEZSYcc8o",
        "colab_type": "code",
        "colab": {}
      },
      "source": [
        "# Creo los dataframes\n",
        "df_ligas = df.createDataFrame(RDD_liga,['id','temporada', 'division', 'pais'])\n",
        "df_equipos =  df.createDataFrame(RDD_equipo,['id','nombre', 'pais', 'ciudad', 'fundacion'])\n",
        "df_jugadores = df.createDataFrame(RDD_jugador,['id','nombre', 'edad', 'posicion'])\n",
        "df_encuentros = df.createDataFrame(RDD_encuentro,['id','id_liga', 'fecha', 'id_equipo_local', 'id_equipo_visitante', 'estadio', 'recaudacion', 'localidades_vendidas'])\n",
        "df_participaciones = df.createDataFrame(RDD_participacion_jugador,['id_jugador','id_equipo', 'id_partido', 'puntaje_recibido', 'cantidad_amarillas', 'cantidad_rojas', 'minutos_jugados'])\n",
        "df_goles = df.createDataFrame(RDD_goles,['id', 'id_jugador', 'id_partido', 'tipo_gol', 'minuto_gol'])\n"
      ],
      "execution_count": 0,
      "outputs": []
    },
    {
      "cell_type": "markdown",
      "metadata": {
        "id": "-UYAN8IKbaVj",
        "colab_type": "text"
      },
      "source": [
        "### Resolución Consulta 1: Puntaje histórico promedio de cada uno de los arqueros que jugaron en algún equipo de Uruguay.\n",
        "\n",
        "Para comenzar con la resolución, definimos parámetros para flexibilizar la consulta (posición y país):\n"
      ]
    },
    {
      "cell_type": "code",
      "metadata": {
        "id": "kaBY1qfdapeC",
        "colab_type": "code",
        "colab": {}
      },
      "source": [
        "posicion = 'ARQUERO'\n",
        "pais_filtro = 'ARGENTINA'"
      ],
      "execution_count": 0,
      "outputs": []
    },
    {
      "cell_type": "markdown",
      "metadata": {
        "id": "SPgpfcm3cy24",
        "colab_type": "text"
      },
      "source": [
        "Tomo los equipos de la variable _pais_filtro_ y los jugadores que juegan en el conteenido de la variable _posicion_:\n"
      ]
    },
    {
      "cell_type": "code",
      "metadata": {
        "id": "BTfK2wHuc_lD",
        "colab_type": "code",
        "colab": {}
      },
      "source": [
        "equipos_pais = df_equipos.filter(df_equipos.pais==pais_filtro)\n",
        "jugadores_posicion = df_jugadores.filter(df_jugadores.posicion==posicion)"
      ],
      "execution_count": 0,
      "outputs": []
    },
    {
      "cell_type": "markdown",
      "metadata": {
        "id": "KHriFac1dF24",
        "colab_type": "text"
      },
      "source": [
        "A continuación, resuelvo el resto de la consulta tomando las participaciones de los arqueros en equipos uruguayos y agrupando las instancias aplicando la función de agregación MEAN:"
      ]
    },
    {
      "cell_type": "code",
      "metadata": {
        "id": "rjLqDv2AdF_W",
        "colab_type": "code",
        "colab": {
          "base_uri": "https://localhost:8080/",
          "height": 119
        },
        "outputId": "9ab6e590-ea7b-4637-e8eb-e02e0f778850"
      },
      "source": [
        "# Joineo ambas cosas\n",
        "participaciones = jugadores_posicion.join(df_participaciones, jugadores_posicion.id==df_participaciones.id_jugador)\n",
        "\n",
        "# Tomo las columnas que me interesan y muestro el resultado agrupando\n",
        "jugadores_puntaje = participaciones.select('nombre', 'puntaje_recibido')\n",
        "jugadores_puntaje.groupby('nombre').agg({'puntaje_recibido': 'mean'}).show()"
      ],
      "execution_count": 11,
      "outputs": [
        {
          "output_type": "stream",
          "text": [
            "+----------------+---------------------+\n",
            "|          nombre|avg(puntaje_recibido)|\n",
            "+----------------+---------------------+\n",
            "|ANDRADA, ESTEBAN|                  6.0|\n",
            "+----------------+---------------------+\n",
            "\n"
          ],
          "name": "stdout"
        }
      ]
    }
  ]
}