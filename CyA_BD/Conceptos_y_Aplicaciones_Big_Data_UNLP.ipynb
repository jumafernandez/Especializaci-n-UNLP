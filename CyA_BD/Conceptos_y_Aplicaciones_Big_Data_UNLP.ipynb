{
  "nbformat": 4,
  "nbformat_minor": 0,
  "metadata": {
    "colab": {
      "name": "Conceptos_y_Aplicaciones_Big_Data_UNLP.ipynb",
      "provenance": [],
      "include_colab_link": true
    },
    "kernelspec": {
      "name": "python3",
      "display_name": "Python 3"
    }
  },
  "cells": [
    {
      "cell_type": "markdown",
      "metadata": {
        "id": "view-in-github",
        "colab_type": "text"
      },
      "source": [
        "<a href=\"https://colab.research.google.com/github/jumafernandez/UNLP/blob/master/CyA_BD/Conceptos_y_Aplicaciones_Big_Data_UNLP.ipynb\" target=\"_parent\"><img src=\"https://colab.research.google.com/assets/colab-badge.svg\" alt=\"Open In Colab\"/></a>"
      ]
    },
    {
      "cell_type": "markdown",
      "metadata": {
        "id": "gWF9WA6bY8Gq",
        "colab_type": "text"
      },
      "source": [
        "## **TRABAJO INTEGRADOR: CONCEPTOS Y APLICACIONES DE BIG DATA**\n",
        "\n",
        "__Carrera:__ Espcialización en Inteligencia de Datos orientada a Big Data <br/>\n",
        "__Docente:__ Waldo Hasperué  <br/>\n",
        "__Estudiante:__ Juan Manuel Fernandez\n",
        "<br/>  <br/>\n",
        "__Resolución de Consultas utilizando PySpark:__ <br />\n",
        "\n",
        "_Consulta 1:_ Puntaje histórico promedio de cada uno de los arqueros que jugaron en algún equipo de Uruguay. <br />\n",
        "\n",
        "_Consulta 2:_ ¿Cuál es el nombre del equipo que salio campeón en la temporada 2015 de la primera división de Francia? __(optativo)__ <br />\n",
        "\n",
        "\n"
      ]
    },
    {
      "cell_type": "markdown",
      "metadata": {
        "id": "QCAItzJbaacX",
        "colab_type": "text"
      },
      "source": [
        "### Preparación del entorno Pyspark y carga de datos\n",
        "\n",
        "En primer lugar, cargamos los datos de fantasía desde un repositorio Github:\n",
        "\n"
      ]
    },
    {
      "cell_type": "code",
      "metadata": {
        "id": "Rpq_LqF6fVro",
        "colab_type": "code",
        "outputId": "d4bd56b4-4858-4105-952e-7af5f05ef939",
        "colab": {
          "base_uri": "https://localhost:8080/",
          "height": 1000
        }
      },
      "source": [
        "!wget https://raw.githubusercontent.com/jumafernandez/UNLP/master/CyA_BD/data/liga.csv\n",
        "!wget https://raw.githubusercontent.com/jumafernandez/UNLP/master/CyA_BD/data/equipo.csv\n",
        "!wget https://raw.githubusercontent.com/jumafernandez/UNLP/master/CyA_BD/data/jugador.csv\n",
        "!wget https://raw.githubusercontent.com/jumafernandez/UNLP/master/CyA_BD/data/encuentro.csv\n",
        "!wget https://raw.githubusercontent.com/jumafernandez/UNLP/master/CyA_BD/data/participacion_jugador.csv\n",
        "!wget https://raw.githubusercontent.com/jumafernandez/UNLP/master/CyA_BD/data/goles.csv"
      ],
      "execution_count": 1,
      "outputs": [
        {
          "output_type": "stream",
          "text": [
            "--2019-10-16 22:01:38--  https://raw.githubusercontent.com/jumafernandez/UNLP/master/CyA_BD/data/liga.csv\n",
            "Resolving raw.githubusercontent.com (raw.githubusercontent.com)... 151.101.0.133, 151.101.64.133, 151.101.128.133, ...\n",
            "Connecting to raw.githubusercontent.com (raw.githubusercontent.com)|151.101.0.133|:443... connected.\n",
            "HTTP request sent, awaiting response... 200 OK\n",
            "Length: 310 [text/plain]\n",
            "Saving to: ‘liga.csv’\n",
            "\n",
            "\rliga.csv              0%[                    ]       0  --.-KB/s               \rliga.csv            100%[===================>]     310  --.-KB/s    in 0s      \n",
            "\n",
            "2019-10-16 22:01:39 (35.6 MB/s) - ‘liga.csv’ saved [310/310]\n",
            "\n",
            "--2019-10-16 22:01:40--  https://raw.githubusercontent.com/jumafernandez/UNLP/master/CyA_BD/data/equipo.csv\n",
            "Resolving raw.githubusercontent.com (raw.githubusercontent.com)... 151.101.0.133, 151.101.64.133, 151.101.128.133, ...\n",
            "Connecting to raw.githubusercontent.com (raw.githubusercontent.com)|151.101.0.133|:443... connected.\n",
            "HTTP request sent, awaiting response... 200 OK\n",
            "Length: 358 [text/plain]\n",
            "Saving to: ‘equipo.csv’\n",
            "\n",
            "equipo.csv          100%[===================>]     358  --.-KB/s    in 0s      \n",
            "\n",
            "2019-10-16 22:01:40 (90.6 MB/s) - ‘equipo.csv’ saved [358/358]\n",
            "\n",
            "--2019-10-16 22:01:41--  https://raw.githubusercontent.com/jumafernandez/UNLP/master/CyA_BD/data/jugador.csv\n",
            "Resolving raw.githubusercontent.com (raw.githubusercontent.com)... 151.101.0.133, 151.101.64.133, 151.101.128.133, ...\n",
            "Connecting to raw.githubusercontent.com (raw.githubusercontent.com)|151.101.0.133|:443... connected.\n",
            "HTTP request sent, awaiting response... 200 OK\n",
            "Length: 896 [text/plain]\n",
            "Saving to: ‘jugador.csv’\n",
            "\n",
            "jugador.csv         100%[===================>]     896  --.-KB/s    in 0s      \n",
            "\n",
            "2019-10-16 22:01:41 (319 MB/s) - ‘jugador.csv’ saved [896/896]\n",
            "\n",
            "--2019-10-16 22:01:43--  https://raw.githubusercontent.com/jumafernandez/UNLP/master/CyA_BD/data/encuentro.csv\n",
            "Resolving raw.githubusercontent.com (raw.githubusercontent.com)... 151.101.0.133, 151.101.64.133, 151.101.128.133, ...\n",
            "Connecting to raw.githubusercontent.com (raw.githubusercontent.com)|151.101.0.133|:443... connected.\n",
            "HTTP request sent, awaiting response... 200 OK\n",
            "Length: 229 [text/plain]\n",
            "Saving to: ‘encuentro.csv’\n",
            "\n",
            "encuentro.csv       100%[===================>]     229  --.-KB/s    in 0s      \n",
            "\n",
            "2019-10-16 22:01:43 (42.2 MB/s) - ‘encuentro.csv’ saved [229/229]\n",
            "\n",
            "--2019-10-16 22:01:44--  https://raw.githubusercontent.com/jumafernandez/UNLP/master/CyA_BD/data/participacion_jugador.csv\n",
            "Resolving raw.githubusercontent.com (raw.githubusercontent.com)... 151.101.0.133, 151.101.64.133, 151.101.128.133, ...\n",
            "Connecting to raw.githubusercontent.com (raw.githubusercontent.com)|151.101.0.133|:443... connected.\n",
            "HTTP request sent, awaiting response... 200 OK\n",
            "Length: 848 [text/plain]\n",
            "Saving to: ‘participacion_jugador.csv’\n",
            "\n",
            "participacion_jugad 100%[===================>]     848  --.-KB/s    in 0s      \n",
            "\n",
            "2019-10-16 22:01:44 (232 MB/s) - ‘participacion_jugador.csv’ saved [848/848]\n",
            "\n",
            "--2019-10-16 22:01:46--  https://raw.githubusercontent.com/jumafernandez/UNLP/master/CyA_BD/data/goles.csv\n",
            "Resolving raw.githubusercontent.com (raw.githubusercontent.com)... 151.101.0.133, 151.101.64.133, 151.101.128.133, ...\n",
            "Connecting to raw.githubusercontent.com (raw.githubusercontent.com)|151.101.0.133|:443... connected.\n",
            "HTTP request sent, awaiting response... 200 OK\n",
            "Length: 118 [text/plain]\n",
            "Saving to: ‘goles.csv’\n",
            "\n",
            "goles.csv           100%[===================>]     118  --.-KB/s    in 0s      \n",
            "\n",
            "2019-10-16 22:01:46 (26.0 MB/s) - ‘goles.csv’ saved [118/118]\n",
            "\n"
          ],
          "name": "stdout"
        }
      ]
    },
    {
      "cell_type": "markdown",
      "metadata": {
        "id": "zt82LZmqpoGm",
        "colab_type": "text"
      },
      "source": [
        "Instalamos la librería pyspark, Java 8 y seteo las variables de entorno para que no devuelva error:"
      ]
    },
    {
      "cell_type": "code",
      "metadata": {
        "id": "9YJgvLUJprSl",
        "colab_type": "code",
        "colab": {
          "base_uri": "https://localhost:8080/",
          "height": 258
        },
        "outputId": "f37f3bbe-e284-4f0b-a341-87dbe6702d8f"
      },
      "source": [
        "!pip install pyspark\n",
        "!apt-get install openjdk-8-jdk-headless -qq > /dev/null\n",
        "\n",
        "import os\n",
        "os.environ[\"JAVA_HOME\"] = \"/usr/lib/jvm/java-8-openjdk-amd64\"\n"
      ],
      "execution_count": 2,
      "outputs": [
        {
          "output_type": "stream",
          "text": [
            "Collecting pyspark\n",
            "\u001b[?25l  Downloading https://files.pythonhosted.org/packages/87/21/f05c186f4ddb01d15d0ddc36ef4b7e3cedbeb6412274a41f26b55a650ee5/pyspark-2.4.4.tar.gz (215.7MB)\n",
            "\u001b[K     |████████████████████████████████| 215.7MB 115kB/s \n",
            "\u001b[?25hCollecting py4j==0.10.7 (from pyspark)\n",
            "\u001b[?25l  Downloading https://files.pythonhosted.org/packages/e3/53/c737818eb9a7dc32a7cd4f1396e787bd94200c3997c72c1dbe028587bd76/py4j-0.10.7-py2.py3-none-any.whl (197kB)\n",
            "\u001b[K     |████████████████████████████████| 204kB 39.0MB/s \n",
            "\u001b[?25hBuilding wheels for collected packages: pyspark\n",
            "  Building wheel for pyspark (setup.py) ... \u001b[?25l\u001b[?25hdone\n",
            "  Created wheel for pyspark: filename=pyspark-2.4.4-py2.py3-none-any.whl size=216130387 sha256=0a5ff2c3f8240c02a22a9a0897cc12f890c01928b76c8aa7b0eb443dec27fab8\n",
            "  Stored in directory: /root/.cache/pip/wheels/ab/09/4d/0d184230058e654eb1b04467dbc1292f00eaa186544604b471\n",
            "Successfully built pyspark\n",
            "Installing collected packages: py4j, pyspark\n",
            "Successfully installed py4j-0.10.7 pyspark-2.4.4\n"
          ],
          "name": "stdout"
        }
      ]
    },
    {
      "cell_type": "markdown",
      "metadata": {
        "id": "DrVSZif_Wj95",
        "colab_type": "text"
      },
      "source": [
        "Elijo la versión de 8 de Java:"
      ]
    },
    {
      "cell_type": "code",
      "metadata": {
        "id": "XrmJ_8QxOo8A",
        "colab_type": "code",
        "outputId": "cd93c7d3-6dba-455d-d9d6-dede9b556de2",
        "colab": {
          "base_uri": "https://localhost:8080/",
          "height": 187
        }
      },
      "source": [
        "!update-alternatives --config java"
      ],
      "execution_count": 3,
      "outputs": [
        {
          "output_type": "stream",
          "text": [
            "There are 2 choices for the alternative java (providing /usr/bin/java).\n",
            "\n",
            "  Selection    Path                                            Priority   Status\n",
            "------------------------------------------------------------\n",
            "* 0            /usr/lib/jvm/java-11-openjdk-amd64/bin/java      1111      auto mode\n",
            "  1            /usr/lib/jvm/java-11-openjdk-amd64/bin/java      1111      manual mode\n",
            "  2            /usr/lib/jvm/java-8-openjdk-amd64/jre/bin/java   1081      manual mode\n",
            "\n",
            "Press <enter> to keep the current choice[*], or type selection number: 2\n",
            "update-alternatives: using /usr/lib/jvm/java-8-openjdk-amd64/jre/bin/java to provide /usr/bin/java (java) in manual mode\n"
          ],
          "name": "stdout"
        }
      ]
    },
    {
      "cell_type": "markdown",
      "metadata": {
        "id": "r5jrFE2boltE",
        "colab_type": "text"
      },
      "source": [
        "Ahora, generamos el entorno PySpark cargando las librerías a utilizar, instanciamos el Spark Context y se da formato columnar a los RDD:"
      ]
    },
    {
      "cell_type": "code",
      "metadata": {
        "id": "tc5Ht_OPbA6p",
        "colab_type": "code",
        "outputId": "782a07c8-f39d-401a-e304-ef605b020938",
        "colab": {
          "base_uri": "https://localhost:8080/",
          "height": 34
        }
      },
      "source": [
        "# Importo las librerias\n",
        "from pyspark import SparkContext, SQLContext\n",
        "\n",
        "# Genero el Spark Context y el SQLContext para la DB \n",
        "sc = SparkContext(\"local\", \"Simple App\") \n",
        "\n",
        "# Cargo SQLContext, solo para instanciar dataframes, no para consultas\n",
        "df = SQLContext(sc)\n",
        "\n",
        "# Defino el path donde estan los archivos (Solo para máquina local) \n",
        "data_path = ''\n",
        "\n",
        "# Cargo los RDD con los datos de los archivos y acomodo los datos\n",
        "RDD_liga = sc.textFile(data_path + \"liga.csv\").\\\n",
        "           map(lambda line: line.split(\";\")).\\\n",
        "           filter(lambda d: d[0] != '\"id\"').\\\n",
        "           map(lambda d: (int(d[0]), int(d[1]), d[2].replace('\"', ''), d[3].replace('\"', '')))\n",
        "RDD_liga.first()\n",
        "\n",
        "RDD_equipo = sc.textFile(data_path + \"equipo.csv\").\\\n",
        "           map(lambda line: line.split(\";\")).\\\n",
        "           filter(lambda d: d[0] != '\"id\"').\\\n",
        "           map(lambda d: (int(d[0]), d[1].replace('\"', ''), d[2].replace('\"', ''), d[3].replace('\"', ''), d[4].replace('\"', '')))\n",
        "RDD_equipo.first()\n",
        "\n",
        "RDD_jugador = sc.textFile(data_path + \"jugador.csv\").\\\n",
        "           map(lambda line: line.split(\";\")).\\\n",
        "           filter(lambda d: d[0] != '\"id\"').\\\n",
        "           map(lambda d: (int(d[0]), d[1].replace('\"', ''), int(d[2]), d[3].replace('\"', '')))\n",
        "RDD_jugador.first()\n",
        "\n",
        "RDD_encuentro = sc.textFile(data_path + \"encuentro.csv\").\\\n",
        "           map(lambda line: line.split(\";\")).\\\n",
        "           filter(lambda d: d[0] != '\"id\"').\\\n",
        "           map(lambda d: (int(d[0]), int(d[1]), d[2].replace('\"', ''), int(d[3]), int(d[4]), d[5].replace('\"', ''), float(d[6]), int(d[7])))\n",
        "RDD_encuentro.first()\n",
        "\n",
        "RDD_participacion_jugador = sc.textFile(data_path + \"participacion_jugador.csv\").\\\n",
        "           map(lambda line: line.split(\";\")).\\\n",
        "           filter(lambda d: d[0] != '\"id_jugador\"').\\\n",
        "           map(lambda d: (int(d[0]), int(d[1]), int(d[2]), int(d[3]), int(d[4]), int(d[5]), int(d[6])))\n",
        "RDD_participacion_jugador.first()\n",
        "\n",
        "RDD_goles = sc.textFile(data_path + \"goles.csv\").\\\n",
        "           map(lambda line: line.split(\";\")).\\\n",
        "           filter(lambda d: d[0] != '\"id\"').\\\n",
        "           map(lambda d: (int(d[0]), int(d[1]), int(d[2]),d[3].replace('\"', ''), int(d[4])))\n",
        "\n",
        "\n",
        "RDD_goles.first()\n"
      ],
      "execution_count": 4,
      "outputs": [
        {
          "output_type": "execute_result",
          "data": {
            "text/plain": [
              "(1, 2, 2, 'CABEZA', 90)"
            ]
          },
          "metadata": {
            "tags": []
          },
          "execution_count": 4
        }
      ]
    },
    {
      "cell_type": "markdown",
      "metadata": {
        "id": "UHMxIRIjcFG4",
        "colab_type": "text"
      },
      "source": [
        "Luego, los transformo a dataframes por dos cuestiones centrales:\n",
        "1. _Conflictos con el Join en los RDD:_ Cuando intento aplicar un join sobre un RDD puro, me proyecta solo un subconjuto de los atributos.\n",
        "2. _Comodidad:_ trabajando con dataframes, puedo referenciar los datos por nombre de columnas, lo cual brinda mayor expresividad y facilidad para la resolución de las consultas.\n",
        "\n",
        "Independientemente de esto, no se utilizarán las otras características de SparkSQL (consultas SQL) en la resolución del trabajo."
      ]
    },
    {
      "cell_type": "code",
      "metadata": {
        "id": "PEoYEZSYcc8o",
        "colab_type": "code",
        "outputId": "f36dbb98-df15-40f7-a687-f3bebdab7fb3",
        "colab": {
          "base_uri": "https://localhost:8080/",
          "height": 136
        }
      },
      "source": [
        "# Creo los dataframes\n",
        "df_ligas = df.createDataFrame(RDD_liga,['id','temporada', 'division', 'pais'])\n",
        "df_equipos =  df.createDataFrame(RDD_equipo,['id','nombre', 'pais', 'ciudad', 'fundacion'])\n",
        "df_jugadores = df.createDataFrame(RDD_jugador,['id','nombre', 'edad', 'posicion'])\n",
        "df_encuentros = df.createDataFrame(RDD_encuentro,['id','id_liga', 'fecha', 'id_equipo_local', 'id_equipo_visitante', 'estadio', 'recaudacion', 'localidades_vendidas'])\n",
        "df_participaciones = df.createDataFrame(RDD_participacion_jugador,['id_jugador','id_equipo', 'id_partido', 'puntaje_recibido', 'cantidad_amarillas', 'cantidad_rojas', 'minutos_jugados'])\n",
        "df_goles = df.createDataFrame(RDD_goles,['id', 'id_jugador', 'id_partido', 'tipo_gol', 'minuto_gol'])\n",
        "\n",
        "df_encuentros.show()\n"
      ],
      "execution_count": 5,
      "outputs": [
        {
          "output_type": "stream",
          "text": [
            "+---+-------+----------+---------------+-------------------+------------------+-----------+--------------------+\n",
            "| id|id_liga|     fecha|id_equipo_local|id_equipo_visitante|           estadio|recaudacion|localidades_vendidas|\n",
            "+---+-------+----------+---------------+-------------------+------------------+-----------+--------------------+\n",
            "|  2|      1|2019-05-07|              1|                  2|ALBERTO J. ARMANDO|  2500000.0|               60000|\n",
            "|  3|      1|2019-10-01|              2|                  1|  VESPUCIO LIBERTI|  3000000.0|               40000|\n",
            "+---+-------+----------+---------------+-------------------+------------------+-----------+--------------------+\n",
            "\n"
          ],
          "name": "stdout"
        }
      ]
    },
    {
      "cell_type": "markdown",
      "metadata": {
        "id": "-UYAN8IKbaVj",
        "colab_type": "text"
      },
      "source": [
        "### Resolución Consulta 1: Puntaje histórico promedio de cada uno de los arqueros que jugaron en algún equipo de Uruguay.\n",
        "\n",
        "Para comenzar con la resolución, definimos parámetros para flexibilizar la consulta (posición y país):"
      ]
    },
    {
      "cell_type": "code",
      "metadata": {
        "id": "kaBY1qfdapeC",
        "colab_type": "code",
        "colab": {}
      },
      "source": [
        "posicion = 'ARQUERO'\n",
        "pais_filtro = 'ARGENTINA'"
      ],
      "execution_count": 0,
      "outputs": []
    },
    {
      "cell_type": "markdown",
      "metadata": {
        "id": "SPgpfcm3cy24",
        "colab_type": "text"
      },
      "source": [
        "Tomo los equipos de la variable _pais_filtro_ y los jugadores que juegan en el contenido de la variable _posicion_:\n"
      ]
    },
    {
      "cell_type": "code",
      "metadata": {
        "id": "BTfK2wHuc_lD",
        "colab_type": "code",
        "colab": {}
      },
      "source": [
        "equipos_pais = df_equipos.filter(df_equipos.pais==pais_filtro)\n",
        "jugadores_posicion = df_jugadores.filter(df_jugadores.posicion==posicion)"
      ],
      "execution_count": 0,
      "outputs": []
    },
    {
      "cell_type": "markdown",
      "metadata": {
        "id": "KHriFac1dF24",
        "colab_type": "text"
      },
      "source": [
        "A continuación, resuelvo el resto de la consulta tomando las participaciones de los arqueros en equipos uruguayos y agrupando las instancias aplicando la función de agregación MEAN:"
      ]
    },
    {
      "cell_type": "code",
      "metadata": {
        "id": "rjLqDv2AdF_W",
        "colab_type": "code",
        "outputId": "320cce9a-0b35-4e31-bf6e-0d5b90eae4e8",
        "colab": {
          "base_uri": "https://localhost:8080/",
          "height": 136
        }
      },
      "source": [
        "# Joineo ambas cosas\n",
        "participaciones = jugadores_posicion.join(df_participaciones, jugadores_posicion.id==df_participaciones.id_jugador)\n",
        "\n",
        "# Tomo las columnas que me interesan y muestro el resultado agrupando\n",
        "jugadores_puntaje = participaciones.select('nombre', 'puntaje_recibido')\n",
        "jugadores_puntaje.groupby('nombre').agg({'puntaje_recibido': 'mean'}).show()"
      ],
      "execution_count": 8,
      "outputs": [
        {
          "output_type": "stream",
          "text": [
            "+----------------+---------------------+\n",
            "|          nombre|avg(puntaje_recibido)|\n",
            "+----------------+---------------------+\n",
            "|  ARMANI, FRANCO|                  4.0|\n",
            "|ANDRADA, ESTEBAN|                  8.0|\n",
            "+----------------+---------------------+\n",
            "\n"
          ],
          "name": "stdout"
        }
      ]
    },
    {
      "cell_type": "markdown",
      "metadata": {
        "id": "7LnGIIK8pexC",
        "colab_type": "text"
      },
      "source": [
        "### Resolución Consulta ¿Cuál es el nombre del equipo que salio campeón en la temporada 2015 de la primera división de Francia?\n",
        "\n",
        "Para comenzar con la resolución, definimos parámetros para flexibilizar la consulta (temporada, división y país):"
      ]
    },
    {
      "cell_type": "code",
      "metadata": {
        "id": "c-ifiZCMpwHF",
        "colab_type": "code",
        "colab": {}
      },
      "source": [
        "# Parametros de búsqueda\n",
        "temporada = 2019\n",
        "division = 'PRIMERA A'\n",
        "pais = 'ARGENTINA'"
      ],
      "execution_count": 0,
      "outputs": []
    },
    {
      "cell_type": "markdown",
      "metadata": {
        "id": "hgFoQW7lpz6H",
        "colab_type": "text"
      },
      "source": [
        "En primer instancia, recupero el _id_ de la liga que corresponde a la temporada, division y pais de la consulta:\n"
      ]
    },
    {
      "cell_type": "code",
      "metadata": {
        "id": "vNlPxVFmp8rB",
        "colab_type": "code",
        "outputId": "e21fc2e1-ce25-4e03-bddd-ffc284f7dcf7",
        "colab": {
          "base_uri": "https://localhost:8080/",
          "height": 34
        }
      },
      "source": [
        "RDD_liga_q2 = RDD_liga.filter(lambda d: d[3] == pais).\\\n",
        "                      filter(lambda d: d[1] == temporada).\\\n",
        "                      filter(lambda d: d[2] == division)\n",
        "\n",
        "id_liga_buscada = RDD_liga_q2.first()[0]\n",
        "\n",
        "print('La liga buscada tiene id ' + str(id_liga_buscada))"
      ],
      "execution_count": 10,
      "outputs": [
        {
          "output_type": "stream",
          "text": [
            "La liga buscada tiene id 1\n"
          ],
          "name": "stdout"
        }
      ]
    },
    {
      "cell_type": "markdown",
      "metadata": {
        "id": "tdXpPvGhqBBI",
        "colab_type": "text"
      },
      "source": [
        "A continuación, selecciono todas las participaciones de jugadores en encuentros con el id de la liga recuperada:"
      ]
    },
    {
      "cell_type": "code",
      "metadata": {
        "id": "jem9DWEuqLCk",
        "colab_type": "code",
        "outputId": "131686f9-3f26-40e8-8a82-120fddf2d772",
        "colab": {
          "base_uri": "https://localhost:8080/",
          "height": 479
        }
      },
      "source": [
        "encuentros_liga = df_encuentros.filter(df_encuentros.id_liga==id_liga_buscada)\n",
        "participaciones_liga = df_participaciones.join(encuentros_liga, df_participaciones.id_partido==encuentros_liga.id, how='left')\n",
        "participaciones_liga = participaciones_liga.filter(participaciones_liga.id_liga==id_liga_buscada)\n",
        "\n",
        "# Muestro los datos recuperados\n",
        "participaciones_liga.show()"
      ],
      "execution_count": 11,
      "outputs": [
        {
          "output_type": "stream",
          "text": [
            "+----------+---------+----------+----------------+------------------+--------------+---------------+---+-------+----------+---------------+-------------------+----------------+-----------+--------------------+\n",
            "|id_jugador|id_equipo|id_partido|puntaje_recibido|cantidad_amarillas|cantidad_rojas|minutos_jugados| id|id_liga|     fecha|id_equipo_local|id_equipo_visitante|         estadio|recaudacion|localidades_vendidas|\n",
            "+----------+---------+----------+----------------+------------------+--------------+---------------+---+-------+----------+---------------+-------------------+----------------+-----------+--------------------+\n",
            "|         1|        1|         3|               8|                 0|             0|             90|  3|      1|2019-10-01|              2|                  1|VESPUCIO LIBERTI|  3000000.0|               40000|\n",
            "|         2|        1|         3|               6|                 2|             1|             90|  3|      1|2019-10-01|              2|                  1|VESPUCIO LIBERTI|  3000000.0|               40000|\n",
            "|         3|        1|         3|               7|                 0|             0|             90|  3|      1|2019-10-01|              2|                  1|VESPUCIO LIBERTI|  3000000.0|               40000|\n",
            "|         4|        1|         3|               8|                 0|             0|             90|  3|      1|2019-10-01|              2|                  1|VESPUCIO LIBERTI|  3000000.0|               40000|\n",
            "|         5|        1|         3|               5|                 0|             0|             90|  3|      1|2019-10-01|              2|                  1|VESPUCIO LIBERTI|  3000000.0|               40000|\n",
            "|         6|        1|         3|               4|                 0|             0|             90|  3|      1|2019-10-01|              2|                  1|VESPUCIO LIBERTI|  3000000.0|               40000|\n",
            "|         7|        1|         3|               9|                 0|             0|             90|  3|      1|2019-10-01|              2|                  1|VESPUCIO LIBERTI|  3000000.0|               40000|\n",
            "|         8|        1|         3|              10|                 0|             0|             90|  3|      1|2019-10-01|              2|                  1|VESPUCIO LIBERTI|  3000000.0|               40000|\n",
            "|         9|        1|         3|               8|                 1|             0|             90|  3|      1|2019-10-01|              2|                  1|VESPUCIO LIBERTI|  3000000.0|               40000|\n",
            "|        10|        1|         3|               6|                 0|             1|             90|  3|      1|2019-10-01|              2|                  1|VESPUCIO LIBERTI|  3000000.0|               40000|\n",
            "|        11|        1|         3|               6|                 0|             0|             90|  3|      1|2019-10-01|              2|                  1|VESPUCIO LIBERTI|  3000000.0|               40000|\n",
            "|        12|        2|         3|               4|                 0|             0|             90|  3|      1|2019-10-01|              2|                  1|VESPUCIO LIBERTI|  3000000.0|               40000|\n",
            "|        13|        2|         3|               4|                 2|             1|             90|  3|      1|2019-10-01|              2|                  1|VESPUCIO LIBERTI|  3000000.0|               40000|\n",
            "|        14|        2|         3|               4|                 0|             0|             90|  3|      1|2019-10-01|              2|                  1|VESPUCIO LIBERTI|  3000000.0|               40000|\n",
            "|        15|        2|         3|               4|                 0|             0|             90|  3|      1|2019-10-01|              2|                  1|VESPUCIO LIBERTI|  3000000.0|               40000|\n",
            "|        16|        2|         3|               5|                 0|             0|             90|  3|      1|2019-10-01|              2|                  1|VESPUCIO LIBERTI|  3000000.0|               40000|\n",
            "|        17|        2|         3|               4|                 0|             0|             90|  3|      1|2019-10-01|              2|                  1|VESPUCIO LIBERTI|  3000000.0|               40000|\n",
            "|        18|        2|         3|               4|                 0|             0|             90|  3|      1|2019-10-01|              2|                  1|VESPUCIO LIBERTI|  3000000.0|               40000|\n",
            "|        19|        2|         3|               4|                 0|             0|             90|  3|      1|2019-10-01|              2|                  1|VESPUCIO LIBERTI|  3000000.0|               40000|\n",
            "|        20|        2|         3|               8|                 1|             0|             90|  3|      1|2019-10-01|              2|                  1|VESPUCIO LIBERTI|  3000000.0|               40000|\n",
            "+----------+---------+----------+----------------+------------------+--------------+---------------+---+-------+----------+---------------+-------------------+----------------+-----------+--------------------+\n",
            "only showing top 20 rows\n",
            "\n"
          ],
          "name": "stdout"
        }
      ]
    },
    {
      "cell_type": "markdown",
      "metadata": {
        "id": "jztI_iAzqPoz",
        "colab_type": "text"
      },
      "source": [
        "Ahora _joineo_ las participaciones de los jugadores con los goles que es lo que me interesa:"
      ]
    },
    {
      "cell_type": "code",
      "metadata": {
        "id": "sAOyo7G2qb3a",
        "colab_type": "code",
        "outputId": "a2c96b42-b622-4c92-b5e2-5b143158708e",
        "colab": {
          "base_uri": "https://localhost:8080/",
          "height": 153
        }
      },
      "source": [
        "# Primero, cambio el nombre de id_partido por un problema Python con columnas repetidas\n",
        "goles = df_goles.selectExpr('id_jugador', 'id_partido as id_partido_gol')\n",
        "\n",
        "# Realizo el join\n",
        "goles_por_participaciones=goles.join(participaciones_liga, (goles.id_jugador==participaciones_liga.id_jugador) & (goles.id_partido_gol==participaciones_liga.id_partido))\n",
        "\n",
        "# Me quedo solo con los atributos que necesito\n",
        "goles_por_equipo_partido = goles_por_participaciones.selectExpr('id_equipo', 'id_partido')\n",
        "\n",
        "goles_por_equipo_partido.show()"
      ],
      "execution_count": 12,
      "outputs": [
        {
          "output_type": "stream",
          "text": [
            "+---------+----------+\n",
            "|id_equipo|id_partido|\n",
            "+---------+----------+\n",
            "|        1|         3|\n",
            "|        1|         2|\n",
            "|        1|         2|\n",
            "+---------+----------+\n",
            "\n"
          ],
          "name": "stdout"
        }
      ]
    },
    {
      "cell_type": "markdown",
      "metadata": {
        "id": "sdgrVul3qlzj",
        "colab_type": "text"
      },
      "source": [
        "Acto seguido, agrupo los goles por equipo y partido:"
      ]
    },
    {
      "cell_type": "code",
      "metadata": {
        "id": "UbRhhYvLq-8g",
        "colab_type": "code",
        "outputId": "68452dc1-0cf7-43f8-b57a-1d02090f8327",
        "colab": {
          "base_uri": "https://localhost:8080/",
          "height": 136
        }
      },
      "source": [
        "goles_por_equipo_partido = goles_por_equipo_partido.groupBy('id_equipo', 'id_partido').count()\n",
        "\n",
        "goles_por_equipo_partido.show()"
      ],
      "execution_count": 13,
      "outputs": [
        {
          "output_type": "stream",
          "text": [
            "+---------+----------+-----+\n",
            "|id_equipo|id_partido|count|\n",
            "+---------+----------+-----+\n",
            "|        1|         3|    1|\n",
            "|        1|         2|    2|\n",
            "+---------+----------+-----+\n",
            "\n"
          ],
          "name": "stdout"
        }
      ]
    },
    {
      "cell_type": "markdown",
      "metadata": {
        "id": "60kpdM1OrXua",
        "colab_type": "text"
      },
      "source": [
        "Ahora que ya tengo los goles por participación, voy a joinear los datos con los partidos que se jugaron en la liga consultada:"
      ]
    },
    {
      "cell_type": "code",
      "metadata": {
        "id": "WQcEMDPErWwA",
        "colab_type": "code",
        "colab": {}
      },
      "source": [
        "# Me quedo con las columnas que necesito\n",
        "encuentros = encuentros_liga.selectExpr('id', 'id_equipo_local', 'id_equipo_visitante') # Me quedo solo con los atributos que necesito\n",
        "\n",
        "# Joineo con id_equipo_local\n",
        "encuentros = encuentros.join(goles_por_equipo_partido, (encuentros.id==goles_por_equipo_partido.id_partido) & (encuentros.id_equipo_local==goles_por_equipo_partido.id_equipo), how=\"left\")\n",
        "encuentros = encuentros.withColumnRenamed('count', 'goles_equipo_local')\n",
        "encuentros = encuentros.selectExpr('id', 'id_equipo_local', 'id_equipo_visitante', 'goles_equipo_local') # Me quedo solo con los atributos que necesito\n",
        "\n",
        "# Joineo con id_equipo_visitante\n",
        "encuentros = encuentros.join(goles_por_equipo_partido, (encuentros.id==goles_por_equipo_partido.id_partido) & (encuentros.id_equipo_visitante==goles_por_equipo_partido.id_equipo), how=\"left\")\n",
        "encuentros = encuentros.withColumnRenamed('count', 'goles_equipo_visitante')\n",
        "\n",
        "# Me quedo unicamente con los id de partido, equipos y con los goles por equipo\n",
        "encuentros = encuentros.selectExpr('id', 'id_equipo_local', 'id_equipo_visitante', 'goles_equipo_local', 'goles_equipo_visitante') # Me quedo solo con los atributos que necesito\n"
      ],
      "execution_count": 0,
      "outputs": []
    },
    {
      "cell_type": "markdown",
      "metadata": {
        "id": "KYfBLBxOrmGi",
        "colab_type": "text"
      },
      "source": [
        "Me traigo algunas funciones pyspark para manipular los _dataframe_:"
      ]
    },
    {
      "cell_type": "code",
      "metadata": {
        "id": "hby9Lgp4rv1W",
        "colab_type": "code",
        "colab": {}
      },
      "source": [
        "from pyspark.sql.functions import when, lit, desc\n",
        "from pyspark.sql import functions as F"
      ],
      "execution_count": 0,
      "outputs": []
    },
    {
      "cell_type": "markdown",
      "metadata": {
        "id": "0OfSlqBqrx6a",
        "colab_type": "text"
      },
      "source": [
        "A continuación, ya que tengo los resultados de cada partido, le asigno puntos a cada resultado. Para ello, tengo que generar dos atributos nuevos, uno denominado __puntos_equipo_local__ y otro __puntos_equipo_visitante__:"
      ]
    },
    {
      "cell_type": "code",
      "metadata": {
        "id": "X7LJEiEosGqE",
        "colab_type": "code",
        "colab": {}
      },
      "source": [
        "# Antes, para que funcione, reemplazo los None de los equipos que no hicieron goles en los partidos por 0\n",
        "df_resultados = encuentros.withColumn('goles_equipo_local', when(encuentros.goles_equipo_local.isNull(), \n",
        "lit(0)).otherwise(encuentros.goles_equipo_local)).withColumn('goles_equipo_visitante', when(encuentros.goles_equipo_visitante.isNull(), \n",
        "lit(0)).otherwise(encuentros.goles_equipo_visitante))\n",
        "\n",
        "# Ahora veo cuantos puntos se quedaron por partido equipos locales y visitantes\n",
        "df_resultados = df_resultados.withColumn('puntos_equipo_local',\n",
        "                                        F.when((F.col(\"goles_equipo_local\") > F.col(\"goles_equipo_visitante\")), 3)\\\n",
        "                                        .when((F.col(\"goles_equipo_local\") == F.col(\"goles_equipo_visitante\")), 1)\\\n",
        "                                        .otherwise(0))\n",
        "\n",
        "df_resultados = df_resultados.withColumn('puntos_equipo_visitante',\n",
        "                                        F.when((F.col(\"goles_equipo_visitante\") > F.col(\"goles_equipo_local\")), 3)\\\n",
        "                                        .when((F.col(\"goles_equipo_visitante\") == F.col(\"goles_equipo_local\")), 1)\\\n",
        "                                        .otherwise(0))"
      ],
      "execution_count": 0,
      "outputs": []
    },
    {
      "cell_type": "markdown",
      "metadata": {
        "id": "s6cvAjy4sMCG",
        "colab_type": "text"
      },
      "source": [
        "Realizo una operación de union de id_equipo_local y id_equipo_visitante y aplano la lista, todo para luego armar la tabla de posiciones de la liga:"
      ]
    },
    {
      "cell_type": "code",
      "metadata": {
        "id": "xiUM1jE9sbxc",
        "colab_type": "code",
        "colab": {}
      },
      "source": [
        "# Elijo solo los atributos que necesito\n",
        "df_puntos_local = df_resultados.selectExpr('id', 'id_equipo_local as id_equipo', 'puntos_equipo_local as puntos')\n",
        "df_puntos_visitante = df_resultados.selectExpr('id', 'id_equipo_visitante as id_equipo', 'puntos_equipo_visitante as puntos')\n",
        "\n",
        "# Union\n",
        "df_puntaje_partido = df_puntos_local.union(df_puntos_visitante)"
      ],
      "execution_count": 0,
      "outputs": []
    },
    {
      "cell_type": "markdown",
      "metadata": {
        "id": "5pxsKydjsi5a",
        "colab_type": "text"
      },
      "source": [
        "Genero la tabla de posiciones, para ello agrupo puntos por equipo y luego joineo la tabla con el dataframe _equipos_ a efectos de traerme los nombres de los mismos:"
      ]
    },
    {
      "cell_type": "code",
      "metadata": {
        "id": "qKjQuL5vszYs",
        "colab_type": "code",
        "colab": {}
      },
      "source": [
        "# Agrupo por id_equipo, sumo los puntos obtenidos y ordeno (esta es la tabla de posiciones)\n",
        "tabla_posiciones = df_puntaje_partido.groupby('id_equipo').agg({'puntos': 'sum'})\\\n",
        "                   .sort(desc('sum(puntos)')).withColumnRenamed('sum(puntos)', 'Puntos')\n",
        "\n",
        "# Hago un join con el df equipos para traer el nombre de los equipos\n",
        "tabla_posiciones=tabla_posiciones.join(df_equipos, tabla_posiciones.id_equipo==df_equipos.id)\n",
        "tabla_posiciones=tabla_posiciones.selectExpr('nombre as Equipo', 'Puntos')"
      ],
      "execution_count": 0,
      "outputs": []
    },
    {
      "cell_type": "markdown",
      "metadata": {
        "id": "Oyfo4GUUs54t",
        "colab_type": "text"
      },
      "source": [
        "Muestro la Tabla de Posiciones:"
      ]
    },
    {
      "cell_type": "code",
      "metadata": {
        "id": "jlwOYhwFs8CC",
        "colab_type": "code",
        "outputId": "523adfe9-1d5e-4da0-9075-ff73137400cd",
        "colab": {
          "base_uri": "https://localhost:8080/",
          "height": 136
        }
      },
      "source": [
        "tabla_posiciones.show()"
      ],
      "execution_count": 19,
      "outputs": [
        {
          "output_type": "stream",
          "text": [
            "+------------+------+\n",
            "|      Equipo|Puntos|\n",
            "+------------+------+\n",
            "|BOCA JUNIORS|     6|\n",
            "| RIVER PLATE|     0|\n",
            "+------------+------+\n",
            "\n"
          ],
          "name": "stdout"
        }
      ]
    },
    {
      "cell_type": "markdown",
      "metadata": {
        "id": "dY4I8m7ZmRhi",
        "colab_type": "text"
      },
      "source": [
        "Muestro al Campeón:"
      ]
    },
    {
      "cell_type": "code",
      "metadata": {
        "id": "wrWhhbOCtCVn",
        "colab_type": "code",
        "colab": {
          "base_uri": "https://localhost:8080/",
          "height": 34
        },
        "outputId": "13c8a558-9621-4b6f-f6bc-29d2834e6468"
      },
      "source": [
        "# Con first me quedo con el campeon\n",
        "tabla_posiciones.first()"
      ],
      "execution_count": 21,
      "outputs": [
        {
          "output_type": "execute_result",
          "data": {
            "text/plain": [
              "Row(Equipo='BOCA JUNIORS', Puntos=6)"
            ]
          },
          "metadata": {
            "tags": []
          },
          "execution_count": 21
        }
      ]
    },
    {
      "cell_type": "markdown",
      "metadata": {
        "id": "Rh7AMH6huUJj",
        "colab_type": "text"
      },
      "source": [
        "Detengo el Spark Context:"
      ]
    },
    {
      "cell_type": "code",
      "metadata": {
        "id": "oUUhZsmWtHAo",
        "colab_type": "code",
        "colab": {}
      },
      "source": [
        "sc.stop()"
      ],
      "execution_count": 0,
      "outputs": []
    },
    {
      "cell_type": "markdown",
      "metadata": {
        "id": "bFViKSpXPGhL",
        "colab_type": "text"
      },
      "source": [
        ""
      ]
    },
    {
      "cell_type": "markdown",
      "metadata": {
        "id": "FsYCncgRtPe3",
        "colab_type": "text"
      },
      "source": [
        "\n",
        "\n",
        "-- <br/>\n",
        "Juan Manuel Fernandez <br />\n",
        "___Conceptos y Aplicaciones de Big Data - UNLP___"
      ]
    }
  ]
}